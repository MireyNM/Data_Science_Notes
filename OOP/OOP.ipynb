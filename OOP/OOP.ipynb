{
 "cells": [
  {
   "cell_type": "markdown",
   "id": "fbabf27a",
   "metadata": {},
   "source": [
    "# Object Oriented Programming\n",
    "\n",
    "**__init__** is called magic method <br/>"
   ]
  },
  {
   "cell_type": "code",
   "execution_count": 119,
   "id": "3c52877e",
   "metadata": {},
   "outputs": [],
   "source": [
    "# Create a Class\n",
    "class Item:\n",
    "    pay_rate = 0.8 \n",
    "    all = []\n",
    "    def __init__(self, name: str, price, quantity=1):\n",
    "        # Run validations to received argument\n",
    "        assert price >= 0, f'Price {price} is not greater or equal than zero!'\n",
    "        assert quantity >=1, 'Quantity {quantity} is not greater or equal than 1'\n",
    "        \n",
    "        # Assign the attributes (name,price,quantity) \n",
    "        # to each instance (self) that is going to be created\n",
    "        self.name = name\n",
    "        self.price = price\n",
    "        self.quantity = quantity\n",
    "        \n",
    "        # Actions to excute\n",
    "        Item.all.append(self)\n",
    "    \n",
    "    def calculate_total_price(self, *threshold):\n",
    "        print(f\"Total price of the {self.name} phone is {self.price*self.quantity}$\")\n",
    "        if threshold:\n",
    "            if self.price*self.quantity < threshold[0]:\n",
    "                print(\"Price is expensive!\")\n",
    "            else:\n",
    "                print(\"It's a good offer!\")\n",
    "                \n",
    "    def apply_discount(self):\n",
    "        #pay_rate belongs to the Item class we need to write Item.pay_rate to access it\n",
    "        self.price = self.price*self.pay_rate #If pay_rate isnt a fix value we write self.pay_rate\n",
    "    \n",
    "    def __repr__(self):\n",
    "        return f\"Item('{self.name}',{self.price},{self.quantity})\"\n",
    "    \n",
    "        \n",
    "    \n"
   ]
  },
  {
   "cell_type": "code",
   "execution_count": 102,
   "id": "756021af",
   "metadata": {},
   "outputs": [
    {
     "name": "stdout",
     "output_type": "stream",
     "text": [
      "Total price of the Iphone phone is 2400$\n",
      "Price is expensive!\n"
     ]
    }
   ],
   "source": [
    "item1=Item(\"Iphone\",1200,2)\n",
    "\n",
    "item1.calculate_total_price(89000,78)"
   ]
  },
  {
   "cell_type": "markdown",
   "id": "7618b2ce",
   "metadata": {},
   "source": [
    "## Optional arguments without a default value\n",
    "The * prefix means \"arbitrary number of positional parameters\" <br/>\n",
    "*args and ** kwargs are optional arguments without default values  <br/>"
   ]
  },
  {
   "cell_type": "code",
   "execution_count": 39,
   "id": "76644300",
   "metadata": {},
   "outputs": [
    {
     "name": "stdout",
     "output_type": "stream",
     "text": [
      "Total price of the Android phone is 900$\n"
     ]
    }
   ],
   "source": [
    "# If I don't give a quantity nb it's 1 by default \n",
    "# If no threshold cold skips last part\n",
    "item2=Item(\"Android\", 900)\n",
    "item2.calculate_total_price()"
   ]
  },
  {
   "cell_type": "markdown",
   "id": "40939525",
   "metadata": {},
   "source": [
    "## Assertion Error\n",
    "**assert** To make sure the received arguments are within the range that we want. <br/>\n",
    "If the argument value is not like the assert options : AssertionError <br/>\n",
    "We can change the AssertionError to give the error msg we want "
   ]
  },
  {
   "cell_type": "code",
   "execution_count": 45,
   "id": "8d3f5974",
   "metadata": {},
   "outputs": [
    {
     "ename": "AssertionError",
     "evalue": "Price -900 is not greater or equal than zero!",
     "output_type": "error",
     "traceback": [
      "\u001b[0;31m---------------------------------------------------------------------------\u001b[0m",
      "\u001b[0;31mAssertionError\u001b[0m                            Traceback (most recent call last)",
      "\u001b[0;32m/var/folders/22/6yjgvchj59n3fw3c208txjnm0000gn/T/ipykernel_67839/341930730.py\u001b[0m in \u001b[0;36m<module>\u001b[0;34m\u001b[0m\n\u001b[1;32m      1\u001b[0m \u001b[0;31m# Assertion error when price is negative\u001b[0m\u001b[0;34m\u001b[0m\u001b[0;34m\u001b[0m\u001b[0;34m\u001b[0m\u001b[0m\n\u001b[0;32m----> 2\u001b[0;31m \u001b[0mitem3\u001b[0m\u001b[0;34m=\u001b[0m\u001b[0mItem\u001b[0m\u001b[0;34m(\u001b[0m\u001b[0;34m\"Android\"\u001b[0m\u001b[0;34m,\u001b[0m \u001b[0;34m-\u001b[0m\u001b[0;36m900\u001b[0m\u001b[0;34m)\u001b[0m\u001b[0;34m\u001b[0m\u001b[0;34m\u001b[0m\u001b[0m\n\u001b[0m\u001b[1;32m      3\u001b[0m \u001b[0mitem2\u001b[0m\u001b[0;34m.\u001b[0m\u001b[0mcalculate_total_price\u001b[0m\u001b[0;34m(\u001b[0m\u001b[0;34m)\u001b[0m\u001b[0;34m\u001b[0m\u001b[0;34m\u001b[0m\u001b[0m\n",
      "\u001b[0;32m/var/folders/22/6yjgvchj59n3fw3c208txjnm0000gn/T/ipykernel_67839/2214002404.py\u001b[0m in \u001b[0;36m__init__\u001b[0;34m(self, name, price, quantity)\u001b[0m\n\u001b[1;32m      4\u001b[0m     \u001b[0;32mdef\u001b[0m \u001b[0m__init__\u001b[0m\u001b[0;34m(\u001b[0m\u001b[0mself\u001b[0m\u001b[0;34m,\u001b[0m \u001b[0mname\u001b[0m\u001b[0;34m:\u001b[0m \u001b[0mstr\u001b[0m\u001b[0;34m,\u001b[0m \u001b[0mprice\u001b[0m\u001b[0;34m,\u001b[0m \u001b[0mquantity\u001b[0m\u001b[0;34m=\u001b[0m\u001b[0;36m1\u001b[0m\u001b[0;34m)\u001b[0m\u001b[0;34m:\u001b[0m\u001b[0;34m\u001b[0m\u001b[0;34m\u001b[0m\u001b[0m\n\u001b[1;32m      5\u001b[0m         \u001b[0;31m# Run validations to received argument\u001b[0m\u001b[0;34m\u001b[0m\u001b[0;34m\u001b[0m\u001b[0;34m\u001b[0m\u001b[0m\n\u001b[0;32m----> 6\u001b[0;31m         \u001b[0;32massert\u001b[0m \u001b[0mprice\u001b[0m \u001b[0;34m>=\u001b[0m \u001b[0;36m0\u001b[0m\u001b[0;34m,\u001b[0m \u001b[0;34mf'Price {price} is not greater or equal than zero!'\u001b[0m\u001b[0;34m\u001b[0m\u001b[0;34m\u001b[0m\u001b[0m\n\u001b[0m\u001b[1;32m      7\u001b[0m         \u001b[0;32massert\u001b[0m \u001b[0mquantity\u001b[0m \u001b[0;34m>=\u001b[0m\u001b[0;36m1\u001b[0m\u001b[0;34m,\u001b[0m \u001b[0;34m'Quantity {quantity} is not greater or equal than 1'\u001b[0m\u001b[0;34m\u001b[0m\u001b[0;34m\u001b[0m\u001b[0m\n\u001b[1;32m      8\u001b[0m \u001b[0;34m\u001b[0m\u001b[0m\n",
      "\u001b[0;31mAssertionError\u001b[0m: Price -900 is not greater or equal than zero!"
     ]
    }
   ],
   "source": [
    "# Assertion error when price is negative \n",
    "item3=Item(\"Android\", -900)\n",
    "item2.calculate_total_price()"
   ]
  },
  {
   "cell_type": "markdown",
   "id": "8dc6632f",
   "metadata": {},
   "source": [
    "## Class attributes vs Instance attributes:\n",
    "Class attributes belong to class itself but you can access it from instance level as well. Ex: pay_rate "
   ]
  },
  {
   "cell_type": "code",
   "execution_count": 49,
   "id": "fcd2467a",
   "metadata": {},
   "outputs": [
    {
     "data": {
      "text/plain": [
       "0.8"
      ]
     },
     "execution_count": 49,
     "metadata": {},
     "output_type": "execute_result"
    }
   ],
   "source": [
    "# Access class attribute from Class\n",
    "Item.pay_rate"
   ]
  },
  {
   "cell_type": "code",
   "execution_count": 51,
   "id": "a5c4c512",
   "metadata": {},
   "outputs": [
    {
     "data": {
      "text/plain": [
       "0.8"
      ]
     },
     "execution_count": 51,
     "metadata": {},
     "output_type": "execute_result"
    }
   ],
   "source": [
    "# Access class attribute from instance level\n",
    "item1.pay_rate"
   ]
  },
  {
   "cell_type": "code",
   "execution_count": 53,
   "id": "822cac44",
   "metadata": {},
   "outputs": [
    {
     "data": {
      "text/plain": [
       "mappingproxy({'__module__': '__main__',\n",
       "              'pay_rate': 0.8,\n",
       "              '__init__': <function __main__.Item.__init__(self, name: str, price, quantity=1)>,\n",
       "              'calculate_total_price': <function __main__.Item.calculate_total_price(self, *threshold)>,\n",
       "              '__dict__': <attribute '__dict__' of 'Item' objects>,\n",
       "              '__weakref__': <attribute '__weakref__' of 'Item' objects>,\n",
       "              '__doc__': None})"
      ]
     },
     "execution_count": 53,
     "metadata": {},
     "output_type": "execute_result"
    }
   ],
   "source": [
    "# Access all attributes for class level\n",
    "Item.__dict__"
   ]
  },
  {
   "cell_type": "code",
   "execution_count": 75,
   "id": "e0c3bbaa",
   "metadata": {},
   "outputs": [
    {
     "data": {
      "text/plain": [
       "{'name': 'Iphone', 'price': 1200, 'quantity': 2}"
      ]
     },
     "execution_count": 75,
     "metadata": {},
     "output_type": "execute_result"
    }
   ],
   "source": [
    "# Access all attributes for instance level\n",
    "item1.__dict__"
   ]
  },
  {
   "cell_type": "code",
   "execution_count": 89,
   "id": "12300d18",
   "metadata": {},
   "outputs": [
    {
     "name": "stdout",
     "output_type": "stream",
     "text": [
      "960.0\n"
     ]
    }
   ],
   "source": [
    "# Print Item 1 price after 20% disount - Discount could be accessible from Class level\n",
    "item1.apply_discount()\n",
    "print(item1.price)"
   ]
  },
  {
   "cell_type": "code",
   "execution_count": 90,
   "id": "fbce734d",
   "metadata": {},
   "outputs": [
    {
     "data": {
      "text/plain": [
       "700.0"
      ]
     },
     "execution_count": 90,
     "metadata": {},
     "output_type": "execute_result"
    }
   ],
   "source": [
    "# Assign the attribute directly to one of the instances that would like to have a differenr discount code\n",
    "item4=Item(\"Android\", 1000,3)\n",
    "\n",
    "# 30% discount is accessible now fom instance level \n",
    "item4.pay_rate=0.7\n",
    "item4.apply_discount()\n",
    "item4.price"
   ]
  },
  {
   "cell_type": "code",
   "execution_count": 120,
   "id": "7a34cf38",
   "metadata": {},
   "outputs": [
    {
     "name": "stdout",
     "output_type": "stream",
     "text": [
      "[Item('Phone',100,1), Item('Laptop',1000,3), Item('Cable',10,5), Item('Mouse',50,5), Item('Keyboard',75,5)]\n"
     ]
    }
   ],
   "source": [
    "# List of 5 instances \n",
    "item5 = Item(\"Phone\", 100, 1)\n",
    "item6 = Item(\"Laptop\", 1000, 3)\n",
    "item7 = Item(\"Cable\", 10, 5)\n",
    "item8 = Item(\"Mouse\", 50, 5)\n",
    "item9 = Item(\"Keyboard\", 75, 5)\n",
    "\n",
    "print(Item.all)"
   ]
  },
  {
   "cell_type": "code",
   "execution_count": 121,
   "id": "ed4e25b7",
   "metadata": {},
   "outputs": [
    {
     "name": "stdout",
     "output_type": "stream",
     "text": [
      "Item('Phone',100,1)\n",
      "Item('Laptop',1000,3)\n",
      "Item('Cable',10,5)\n",
      "Item('Mouse',50,5)\n",
      "Item('Keyboard',75,5)\n"
     ]
    }
   ],
   "source": [
    "# def__repr__() allows this unique output\n",
    "for instance in Item.all:\n",
    "    print(instance)"
   ]
  },
  {
   "cell_type": "markdown",
   "id": "37b630bb",
   "metadata": {},
   "source": [
    "## Create a csv file and read from it"
   ]
  },
  {
   "cell_type": "code",
   "execution_count": 139,
   "id": "29607914",
   "metadata": {},
   "outputs": [
    {
     "name": "stdout",
     "output_type": "stream",
     "text": [
      "5\n",
      "1\n",
      "12\n",
      "123\n",
      "1234\n",
      "12345\n"
     ]
    }
   ],
   "source": [
    "for i in range(1,int(input())+1): #More than 2 lines will result in 0 score. Do not leave a blank line also\n",
    "    print(*range(1,i+1), sep='')\n",
    "    "
   ]
  },
  {
   "cell_type": "code",
   "execution_count": 129,
   "id": "f76529d0",
   "metadata": {},
   "outputs": [
    {
     "ename": "SyntaxError",
     "evalue": "invalid syntax (4261707380.py, line 1)",
     "output_type": "error",
     "traceback": [
      "\u001b[0;36m  File \u001b[0;32m\"/var/folders/22/6yjgvchj59n3fw3c208txjnm0000gn/T/ipykernel_67839/4261707380.py\"\u001b[0;36m, line \u001b[0;32m1\u001b[0m\n\u001b[0;31m    for i in range(0,5) print (i)\u001b[0m\n\u001b[0m                            ^\u001b[0m\n\u001b[0;31mSyntaxError\u001b[0m\u001b[0;31m:\u001b[0m invalid syntax\n"
     ]
    }
   ],
   "source": [
    "for i in range(0,5) print (i)"
   ]
  },
  {
   "cell_type": "code",
   "execution_count": null,
   "id": "5c7617f9",
   "metadata": {},
   "outputs": [],
   "source": [
    "(12.40 )"
   ]
  }
 ],
 "metadata": {
  "kernelspec": {
   "display_name": "PythonData",
   "language": "python",
   "name": "pythondata"
  },
  "language_info": {
   "codemirror_mode": {
    "name": "ipython",
    "version": 3
   },
   "file_extension": ".py",
   "mimetype": "text/x-python",
   "name": "python",
   "nbconvert_exporter": "python",
   "pygments_lexer": "ipython3",
   "version": "3.7.13"
  }
 },
 "nbformat": 4,
 "nbformat_minor": 5
}
