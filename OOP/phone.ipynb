{
 "cells": [
  {
   "cell_type": "code",
   "execution_count": 2,
   "id": "9955d93e",
   "metadata": {},
   "outputs": [
    {
     "ename": "ModuleNotFoundError",
     "evalue": "No module named 'item'",
     "output_type": "error",
     "traceback": [
      "\u001b[0;31m---------------------------------------------------------------------------\u001b[0m",
      "\u001b[0;31mModuleNotFoundError\u001b[0m                       Traceback (most recent call last)",
      "\u001b[0;32m/var/folders/22/6yjgvchj59n3fw3c208txjnm0000gn/T/ipykernel_32842/2414994778.py\u001b[0m in \u001b[0;36m<module>\u001b[0;34m\u001b[0m\n\u001b[0;32m----> 1\u001b[0;31m \u001b[0;32mfrom\u001b[0m \u001b[0mitem\u001b[0m \u001b[0;32mimport\u001b[0m \u001b[0mItem\u001b[0m\u001b[0;34m\u001b[0m\u001b[0;34m\u001b[0m\u001b[0m\n\u001b[0m\u001b[1;32m      2\u001b[0m \u001b[0;34m\u001b[0m\u001b[0m\n\u001b[1;32m      3\u001b[0m \u001b[0;32mclass\u001b[0m \u001b[0mPhone\u001b[0m\u001b[0;34m(\u001b[0m\u001b[0mItem\u001b[0m\u001b[0;34m)\u001b[0m\u001b[0;34m:\u001b[0m\u001b[0;34m\u001b[0m\u001b[0;34m\u001b[0m\u001b[0m\n\u001b[1;32m      4\u001b[0m     \u001b[0mall\u001b[0m \u001b[0;34m=\u001b[0m \u001b[0;34m[\u001b[0m\u001b[0;34m]\u001b[0m\u001b[0;34m\u001b[0m\u001b[0;34m\u001b[0m\u001b[0m\n\u001b[1;32m      5\u001b[0m     \u001b[0;32mdef\u001b[0m \u001b[0m__init__\u001b[0m\u001b[0;34m(\u001b[0m\u001b[0mself\u001b[0m\u001b[0;34m,\u001b[0m \u001b[0mname\u001b[0m\u001b[0;34m:\u001b[0m \u001b[0mstr\u001b[0m\u001b[0;34m,\u001b[0m \u001b[0mprice\u001b[0m\u001b[0;34m:\u001b[0m \u001b[0mfloat\u001b[0m\u001b[0;34m,\u001b[0m \u001b[0mquantity\u001b[0m\u001b[0;34m=\u001b[0m\u001b[0;36m0\u001b[0m\u001b[0;34m,\u001b[0m \u001b[0mbroken_phones\u001b[0m\u001b[0;34m=\u001b[0m\u001b[0;36m0\u001b[0m\u001b[0;34m)\u001b[0m\u001b[0;34m:\u001b[0m\u001b[0;34m\u001b[0m\u001b[0;34m\u001b[0m\u001b[0m\n",
      "\u001b[0;31mModuleNotFoundError\u001b[0m: No module named 'item'"
     ]
    }
   ],
   "source": [
    "from item import Item \n",
    "\n",
    "class Phone(Item):\n",
    "    all = []\n",
    "    def __init__(self, name: str, price: float, quantity=0, broken_phones=0):\n",
    "        \n",
    "        # Run validations to the received arguments \n",
    "        #assert price >= 0, f\"Price {price} is not greater than or equal to zero!\"\n",
    "        #assert quantity >= 0, f\"Quantity {quantity} is not greater or equal to zero!\"\n",
    "        #assert broken_phones >= 0, f\"Broken Phones {broken_phones} is not greater or equal to zero!\"\n",
    "        \n",
    "        # Assign to self object\n",
    "        #self.name = name\n",
    "        #self.price = price\n",
    "        #self.quantity = quantity\n",
    "        #self.broken_phones = broken_phones\n",
    "        \n",
    "        Phone.all.append(self)\n",
    "        # Call to super function to have access to all Parent attributes / methods\n",
    "        super().__init__(\n",
    "            name, price, quantity\n",
    "        )\n",
    "\n",
    "        # Run validations to the received arguments\n",
    "        assert broken_phones >= 0, f\"Broken Phones {broken_phones} is not greater or equal to zero!\"\n",
    "\n",
    "        # Assign to self object\n",
    "        self.broken_phones = broken_phones"
   ]
  },
  {
   "cell_type": "code",
   "execution_count": null,
   "id": "f487bcf2",
   "metadata": {},
   "outputs": [],
   "source": []
  }
 ],
 "metadata": {
  "kernelspec": {
   "display_name": "Python 3 (ipykernel)",
   "language": "python",
   "name": "python3"
  },
  "language_info": {
   "codemirror_mode": {
    "name": "ipython",
    "version": 3
   },
   "file_extension": ".py",
   "mimetype": "text/x-python",
   "name": "python",
   "nbconvert_exporter": "python",
   "pygments_lexer": "ipython3",
   "version": "3.7.13"
  }
 },
 "nbformat": 4,
 "nbformat_minor": 5
}
