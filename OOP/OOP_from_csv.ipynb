{
 "cells": [
  {
   "cell_type": "markdown",
   "metadata": {},
   "source": [
    "# Open CSV file \n",
    "## Class method"
   ]
  },
  {
   "cell_type": "code",
   "execution_count": 21,
   "metadata": {},
   "outputs": [
    {
     "name": "stdout",
     "output_type": "stream",
     "text": [
      "[Item('Phone',100.0,1.0), Item('Laptop',1000.0,3.0), Item('Cable',1.0,5.0), Item('Mouse',50.0,5.0), Item('Keyboard',75.0,5.0)]\n"
     ]
    }
   ],
   "source": [
    "# Import csv library \n",
    "import csv \n",
    "\n",
    "# Create a Class\n",
    "class Item:\n",
    "    pay_rate = 0.8 \n",
    "    all = []\n",
    "    def __init__(self, name: str, price, quantity=1):\n",
    "        # Run validations to received argument\n",
    "        assert price >= 0, f'Price {price} is not greater or equal than zero!'\n",
    "        assert quantity >=1, 'Quantity {quantity} is not greater or equal than 1'\n",
    "        \n",
    "        # Assign the attributes (name,price,quantity) \n",
    "        # to each instance (self) that is going to be created\n",
    "        self.name = name\n",
    "        self.price = price\n",
    "        self.quantity = quantity\n",
    "        \n",
    "        # Actions to excute\n",
    "        Item.all.append(self)\n",
    "    \n",
    "    def calculate_total_price(self, *threshold):\n",
    "        print(f\"Total price of the {self.name} phone is {self.price*self.quantity}$\")\n",
    "        if threshold:\n",
    "            if self.price*self.quantity < threshold[0]:\n",
    "                print(\"Price is expensive!\")\n",
    "            else:\n",
    "                print(\"It's a good offer!\")\n",
    "                \n",
    "    def apply_discount(self):\n",
    "        #pay_rate belongs to the Item class we need to write Item.pay_rate to access it\n",
    "        self.price = self.price*self.pay_rate #If pay_rate isnt a fix value we write self.pay_rate\n",
    "    \n",
    "    @classmethod #when we call the classmethod, the class object is passed as the first argument in the background\n",
    "    def instantiate_from_csv(cls):\n",
    "        with open('items.csv','r') as f:\n",
    "            # Read csv file and convert it to Python dictionary \n",
    "            reader = csv.DictReader(f)\n",
    "            # Convert it into list\n",
    "            items = list(reader)\n",
    "        \n",
    "        for item in items:\n",
    "            Item(\n",
    "                name = item.get('name'),\n",
    "                price = float(item.get('price')),\n",
    "                quantity = float(item.get('quantity'))\n",
    "            )\n",
    "        \n",
    "\n",
    "    def __repr__(self):\n",
    "        return f\"Item('{self.name}',{self.price},{self.quantity})\"\n",
    "\n",
    "    # Class object   \n",
    "Item.instantiate_from_csv()\n",
    "print(Item.all)\n",
    "        "
   ]
  },
  {
   "cell_type": "markdown",
   "metadata": {},
   "source": [
    "## Static method\n",
    "Write a static method to check if the received number is an integer or not"
   ]
  },
  {
   "cell_type": "code",
   "execution_count": 11,
   "metadata": {},
   "outputs": [
    {
     "name": "stdout",
     "output_type": "stream",
     "text": [
      "True\n"
     ]
    }
   ],
   "source": [
    "# Import csv library \n",
    "import csv \n",
    "\n",
    "# Create a Class\n",
    "class Item:\n",
    "    pay_rate = 0.8 \n",
    "    all = []\n",
    "    def __init__(self, name: str, price, quantity=1):\n",
    "        # Run validations to received argument\n",
    "        assert price >= 0, f'Price {price} is not greater or equal than zero!'\n",
    "        assert quantity >=1, 'Quantity {quantity} is not greater or equal than 1'\n",
    "        \n",
    "        # Assign the attributes (name,price,quantity) \n",
    "        # to each instance (self) that is going to be created\n",
    "        self.name = name\n",
    "        self.price = price\n",
    "        self.quantity = quantity\n",
    "        \n",
    "        # Actions to excute\n",
    "        Item.all.append(self)\n",
    "    \n",
    "    def calculate_total_price(self, *threshold):\n",
    "        print(f\"Total price of the {self.name} phone is {self.price*self.quantity}$\")\n",
    "        if threshold:\n",
    "            if self.price*self.quantity < threshold[0]:\n",
    "                print(\"Price is expensive!\")\n",
    "            else:\n",
    "                print(\"It's a good offer!\")\n",
    "                \n",
    "    def apply_discount(self):\n",
    "        #pay_rate belongs to the Item class we need to write Item.pay_rate to access it\n",
    "        self.price = self.price*self.pay_rate #If pay_rate isnt a fix value we write self.pay_rate\n",
    "    \n",
    "    @classmethod #when we call the classmethod, the class object is passed as the first argument in the background\n",
    "    def instantiate_from_csv(cls):\n",
    "        with open('items.csv','r') as f:\n",
    "            # Read csv file and convert it to Python dictionary \n",
    "            reader = csv.DictReader(f)\n",
    "            # Convert it into list\n",
    "            items = list(reader)\n",
    "        \n",
    "        for item in items:\n",
    "            Item(\n",
    "                name = item.get('name'),\n",
    "                price = float(item.get('price')),\n",
    "                quantity = float(item.get('quantity'))\n",
    "            )\n",
    "    \n",
    "    @staticmethod #unlike class method the staticmethod doesn't send the class reference as first argument\n",
    "    def is_integer(num):\n",
    "        # We will count out the floats that are .zero (5.0-10.0)\n",
    "        if isinstance(num,float):\n",
    "            # Count out the floats that are .zero\n",
    "            return num.is_integer() \n",
    "        elif isinstance(num,int):\n",
    "            return True \n",
    "        else:\n",
    "            return False\n",
    "    \n",
    "\n",
    "    def __repr__(self):\n",
    "        return f\"Item('{self.name}',{self.price},{self.quantity})\"\n",
    "\n",
    "# Access Classinc method: Class_name.Function_name\n",
    "print(Item.is_integer(7))\n",
    "\n",
    "        "
   ]
  },
  {
   "cell_type": "code",
   "execution_count": 12,
   "metadata": {},
   "outputs": [
    {
     "name": "stdout",
     "output_type": "stream",
     "text": [
      "True\n"
     ]
    }
   ],
   "source": [
    "print(Item.is_integer(7.0))"
   ]
  },
  {
   "cell_type": "code",
   "execution_count": 14,
   "metadata": {},
   "outputs": [
    {
     "name": "stdout",
     "output_type": "stream",
     "text": [
      "False\n"
     ]
    }
   ],
   "source": [
    "print(Item.is_integer(7.5))"
   ]
  },
  {
   "cell_type": "markdown",
   "metadata": {},
   "source": [
    "# Class vs Static method\n",
    "When to use class methods and when to use static methods ? \n",
    "\n",
    "class Item:\n",
    "    @staticmethod\n",
    "    def is_integer():\n",
    "        '''\n",
    "        This should do something that has a relationship\n",
    "        with the class, but not something that must be unique\n",
    "        per instance!\n",
    "        '''\n",
    "    @classmethod\n",
    "    def instantiate_from_something(cls):\n",
    "        '''\n",
    "        This should also do something that has a relationship\n",
    "        with the class, but usually, those are used to\n",
    "        manipulate different structures of data to instantiate\n",
    "        objects, like we have done with CSV.\n",
    "        '''\n",
    "\n",
    "# THE ONLY DIFFERENCE BETWEEN THOSE:\n",
    "# Static methods are not passing the object reference as the first argument in the background!\n",
    "\n"
   ]
  }
 ],
 "metadata": {
  "kernelspec": {
   "display_name": "Python 3 (ipykernel)",
   "language": "python",
   "name": "python3"
  },
  "language_info": {
   "codemirror_mode": {
    "name": "ipython",
    "version": 3
   },
   "file_extension": ".py",
   "mimetype": "text/x-python",
   "name": "python",
   "nbconvert_exporter": "python",
   "pygments_lexer": "ipython3",
   "version": "3.7.13"
  },
  "vscode": {
   "interpreter": {
    "hash": "451b79a5f325c1513d4c349802f3881d12d7273af7aa115033c8672168732b8b"
   }
  }
 },
 "nbformat": 4,
 "nbformat_minor": 2
}
