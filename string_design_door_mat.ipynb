{
 "cells": [
  {
   "cell_type": "markdown",
   "id": "3e5e92b3",
   "metadata": {},
   "source": [
    "**HackerRank Exercice**\n",
    "Mr. Vincent works in a door mat manufacturing company. One day, he designed a new door mat with the following specifications:\n",
    "\n",
    "* Mat size must be X. ( is an odd natural number, and  is  times .)\n",
    "* The design should have 'WELCOME' written in the center.\n",
    "* The design pattern should only use |, . and - characters."
   ]
  },
  {
   "cell_type": "code",
   "execution_count": 37,
   "id": "e39f1561",
   "metadata": {},
   "outputs": [
    {
     "name": "stdout",
     "output_type": "stream",
     "text": [
      "---------.|.---------\n",
      "------.|..|..|.------\n",
      "---.|..|..|..|..|.---\n",
      "-------WELCOME-------\n",
      "---.|..|..|..|..|.---\n",
      "------.|..|..|.------\n",
      "---------.|.---------\n"
     ]
    }
   ],
   "source": [
    "N=7\n",
    "odd=[]\n",
    "for i in range(N):\n",
    "    width = 3*N\n",
    "    if i%2 != 0:\n",
    "        odd.append(i)\n",
    "        print (('.|.'*i).center(width,'-'))\n",
    "print('WELCOME'.center(width,'-'))\n",
    "\n",
    "for nb in reversed(odd):\n",
    "    print (('.|.'*nb).center(width,'-')) \n",
    "\n"
   ]
  },
  {
   "cell_type": "code",
   "execution_count": 36,
   "id": "067c3b39",
   "metadata": {},
   "outputs": [
    {
     "name": "stdout",
     "output_type": "stream",
     "text": [
      "11 33\n",
      "---------------.|.---------------\n",
      "------------.|..|..|.------------\n",
      "---------.|..|..|..|..|.---------\n",
      "------.|..|..|..|..|..|..|.------\n",
      "---.|..|..|..|..|..|..|..|..|.---\n",
      "-------------WELCOME-------------\n",
      "---.|..|..|..|..|..|..|..|..|.---\n",
      "------.|..|..|..|..|..|..|.------\n",
      "---------.|..|..|..|..|.---------\n",
      "------------.|..|..|.------------\n",
      "---------------.|.---------------\n"
     ]
    }
   ],
   "source": [
    "# Enter your code here. Read input from STDIN. Print output to STDOUT\n",
    "N, M = map(int, input().split())\n",
    "# Create an empty list for odd numbers\n",
    "odd=[]\n",
    "# Iterate through the N to print upper part of the carpet\n",
    "for i in range(N):\n",
    "    #M = 3*N\n",
    "    if i%2 != 0:\n",
    "        odd.append(i)\n",
    "        print (('.|.'*i).center(M,'-'))\n",
    "print('WELCOME'.center(M,'-'))\n",
    "\n",
    "# Iterte through the reversed odd list nb to print the lower part \n",
    "for nb in reversed(odd):\n",
    "    print (('.|.'*nb).center(M,'-'))\n",
    "    "
   ]
  }
 ],
 "metadata": {
  "kernelspec": {
   "display_name": "PythonData",
   "language": "python",
   "name": "pythondata"
  },
  "language_info": {
   "codemirror_mode": {
    "name": "ipython",
    "version": 3
   },
   "file_extension": ".py",
   "mimetype": "text/x-python",
   "name": "python",
   "nbconvert_exporter": "python",
   "pygments_lexer": "ipython3",
   "version": "3.7.13"
  }
 },
 "nbformat": 4,
 "nbformat_minor": 5
}
