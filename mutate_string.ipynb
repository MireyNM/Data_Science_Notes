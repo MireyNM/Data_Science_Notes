{
 "cells": [
  {
   "cell_type": "markdown",
   "id": "ae4dad5a",
   "metadata": {},
   "source": [
    "You are given an immutable string, and you want to make changes to it."
   ]
  },
  {
   "cell_type": "code",
   "execution_count": 5,
   "id": "eb6770be",
   "metadata": {},
   "outputs": [
    {
     "data": {
      "text/plain": [
       "'abracKdabra'"
      ]
     },
     "execution_count": 5,
     "metadata": {},
     "output_type": "execute_result"
    }
   ],
   "source": [
    "def mutate_string(string, position, character):\n",
    "    s = string \n",
    "    return s[:position]+ character + s[position+1:]\n",
    "\n",
    "\n",
    "mutate_string('abracadabra', 5, 'K')\n"
   ]
  },
  {
   "cell_type": "code",
   "execution_count": 22,
   "id": "0892a07f",
   "metadata": {},
   "outputs": [
    {
     "name": "stdout",
     "output_type": "stream",
     "text": [
      "3*1=0\n",
      "3*2=3\n",
      "3*3=6\n",
      "3*4=9\n",
      "3*5=12\n"
     ]
    }
   ],
   "source": [
    "for i in range(5):\n",
    "    \n",
    "    print (f'3*{i+1}={3*i}')"
   ]
  },
  {
   "cell_type": "code",
   "execution_count": 28,
   "id": "e43202a1",
   "metadata": {},
   "outputs": [
    {
     "name": "stdout",
     "output_type": "stream",
     "text": [
      "2x1=0\n",
      "2x2=3\n",
      "2x3=6\n",
      "2x4=9\n",
      "2x5=12\n",
      "2x6=15\n",
      "2x7=18\n",
      "2x8=21\n",
      "2x9=24\n",
      "2x10=27\n"
     ]
    }
   ],
   "source": [
    "n = 2\n",
    "for i in range(10):\n",
    "    print(f'{n}x{i+1}={3*i}')"
   ]
  }
 ],
 "metadata": {
  "kernelspec": {
   "display_name": "PythonData",
   "language": "python",
   "name": "pythondata"
  },
  "language_info": {
   "codemirror_mode": {
    "name": "ipython",
    "version": 3
   },
   "file_extension": ".py",
   "mimetype": "text/x-python",
   "name": "python",
   "nbconvert_exporter": "python",
   "pygments_lexer": "ipython3",
   "version": "3.7.13"
  }
 },
 "nbformat": 4,
 "nbformat_minor": 5
}
