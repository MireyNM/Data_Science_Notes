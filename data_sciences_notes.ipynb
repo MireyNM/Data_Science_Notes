{
 "cells": [
  {
   "cell_type": "markdown",
   "id": "29b568e2",
   "metadata": {},
   "source": [
    "# Python Collections (Arrays)\n",
    "There are four collection data types in the Python programming language:\n",
    "\n",
    "* **List** is a collection which is ordered and changeable. Allows duplicate members.\n",
    "* **Tuple** is a collection which is ordered and unchangeable. Allows duplicate members.\n",
    "* **Set** is a collection which is unordered, unchangeable*, and unindexed. No duplicate members.\n",
    "* **Dictionary** is a collection which is ordered** and changeable. No duplicate members."
   ]
  },
  {
   "cell_type": "markdown",
   "id": "ae3f9756",
   "metadata": {},
   "source": [
    "##  3- Sets\n",
    "True and 1 are considered the same value in sets, and are treated as duplicates.\n",
    "\n",
    "**x.intersection_update(y)** keep only the items that are present in both sets (x and y) <br\\>\n",
    "**x.symmetric_difference_update(y)** keep only the elements that are NOT present in both sets. <br\\>\n",
    "**issubset()** Returns whether another set contains this set or not (T/F)\n",
    "https://www.w3schools.com/python/python_sets_methods.asp \n",
    "\n",
    "##  4- Dictionnary\n",
    "**dict.keys()** return a list of all the keys in the dictionary.\n",
    "**dict.values()** return a list of all the values in the dictionary.\n",
    "**dict.items()** method will return each item (key,value) in a dictionary, as tuples in a list.\n",
    "**dict.update({\"key\": new_value})** change values\n",
    "**delete dict(\"key_name\")** remove item with specified key name\n",
    "**dict.pop(\"key_name\")** remove item with specified key name\n",
    "**dict.popitem ()** remove random item "
   ]
  },
  {
   "cell_type": "code",
   "execution_count": 41,
   "id": "413ae06b",
   "metadata": {},
   "outputs": [
    {
     "name": "stdout",
     "output_type": "stream",
     "text": [
      "brand\n",
      "model\n",
      "year\n"
     ]
    }
   ],
   "source": [
    "# Print key names\n",
    "thisdict =\t{\n",
    "  \"brand\": \"Ford\",\n",
    "  \"model\": \"Mustang\",\n",
    "  \"year\": 1964\n",
    "}\n",
    "for x in thisdict:\n",
    "  print(x)"
   ]
  },
  {
   "cell_type": "code",
   "execution_count": 42,
   "id": "a430d797",
   "metadata": {},
   "outputs": [
    {
     "name": "stdout",
     "output_type": "stream",
     "text": [
      "Ford\n",
      "Mustang\n",
      "1964\n"
     ]
    }
   ],
   "source": [
    "# Print all values\n",
    "for x in thisdict:\n",
    "  print(thisdict[x])"
   ]
  },
  {
   "cell_type": "code",
   "execution_count": 43,
   "id": "2d9f117a",
   "metadata": {},
   "outputs": [
    {
     "name": "stdout",
     "output_type": "stream",
     "text": [
      "Ford\n",
      "Mustang\n",
      "1964\n"
     ]
    }
   ],
   "source": [
    "# Print all values .values() method\n",
    "for x in thisdict.values():\n",
    "  print(x)"
   ]
  },
  {
   "cell_type": "code",
   "execution_count": 44,
   "id": "fad5dd56",
   "metadata": {},
   "outputs": [
    {
     "name": "stdout",
     "output_type": "stream",
     "text": [
      "brand\n",
      "model\n",
      "year\n"
     ]
    }
   ],
   "source": [
    "#  keys() method to return the keys of a dictionary:\n",
    "for x in thisdict.keys():\n",
    "  print(x)"
   ]
  },
  {
   "cell_type": "code",
   "execution_count": 45,
   "id": "eabb88bb",
   "metadata": {},
   "outputs": [
    {
     "name": "stdout",
     "output_type": "stream",
     "text": [
      "brand Ford\n",
      "model Mustang\n",
      "year 1964\n"
     ]
    }
   ],
   "source": [
    "# Loop through both keys and values\n",
    "for x, y in thisdict.items():\n",
    "  print(x, y)"
   ]
  },
  {
   "cell_type": "markdown",
   "id": "665c67a2",
   "metadata": {},
   "source": [
    "# Strings\n",
    "**.split(\" \")** to split strings\n",
    "\n",
    "**.join()** takes all items in an iterable and joins them into one string. **I though it adds one time \"-\" but it's an iteration**"
   ]
  },
  {
   "cell_type": "code",
   "execution_count": 79,
   "id": "78646c7b",
   "metadata": {},
   "outputs": [
    {
     "data": {
      "text/plain": [
       "'This-is-a-string'"
      ]
     },
     "execution_count": 79,
     "metadata": {},
     "output_type": "execute_result"
    }
   ],
   "source": [
    "# Split and join function \n",
    "def split_and_join(line):\n",
    "    # write your code here\n",
    "    split_line = line.split(\" \")\n",
    "    output= \"-\".join(split_line)\n",
    "    return(output)\n",
    "\n",
    "split_and_join(\"This is a string\")"
   ]
  },
  {
   "cell_type": "code",
   "execution_count": 82,
   "id": "1ddaea99",
   "metadata": {},
   "outputs": [
    {
     "name": "stdout",
     "output_type": "stream",
     "text": [
      "Hello there ?\n"
     ]
    }
   ],
   "source": [
    "# .join() can transform an array into string\n",
    "string=[\"Hello\", \"there\",\"?\"]\n",
    "outpout = \" \".join(string)\n",
    "print(outpout)"
   ]
  },
  {
   "cell_type": "markdown",
   "id": "f8ae9a73",
   "metadata": {},
   "source": [
    "**.append()** to add to a list \n",
    "\n",
    "**+** to add a string (word=\"\" to create empty string)"
   ]
  },
  {
   "cell_type": "markdown",
   "id": "c85f5ce1",
   "metadata": {},
   "source": [
    "**.lower()** Converting to LowerCase  \n",
    "\n",
    "**.upper()** Converting to Upper Case\n",
    "\n",
    "**.capitalize()** only the first letter in the string will be capitalized\n",
    "\n",
    "### String find( )\n",
    "**.find(\"xyz\")** The find() method returns the index of first occurrence of the substring (if found). <br /> \n",
    "If not found, it returns -1."
   ]
  },
  {
   "cell_type": "code",
   "execution_count": 10,
   "id": "5206ace6",
   "metadata": {},
   "outputs": [
    {
     "data": {
      "text/plain": [
       "0"
      ]
     },
     "execution_count": 10,
     "metadata": {},
     "output_type": "execute_result"
    }
   ],
   "source": [
    "string = \"ABCDABF\"\n",
    "string.find(\"AB\")"
   ]
  },
  {
   "cell_type": "markdown",
   "id": "2607166a",
   "metadata": {},
   "source": [
    "**.rfind( )** will look in a string from right to left"
   ]
  },
  {
   "cell_type": "code",
   "execution_count": 11,
   "id": "0c0dfead",
   "metadata": {},
   "outputs": [
    {
     "data": {
      "text/plain": [
       "4"
      ]
     },
     "execution_count": 11,
     "metadata": {},
     "output_type": "execute_result"
    }
   ],
   "source": [
    "string.rfind(\"AB\")"
   ]
  },
  {
   "cell_type": "markdown",
   "id": "06a9c752",
   "metadata": {},
   "source": [
    "**string.find(value, start, end)** ; returns the index of 1st occurence between selected ramges"
   ]
  },
  {
   "cell_type": "code",
   "execution_count": 25,
   "id": "14a0effd",
   "metadata": {},
   "outputs": [
    {
     "data": {
      "text/plain": [
       "3"
      ]
     },
     "execution_count": 25,
     "metadata": {},
     "output_type": "execute_result"
    }
   ],
   "source": [
    "str=\"ABCDCDC\"\n",
    "sub=\"DC\"\n",
    "str.find(sub, 0, -2)"
   ]
  },
  {
   "cell_type": "markdown",
   "id": "84fec0b4",
   "metadata": {},
   "source": [
    "### String Validators\n",
    "**str.isalnum()** Checks if **ALL** the characters of a string are alphanumeric (a-z, A-Z and 0-9 <br />\n",
    "**str.isalpha()** Checks if **ALL** the characters of a string are alphabetical (a-z and A-Z). <br/>\n",
    "**str.isdigit()** Checks if **ALL** the characters of a string are digits (0-9) <br/>\n",
    "**str.islower()** and **str.isupper()** Checks if **ALL** the characters of a string are lowercase/uppercase\n"
   ]
  },
  {
   "cell_type": "code",
   "execution_count": 69,
   "id": "999f1a8e",
   "metadata": {},
   "outputs": [
    {
     "name": "stdout",
     "output_type": "stream",
     "text": [
      "True\n"
     ]
    }
   ],
   "source": [
    "s=\"abc\"\n",
    "print(s.isalnum())"
   ]
  },
  {
   "cell_type": "markdown",
   "id": "dfe75f54",
   "metadata": {},
   "source": [
    "### Text alignment"
   ]
  },
  {
   "cell_type": "code",
   "execution_count": 78,
   "id": "de809959",
   "metadata": {},
   "outputs": [
    {
     "name": "stdout",
     "output_type": "stream",
     "text": [
      "HackerRank----------\n"
     ]
    }
   ],
   "source": [
    "width = 20\n",
    "print ('HackerRank'.ljust(width,'-')) "
   ]
  },
  {
   "cell_type": "code",
   "execution_count": 74,
   "id": "bafaa23e",
   "metadata": {},
   "outputs": [
    {
     "name": "stdout",
     "output_type": "stream",
     "text": [
      "-----HackerRank-----\n"
     ]
    }
   ],
   "source": [
    "print ('HackerRank'.center(width,'-'))"
   ]
  },
  {
   "cell_type": "code",
   "execution_count": 76,
   "id": "ead7c8cf",
   "metadata": {},
   "outputs": [
    {
     "name": "stdout",
     "output_type": "stream",
     "text": [
      "----------HackerRank\n"
     ]
    }
   ],
   "source": [
    "print ('HackerRank'.rjust(width,'-'))"
   ]
  },
  {
   "cell_type": "markdown",
   "id": "2c93df32",
   "metadata": {},
   "source": [
    "# Functions\n",
    "\n",
    "### Parameters vs Arguments \n",
    "The terms parameter and argument can be used for the same thing: information that are passed into a function.\n",
    "A parameter is the variable listed inside the parentheses in the function definition. <br\\>\n",
    "An argument is the value that is sent to the function when it is called.\n",
    "\n",
    "### *args \n",
    "If you do not know how many arguments that will be passed into your function, add a * <br\\>\n",
    "\n",
    "### Arbitrary Keyword Arguments, **kwargs\n",
    "If the number of keyword arguments is unknown, add a double ** before the parameter name:"
   ]
  },
  {
   "cell_type": "code",
   "execution_count": 46,
   "id": "107f9696",
   "metadata": {},
   "outputs": [
    {
     "name": "stdout",
     "output_type": "stream",
     "text": [
      "His last name is Refsnes\n"
     ]
    }
   ],
   "source": [
    "def my_function(**kid):\n",
    "  print(\"His last name is \" + kid[\"lname\"])\n",
    "\n",
    "my_function(fname = \"Tobias\", lname = \"Refsnes\")"
   ]
  },
  {
   "cell_type": "markdown",
   "id": "5b3e352e",
   "metadata": {},
   "source": [
    "\n",
    "### Default argument\n",
    "By default, a function must be called with the correct number of arguments.  But we can add a default value in the function to be used in case this value wasn't provided"
   ]
  },
  {
   "cell_type": "code",
   "execution_count": 47,
   "id": "dfc40972",
   "metadata": {},
   "outputs": [
    {
     "name": "stdout",
     "output_type": "stream",
     "text": [
      "1\n",
      "2\n"
     ]
    }
   ],
   "source": [
    "def to_smash(total_candies,n=3):\n",
    "   \n",
    "    return total_candies % n\n",
    "\n",
    "print(to_smash(407,2))\n",
    "print(to_smash(407))  # n is assumed to be 3\n"
   ]
  },
  {
   "cell_type": "markdown",
   "id": "54f1c1d8",
   "metadata": {},
   "source": [
    "### Pass statement"
   ]
  },
  {
   "cell_type": "code",
   "execution_count": 50,
   "id": "0167c7c2",
   "metadata": {},
   "outputs": [],
   "source": [
    "# Function with no content\n",
    "def myfunction():\n",
    "  pass"
   ]
  },
  {
   "cell_type": "markdown",
   "id": "48f5feca",
   "metadata": {},
   "source": [
    "## Recursion \n",
    "A function calling itself"
   ]
  },
  {
   "cell_type": "code",
   "execution_count": 51,
   "id": "4b2c675b",
   "metadata": {},
   "outputs": [
    {
     "name": "stdout",
     "output_type": "stream",
     "text": [
      "\n",
      "\n",
      "Recursion Example Results\n",
      "1\n",
      "3\n",
      "6\n",
      "10\n",
      "15\n",
      "21\n"
     ]
    },
    {
     "data": {
      "text/plain": [
       "21"
      ]
     },
     "execution_count": 51,
     "metadata": {},
     "output_type": "execute_result"
    }
   ],
   "source": [
    "def tri_recursion(k):\n",
    "  if(k > 0):\n",
    "    result = k + tri_recursion(k - 1)\n",
    "    print(result)\n",
    "  else:\n",
    "    result = 0\n",
    "  return result\n",
    "\n",
    "print(\"\\n\\nRecursion Example Results\")\n",
    "tri_recursion(6)"
   ]
  },
  {
   "cell_type": "markdown",
   "id": "ffbc1211",
   "metadata": {},
   "source": [
    "# Conditionals & loops\n",
    "### Short Hand if \n",
    "if a > b: print(\"a is greater than b\")\n",
    "### Short Hand if ...else\n",
    "print(\"A\") if a > b else print(\"B\")\n",
    "### Short Hand if ...else...if...else\n",
    "print(\"A\") if a > b else print(\"=\") if a == b else print(\"B\")\n",
    "\n",
    "**break** statement we can stop the loop even if the while condition is true <br/>\n",
    "**continue** stop the current iteration, and continue with the next\n"
   ]
  },
  {
   "cell_type": "markdown",
   "id": "5871c12d",
   "metadata": {},
   "source": [
    "# Iterators\n"
   ]
  },
  {
   "cell_type": "markdown",
   "id": "bb9f8d17",
   "metadata": {},
   "source": [
    "# Lamda\n",
    "A lambda function can take any number of arguments, but can only have one expression."
   ]
  },
  {
   "cell_type": "code",
   "execution_count": 53,
   "id": "23064f1e",
   "metadata": {},
   "outputs": [
    {
     "name": "stdout",
     "output_type": "stream",
     "text": [
      "15\n"
     ]
    }
   ],
   "source": [
    "# With 1 argument\n",
    "x = lambda a: a + 10\n",
    "print(x(5))"
   ]
  },
  {
   "cell_type": "code",
   "execution_count": 55,
   "id": "e65e1f33",
   "metadata": {},
   "outputs": [
    {
     "name": "stdout",
     "output_type": "stream",
     "text": [
      "30\n"
     ]
    }
   ],
   "source": [
    "# with 2 arguments\n",
    "x = lambda a, b : a * b\n",
    "print(x(5, 6))"
   ]
  },
  {
   "cell_type": "markdown",
   "id": "41495b6e",
   "metadata": {},
   "source": [
    "**The power of lambda** is better shown when you use them as an anonymous function inside another function. <br\\>\n",
    "Say you have a function definition that takes one argument, and that argument will be multiplied with an unknown number:"
   ]
  },
  {
   "cell_type": "code",
   "execution_count": 62,
   "id": "9faf6122",
   "metadata": {},
   "outputs": [
    {
     "name": "stdout",
     "output_type": "stream",
     "text": [
      "10\n",
      "15\n"
     ]
    }
   ],
   "source": [
    "def myfunc(n):\n",
    "    return lambda x: x*n\n",
    "\n",
    "# use the func to double any number\n",
    "double = myfunc(2)\n",
    "print(double(5))\n",
    "\n",
    "# use the func to triple any number\n",
    "triple = myfunc(3)\n",
    "print(triple(5))"
   ]
  },
  {
   "cell_type": "markdown",
   "id": "037747d9",
   "metadata": {},
   "source": [
    "# Classes & Objects\n",
    "Almost everything in Python is an object, with its properties and methods.\n",
    "\n",
    "A Class is like an object constructor, or a \"blueprint\" for creating objects."
   ]
  },
  {
   "cell_type": "code",
   "execution_count": 63,
   "id": "7b960720",
   "metadata": {},
   "outputs": [],
   "source": [
    "# Create a class\n",
    "class MyClass:\n",
    "  x = 5"
   ]
  },
  {
   "cell_type": "code",
   "execution_count": 64,
   "id": "3f0bad0e",
   "metadata": {},
   "outputs": [
    {
     "name": "stdout",
     "output_type": "stream",
     "text": [
      "5\n"
     ]
    }
   ],
   "source": [
    "# Create Object\n",
    "p1 = MyClass()\n",
    "print(p1.x)"
   ]
  },
  {
   "cell_type": "markdown",
   "id": "ac86150c",
   "metadata": {},
   "source": [
    "All classes have a function called **__init__()**, which is always executed when the class is being initiated."
   ]
  },
  {
   "cell_type": "code",
   "execution_count": 65,
   "id": "7aeff777",
   "metadata": {},
   "outputs": [
    {
     "name": "stdout",
     "output_type": "stream",
     "text": [
      "John\n",
      "36\n"
     ]
    }
   ],
   "source": [
    "class Person:\n",
    "  def __init__(self, name, age):\n",
    "    self.name = name\n",
    "    self.age = age\n",
    "\n",
    "p1 = Person(\"John\", 36)\n",
    "\n",
    "print(p1.name)\n",
    "print(p1.age)"
   ]
  },
  {
   "cell_type": "code",
   "execution_count": 68,
   "id": "55082f6e",
   "metadata": {},
   "outputs": [
    {
     "data": {
      "text/plain": [
       "'H'"
      ]
     },
     "execution_count": 68,
     "metadata": {},
     "output_type": "execute_result"
    }
   ],
   "source": [
    "x=\"Hello\"[0]\n",
    "x"
   ]
  },
  {
   "cell_type": "markdown",
   "id": "50ee0d5e",
   "metadata": {},
   "source": [
    "## To do list \n",
    "* Classes \n",
    "* Inheritance \n",
    "* Modules\n",
    "* Scope"
   ]
  }
 ],
 "metadata": {
  "kernelspec": {
   "display_name": "PythonData",
   "language": "python",
   "name": "pythondata"
  },
  "language_info": {
   "codemirror_mode": {
    "name": "ipython",
    "version": 3
   },
   "file_extension": ".py",
   "mimetype": "text/x-python",
   "name": "python",
   "nbconvert_exporter": "python",
   "pygments_lexer": "ipython3",
   "version": "3.7.13"
  }
 },
 "nbformat": 4,
 "nbformat_minor": 5
}
