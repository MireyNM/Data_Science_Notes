{
 "cells": [
  {
   "cell_type": "markdown",
   "id": "dc8f7934",
   "metadata": {},
   "source": [
    "# First Dash "
   ]
  },
  {
   "cell_type": "code",
   "execution_count": 4,
   "id": "11f8f6f6",
   "metadata": {},
   "outputs": [
    {
     "name": "stderr",
     "output_type": "stream",
     "text": [
      "/Users/mir/opt/anaconda3/envs/PythonData/lib/python3.7/site-packages/ipykernel_launcher.py:2: UserWarning: \n",
      "The dash_core_components package is deprecated. Please replace\n",
      "`import dash_core_components as dcc` with `from dash import dcc`\n",
      "  \n"
     ]
    },
    {
     "data": {
      "text/html": [
       "\n",
       "        <iframe\n",
       "            width=\"100%\"\n",
       "            height=\"650\"\n",
       "            src=\"http://127.0.0.1:8050/\"\n",
       "            frameborder=\"0\"\n",
       "            allowfullscreen\n",
       "            \n",
       "        ></iframe>\n",
       "        "
      ],
      "text/plain": [
       "<IPython.lib.display.IFrame at 0x7f90f27d5950>"
      ]
     },
     "metadata": {},
     "output_type": "display_data"
    }
   ],
   "source": [
    "import dash\n",
    "import dash_core_components as dcc\n",
    "import pandas as pd\n",
    "import plotly.express as px\n",
    "\n",
    "# Sample data for the ecom_sales DataFrame\n",
    "data = {\n",
    "    'Year-Month': ['2023-01', '2023-01', '2023-02', '2023-02', '2023-03', '2023-03'],\n",
    "    'Country': ['USA', 'Canada', 'USA', 'Canada', 'USA', 'Canada'],\n",
    "    'OrderValue': [1000, 500, 1200, 600, 800, 400]\n",
    "}\n",
    "\n",
    "# Create the ecom_sales DataFrame\n",
    "ecom_sales = pd.DataFrame(data)\n",
    "\n",
    "# Perform groupby and aggregation to get the total sales by Year-Month and Country\n",
    "ecom_sales = ecom_sales.groupby(['Year-Month', 'Country'])['OrderValue'].agg('sum').reset_index(name='Total Sales ($)')\n",
    "\n",
    "# Create the line graph using Plotly Express\n",
    "line_fig = px.line(data_frame=ecom_sales, x='Year-Month', y='Total Sales ($)', title='Total Sales by Month', color='Country')\n",
    "\n",
    "# Create the Dash app\n",
    "app = dash.Dash(__name__)\n",
    "\n",
    "# Set up the layout with a single graph\n",
    "app.layout = dcc.Graph(\n",
    "    id='my-line-graph',\n",
    "    # Insert the line graph\n",
    "    figure=line_fig\n",
    ")\n",
    "\n",
    "# Set the app to run in development mode\n",
    "if __name__ == '__main__':\n",
    "    app.run_server(debug=True)\n",
    "# Copy and paste http://127.0.0.1:8050/ in chrome\n"
   ]
  },
  {
   "cell_type": "code",
   "execution_count": null,
   "id": "95abc2e7",
   "metadata": {},
   "outputs": [],
   "source": []
  }
 ],
 "metadata": {
  "kernelspec": {
   "display_name": "PythonData",
   "language": "python",
   "name": "pythondata"
  },
  "language_info": {
   "codemirror_mode": {
    "name": "ipython",
    "version": 3
   },
   "file_extension": ".py",
   "mimetype": "text/x-python",
   "name": "python",
   "nbconvert_exporter": "python",
   "pygments_lexer": "ipython3",
   "version": "3.7.13"
  }
 },
 "nbformat": 4,
 "nbformat_minor": 5
}
