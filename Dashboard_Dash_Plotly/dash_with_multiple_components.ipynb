{
 "cells": [
  {
   "cell_type": "code",
   "execution_count": 3,
   "id": "f11f2ee7",
   "metadata": {},
   "outputs": [
    {
     "data": {
      "text/html": [
       "\n",
       "        <iframe\n",
       "            width=\"100%\"\n",
       "            height=\"650\"\n",
       "            src=\"http://127.0.0.1:8052/\"\n",
       "            frameborder=\"0\"\n",
       "            allowfullscreen\n",
       "            \n",
       "        ></iframe>\n",
       "        "
      ],
      "text/plain": [
       "<IPython.lib.display.IFrame at 0x7fbc0cb36510>"
      ]
     },
     "metadata": {},
     "output_type": "display_data"
    }
   ],
   "source": [
    "import dash\n",
    "import dash_core_components as dcc\n",
    "import dash_html_components as html\n",
    "import pandas as pd\n",
    "import plotly.express as px\n",
    "import random\n",
    "\n",
    "# Generate sample data for the ecom_sales DataFrame\n",
    "data = {\n",
    "    'Year-Month': ['2023-01', '2023-01', '2023-02', '2023-02', '2023-03', '2023-03'] * 10,\n",
    "    'Country': ['USA', 'Canada', 'USA', 'Canada', 'USA', 'Canada'] * 10,\n",
    "    'OrderValue': [random.randint(100, 1000) for _ in range(60)]\n",
    "}\n",
    "\n",
    "# Create the ecom_sales DataFrame\n",
    "ecom_sales = pd.DataFrame(data)\n",
    "\n",
    "ecom_line = ecom_sales.groupby(['Year-Month', 'Country'])['OrderValue'].agg('sum').reset_index(name='Total Sales ($)')\n",
    "ecom_bar = ecom_sales.groupby('Country')['OrderValue'].agg('sum').reset_index(name='Total Sales ($)')\n",
    "\n",
    "line_graph = px.line(data_frame=ecom_line, x='Year-Month', y='Total Sales ($)', title='Total Sales by Month', color='Country')\n",
    "bar_graph = px.bar(data_frame=ecom_bar, x='Total Sales ($)', y='Country', orientation='h', title='Total Sales by Country')\n",
    "\n",
    "# Create the Dash app\n",
    "app = dash.Dash(__name__)\n",
    "\n",
    "# Set up the layout using an overall div\n",
    "app.layout = html.Div(\n",
    "    children=[\n",
    "        # Add a H1\n",
    "        html.H1('Sales by Country & Over Time'),\n",
    "        # Add both graphs\n",
    "        dcc.Graph(id='line_graph', figure=line_graph),\n",
    "        dcc.Graph(id='bar_graph', figure=bar_graph)\n",
    "    ])\n",
    "\n",
    "if __name__ == '__main__':\n",
    "    app.run_server(port=8052, debug=True)\n",
    "# access the Dash app using http://127.0.0.1:8052/ in your browser"
   ]
  },
  {
   "cell_type": "code",
   "execution_count": 5,
   "id": "c50108b6",
   "metadata": {},
   "outputs": [
    {
     "data": {
      "text/html": [
       "\n",
       "        <iframe\n",
       "            width=\"100%\"\n",
       "            height=\"650\"\n",
       "            src=\"http://127.0.0.1:8053/\"\n",
       "            frameborder=\"0\"\n",
       "            allowfullscreen\n",
       "            \n",
       "        ></iframe>\n",
       "        "
      ],
      "text/plain": [
       "<IPython.lib.display.IFrame at 0x7fbc0bc11510>"
      ]
     },
     "metadata": {},
     "output_type": "display_data"
    }
   ],
   "source": [
    "import dash\n",
    "import dash_core_components as dcc\n",
    "import dash_html_components as html\n",
    "import plotly.express as px\n",
    "import pandas as pd\n",
    "\n",
    "# Generate sample data for the ecom_sales DataFrame\n",
    "data = {\n",
    "    'Year-Month': ['2023-01', '2023-01', '2023-02', '2023-02', '2023-03', '2023-03'] * 10,\n",
    "    'Country': ['USA', 'Canada', 'USA', 'Canada', 'USA', 'Canada'] * 10,\n",
    "    'OrderValue': [random.randint(100, 1000) for _ in range(60)]\n",
    "}\n",
    "\n",
    "# Create the ecom_sales DataFrame\n",
    "ecom_sales = pd.DataFrame(data)\n",
    "\n",
    "ecom_line = ecom_sales.groupby('Year-Month')['OrderValue'].agg('sum').reset_index(name='Total Sales ($)')\n",
    "line_fig = px.line(data_frame=ecom_line, x='Year-Month', y='Total Sales ($)', title='Total Sales by Month')\n",
    "ecom_bar = ecom_sales.groupby('Country')['OrderValue'].agg('sum').reset_index(name='Total Sales ($)')\n",
    "max_country = ecom_bar.sort_values(by='Total Sales ($)', ascending=False).loc[0]['Country']\n",
    "bar_fig = px.bar(data_frame=ecom_bar, x='Total Sales ($)', y='Country', orientation='h', title='Total Sales by Country')\n",
    "\n",
    "app = dash.Dash(__name__)\n",
    "\n",
    "# Create the dash layout and overall div\n",
    "app.layout = html.Div(children=[\n",
    "    html.H1('Sales Figures'), \n",
    "    # Add a div containing the line figure\n",
    "    html.Div(dcc.Graph(id='my-line-fig', figure=line_fig)), \n",
    "    # Add a div containing the bar figure\n",
    "    html.Div(dcc.Graph(id='my-bar-fig', figure=bar_fig)), \n",
    "    # Add the H3\n",
    "    html.H3(f'The largest country by sales was {max_country}')\n",
    "    ])\n",
    "\n",
    "if __name__ == '__main__':\n",
    "    app.run_server(port=8053, debug=True)"
   ]
  }
 ],
 "metadata": {
  "kernelspec": {
   "display_name": "PythonData",
   "language": "python",
   "name": "pythondata"
  },
  "language_info": {
   "codemirror_mode": {
    "name": "ipython",
    "version": 3
   },
   "file_extension": ".py",
   "mimetype": "text/x-python",
   "name": "python",
   "nbconvert_exporter": "python",
   "pygments_lexer": "ipython3",
   "version": "3.7.13"
  }
 },
 "nbformat": 4,
 "nbformat_minor": 5
}
