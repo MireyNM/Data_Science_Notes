{
 "cells": [
  {
   "attachments": {},
   "cell_type": "markdown",
   "metadata": {},
   "source": [
    "## collections.OrderedDict\n",
    "An OrderedDict is a dictionary that remembers the order of the keys that were inserted first. If a new entry overwrites an existing entry, the original insertion position is left unchanged."
   ]
  },
  {
   "cell_type": "code",
   "execution_count": 19,
   "metadata": {},
   "outputs": [
    {
     "name": "stdout",
     "output_type": "stream",
     "text": [
      "{'a': 2, 'b': 2, 'c': 3, 'd': 4, 'e': 5}\n"
     ]
    }
   ],
   "source": [
    "from collections import OrderedDict\n",
    "\n",
    "# Ordinary Dictionary\n",
    "ordinary_dictionary = {}\n",
    "\n",
    "ordinary_dictionary['a'] = 1\n",
    "ordinary_dictionary['b'] = 2\n",
    "ordinary_dictionary['c'] = 3\n",
    "ordinary_dictionary['d'] = 4\n",
    "ordinary_dictionary['e'] = 5\n",
    "ordinary_dictionary['a'] = 2\n",
    "print (ordinary_dictionary)"
   ]
  },
  {
   "cell_type": "code",
   "execution_count": 20,
   "metadata": {},
   "outputs": [
    {
     "name": "stdout",
     "output_type": "stream",
     "text": [
      "OrderedDict([('a', 2), ('b', 2), ('c', 3), ('d', 4), ('e', 5)])\n"
     ]
    }
   ],
   "source": [
    "# Ordered Dictionary () instead of {}\n",
    "ordered_dictionary = OrderedDict()\n",
    "\n",
    "ordered_dictionary['a'] = 1\n",
    "ordered_dictionary['b'] = 2\n",
    "ordered_dictionary['c'] = 3\n",
    "ordered_dictionary['d'] = 4\n",
    "ordered_dictionary['e'] = 5\n",
    "ordered_dictionary['a'] = 2\n",
    "print (ordered_dictionary)"
   ]
  },
  {
   "attachments": {},
   "cell_type": "markdown",
   "metadata": {},
   "source": [
    "## HackerRank Task\n",
    "\n",
    "You are the manager of a supermarket.\n",
    "You have a list of N items together with their prices that consumers bought on a particular day.\n",
    "Your task is to print each item_name and net_price in order of its first occurrence.\n",
    "Input Format\n",
    "\n",
    "The first line contains the number of items, N.\n",
    "The next N lines contains the item's name and price, separated by a space."
   ]
  },
  {
   "cell_type": "code",
   "execution_count": 34,
   "metadata": {},
   "outputs": [
    {
     "name": "stdout",
     "output_type": "stream",
     "text": [
      "Banana Fries 12\n",
      "Potato Chips 30\n",
      "Candy 8\n"
     ]
    }
   ],
   "source": [
    "N = int(input())\n",
    "price_list = {}\n",
    "\n",
    "for i in range(N):\n",
    "    new_item  = input().split(' ')\n",
    "    item_name = ' '.join(new_item[0:-1])\n",
    "    item_price = int(new_item[-1])\n",
    "    \n",
    "    if item_name not in price_list:\n",
    "        price_list[item_name] = item_price\n",
    "    else:\n",
    "        price_list[item_name] += item_price\n",
    "    \n",
    "for item in price_list:\n",
    "    print(item, price_list[item])\n",
    "    "
   ]
  }
 ],
 "metadata": {
  "kernelspec": {
   "display_name": "PythonData",
   "language": "python",
   "name": "python3"
  },
  "language_info": {
   "codemirror_mode": {
    "name": "ipython",
    "version": 3
   },
   "file_extension": ".py",
   "mimetype": "text/x-python",
   "name": "python",
   "nbconvert_exporter": "python",
   "pygments_lexer": "ipython3",
   "version": "3.7.13"
  },
  "orig_nbformat": 4
 },
 "nbformat": 4,
 "nbformat_minor": 2
}
