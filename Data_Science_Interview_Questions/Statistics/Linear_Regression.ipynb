{
 "cells": [
  {
   "cell_type": "markdown",
   "id": "0ace7ed4",
   "metadata": {},
   "source": [
    "# WHAT IS LINEAR REGRESSION? WHAT DO THE TERMS P-VALUE, COEFFICIENT, AND R-SQUARED VALUE MEAN? WHAT IS THE SIGNIFICANCE OF EACH OF THESE COMPONENTS?"
   ]
  },
  {
   "cell_type": "markdown",
   "id": "3f72ca62",
   "metadata": {},
   "source": [
    "Linear regression analysis is used to predict the value of a variable based on the value of another variable. \n",
    "\n",
    "- The variable you want to predict is called the **dependent variable (y)** \n",
    "- The variable you are using to predict the other variable's value is called the **independent variable (x)** "
   ]
  },
  {
   "cell_type": "markdown",
   "id": "cead8f2d",
   "metadata": {},
   "source": [
    "## Hypothesis in Linear Regression \n",
    "Once you have fitted a straight line on the data, you need to ask, “Is this straight line a significant fit for the data?” \n",
    "\n",
    "- **Null hypothesis or H0:** is generally the hypothesis that can be explained by random chance. \n",
    "(The opposite of the hypothesis I've created)\n",
    "- **Alternate hypothesis or Ha:** generally the hypothesis that is influenced by non-random events. \n",
    "(My hypyhesis that I wanna test) \n",
    "\n",
    "### Hypothesis Testing Steps\n",
    "1- Generate a null hypothesis, its corresponding alternate hypothesis, and the significance level ( In most cases, a significance level of 0.05 is sufficient, but if our hypotheses are being used for critical decision-making we might want to use smaller cutoffs such as 0.01 or 0.001).  </br>\n",
    "2- Identify a statistical analysis to assess the truth of the null hypothesis. </br>\n",
    "3- Compute the p-value using statistical analysis. </br>\n",
    "4- Compare p-value to the significance level. </br>\n",
    "5- Reject (or fail to reject) the null hypothesis and generate the conclusion."
   ]
  },
  {
   "cell_type": "markdown",
   "id": "f62a053f",
   "metadata": {},
   "source": [
    "## p-value/  probability value\n",
    "It is the minimum alpha (the significance level). It tells us the likelihood that we would see similar results if we tested our data again, if the null hypothesis is true.\n",
    "\n",
    "- **If p-value < significance level:**  there is sufficient statistical evidence that our null hypothesis is not true --> reject our null hypothesis. (A smaller p-value means that there is stronger evidence in\n",
    "favor of the alternative hypothesis)\n",
    "- **If p-value > significance level:**  we do not have sufficient evidence to reject our null hypothesis --> fail to reject our null hypothesis."
   ]
  },
  {
   "cell_type": "markdown",
   "id": "b62faa7c",
   "metadata": {},
   "source": [
    "## R-squared Value/  coefficient of determination  \n",
    "It represents how well the regression model approximates real-world data points\n",
    "0<r-squared<1 </br>\n",
    "\n",
    "Example: R – squared is 0.816 Meaning that 81.6% of the variance in `Sales` is explained by `TV`. This is a decent R-squared value."
   ]
  }
 ],
 "metadata": {
  "kernelspec": {
   "display_name": "PythonData",
   "language": "python",
   "name": "pythondata"
  },
  "language_info": {
   "codemirror_mode": {
    "name": "ipython",
    "version": 3
   },
   "file_extension": ".py",
   "mimetype": "text/x-python",
   "name": "python",
   "nbconvert_exporter": "python",
   "pygments_lexer": "ipython3",
   "version": "3.7.13"
  }
 },
 "nbformat": 4,
 "nbformat_minor": 5
}
