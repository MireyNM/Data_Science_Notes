{
 "cells": [
  {
   "cell_type": "markdown",
   "id": "c96071eb",
   "metadata": {},
   "source": [
    "# What is the difference between DELETE, DROP and TRUNCATE statement?\n",
    "\n",
    "\n",
    "**TRUNCATE**\n",
    "- Always remove all the records from the table\n",
    "- Think of TRUNCATE like clearing off a table really quickly, but keeping the table itself.\n",
    "- It removes all the rows from a table, but the table's structure stays intact.\n",
    "- It's faster than DELETE for large tables.\n",
    "- You can't pick which rows to remove; it's all or nothing (Truncate cannot have WHERE condition_\n",
    "- It can't be undone, so be careful!\n",
    "\n",
    "**DROP**\n",
    "\n",
    "- DROP is like getting rid of the entire table.\n",
    "- It deletes the whole table, including its structure and all the data inside.\n",
    "- You can't get the table or its data back once you've dropped it.\n",
    "- It's like throwing something away and never being able to find it again.\n",
    "\n",
    "**DELETE**\n",
    "\n",
    "- DELETE is like selectively removing specific items from a table (can be used to remove either few or all the records from a table.)\n",
    "- You can choose which rows you want to remove based on certain conditions.\n",
    "- It's a bit slower than TRUNCATE, especially for a lot of rows.\n",
    "- You can undo a DELETE if you're inside a special environment called a transaction.\n"
   ]
  }
 ],
 "metadata": {
  "kernelspec": {
   "display_name": "PythonData",
   "language": "python",
   "name": "pythondata"
  },
  "language_info": {
   "codemirror_mode": {
    "name": "ipython",
    "version": 3
   },
   "file_extension": ".py",
   "mimetype": "text/x-python",
   "name": "python",
   "nbconvert_exporter": "python",
   "pygments_lexer": "ipython3",
   "version": "3.7.13"
  }
 },
 "nbformat": 4,
 "nbformat_minor": 5
}
