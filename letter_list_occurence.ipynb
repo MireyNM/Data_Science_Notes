{
 "cells": [
  {
   "cell_type": "markdown",
   "id": "0ab80e7f",
   "metadata": {},
   "source": [
    "### Input Format\n",
    "\n",
    "The first line contains integers, n and m separated by a space. <br/>\n",
    "The next n lines contains the words belonging to group A. <br/>\n",
    "The next m lines contains the words belonging to group B. <br/>\n",
    "\n",
    "### Challenge \n",
    "For each word in B: Check whether the word has appeared in group A or not. Print the indices of each occurrence of m in group A. If it does not appear, print -1."
   ]
  },
  {
   "cell_type": "code",
   "execution_count": 1,
   "id": "15dff7f3",
   "metadata": {},
   "outputs": [
    {
     "name": "stdout",
     "output_type": "stream",
     "text": [
      "5 2\n",
      "a\n",
      "a\n",
      "b\n",
      "a\n",
      "b\n",
      "a\n",
      "b\n"
     ]
    }
   ],
   "source": [
    "n,m = map(int, input().split(' '))\n",
    "\n",
    "words_a = []\n",
    "words_b = []\n",
    "\n",
    "for i in range(n):\n",
    "    words_a.append(input())\n",
    "for j in range(m):\n",
    "    words_b.append(input())"
   ]
  },
  {
   "cell_type": "code",
   "execution_count": 4,
   "id": "75734ecb",
   "metadata": {},
   "outputs": [
    {
     "name": "stdout",
     "output_type": "stream",
     "text": [
      "1 2 4 \n",
      "3 5 \n",
      "\n"
     ]
    }
   ],
   "source": [
    "indexes=''\n",
    "\n",
    "\n",
    "for letter_b in words_b:\n",
    "    letter_found = False \n",
    "    for index, letter_a in enumerate(words_a):\n",
    "        if letter_a == letter_b:\n",
    "            indexes+=str(index+1)+ ' '\n",
    "            letter_found = True\n",
    "    if not letter_found:\n",
    "        indexes += '-1'\n",
    "    indexes += '\\n'\n",
    "        \n",
    "print(indexes)"
   ]
  },
  {
   "cell_type": "code",
   "execution_count": 14,
   "id": "c4025bc6",
   "metadata": {},
   "outputs": [
    {
     "name": "stdout",
     "output_type": "stream",
     "text": [
      "['a', 'a', 'b', 'a', 'b']\n"
     ]
    }
   ],
   "source": [
    "print(words_a)"
   ]
  },
  {
   "cell_type": "code",
   "execution_count": 39,
   "id": "2e93ad9a",
   "metadata": {},
   "outputs": [
    {
     "name": "stdout",
     "output_type": "stream",
     "text": [
      "5\n",
      "id name marks class\n"
     ]
    }
   ],
   "source": [
    "from collections import namedtuple\n",
    "N = int(input())\n",
    "titles = list(map(str, input().split(' ')))"
   ]
  },
  {
   "cell_type": "code",
   "execution_count": null,
   "id": "96cb0fdb",
   "metadata": {},
   "outputs": [],
   "source": []
  },
  {
   "cell_type": "code",
   "execution_count": 28,
   "id": "2b532adf",
   "metadata": {},
   "outputs": [
    {
     "name": "stdout",
     "output_type": "stream",
     "text": [
      "1 97 Ray 7\n"
     ]
    }
   ],
   "source": [
    "class_info = namedtuple('class_info','titles')\n",
    "xyzd = class_info(input().split(' '))"
   ]
  },
  {
   "cell_type": "code",
   "execution_count": 33,
   "id": "2630d7ea",
   "metadata": {},
   "outputs": [
    {
     "name": "stdout",
     "output_type": "stream",
     "text": [
      "['1', '97', 'Ray', '7']\n"
     ]
    }
   ],
   "source": [
    "print(xyzd.titles)"
   ]
  },
  {
   "cell_type": "code",
   "execution_count": 40,
   "id": "d0342bfc",
   "metadata": {},
   "outputs": [
    {
     "data": {
      "text/plain": [
       "3"
      ]
     },
     "execution_count": 40,
     "metadata": {},
     "output_type": "execute_result"
    }
   ],
   "source": [
    "titles.index('class')"
   ]
  },
  {
   "cell_type": "code",
   "execution_count": 38,
   "id": "a442c4c7",
   "metadata": {},
   "outputs": [
    {
     "name": "stdout",
     "output_type": "stream",
     "text": [
      "98\n"
     ]
    }
   ],
   "source": [
    "print(int(xyzd.titles[1]) + 1)"
   ]
  }
 ],
 "metadata": {
  "kernelspec": {
   "display_name": "PythonData",
   "language": "python",
   "name": "pythondata"
  },
  "language_info": {
   "codemirror_mode": {
    "name": "ipython",
    "version": 3
   },
   "file_extension": ".py",
   "mimetype": "text/x-python",
   "name": "python",
   "nbconvert_exporter": "python",
   "pygments_lexer": "ipython3",
   "version": "3.7.13"
  }
 },
 "nbformat": 4,
 "nbformat_minor": 5
}
