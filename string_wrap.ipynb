{
 "cells": [
  {
   "cell_type": "code",
   "execution_count": 11,
   "id": "74982b88",
   "metadata": {},
   "outputs": [
    {
     "data": {
      "text/plain": [
       "['This method wraps the input paragraph',\n",
       " 'such that each line is at most width',\n",
       " 'characters long in the paragraph. If the',\n",
       " 'input has some content, it returns a',\n",
       " 'list of lines as output.']"
      ]
     },
     "execution_count": 11,
     "metadata": {},
     "output_type": "execute_result"
    }
   ],
   "source": [
    "#Importing the textwrap module\n",
    "import textwrap\n",
    "\n",
    "#Define a dummy text\n",
    "texts = \"\"\"This method wraps the input paragraph such that each line is at most width characters long in the paragraph. If the input has some content, it returns a list of lines as output.\"\"\"\n",
    "\n",
    "# Wrap the text.\n",
    "wrapper = textwrap.TextWrapper(width=40)\n",
    "wrapper.wrap(texts)\n"
   ]
  },
  {
   "cell_type": "code",
   "execution_count": 9,
   "id": "aed48993",
   "metadata": {},
   "outputs": [
    {
     "name": "stdout",
     "output_type": "stream",
     "text": [
      "This method wraps the input paragraph\n",
      "such that each line is at most width\n",
      "characters long in the paragraph. If the\n",
      "input has some content, it returns a\n",
      "list of lines as output.\n"
     ]
    }
   ],
   "source": [
    "# Print output\n",
    "for element in word_list:\n",
    "        print(element)"
   ]
  },
  {
   "cell_type": "code",
   "execution_count": 29,
   "id": "9d672910",
   "metadata": {},
   "outputs": [
    {
     "name": "stdout",
     "output_type": "stream",
     "text": [
      "ABCD\n",
      "EFGH\n",
      "IJKL\n",
      "IMNO\n",
      "QRST\n",
      "UVWX\n",
      "YZ\n"
     ]
    }
   ],
   "source": [
    "def wrap(text, max_width):\n",
    "    wrapper = textwrap.TextWrapper(width=max_width)\n",
    "    wrapped = wrapper.wrap(text)\n",
    "    for i in wrapped:\n",
    "        print (i)\n",
    "        \n",
    "wrap('ABCDEFGHIJKLIMNOQRSTUVWXYZ', 4)"
   ]
  },
  {
   "cell_type": "code",
   "execution_count": 33,
   "id": "05705c12",
   "metadata": {},
   "outputs": [
    {
     "name": "stdout",
     "output_type": "stream",
     "text": [
      "ABCD\n",
      "EFGH\n",
      "IJKL\n",
      "IMNO\n",
      "QRST\n",
      "UVWX\n",
      "YZ\n"
     ]
    }
   ],
   "source": [
    "def wrap(string, max_width):\n",
    "    wrapper = textwrap.TextWrapper(width=max_width)\n",
    "    wrapped = wrapper.wrap(string)\n",
    "    return '\\n'.join(wrapped)\n",
    "\n",
    "print(wrap('ABCDEFGHIJKLIMNOQRSTUVWXYZ', 4))"
   ]
  }
 ],
 "metadata": {
  "kernelspec": {
   "display_name": "PythonData",
   "language": "python",
   "name": "pythondata"
  },
  "language_info": {
   "codemirror_mode": {
    "name": "ipython",
    "version": 3
   },
   "file_extension": ".py",
   "mimetype": "text/x-python",
   "name": "python",
   "nbconvert_exporter": "python",
   "pygments_lexer": "ipython3",
   "version": "3.7.13"
  }
 },
 "nbformat": 4,
 "nbformat_minor": 5
}
