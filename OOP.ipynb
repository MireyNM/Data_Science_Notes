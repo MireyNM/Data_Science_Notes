{
 "cells": [
  {
   "cell_type": "markdown",
   "id": "42aabe52",
   "metadata": {},
   "source": [
    "# Object Oriented Programming\n",
    "\n",
    "**__init__** is called magic method <br/>"
   ]
  },
  {
   "cell_type": "code",
   "execution_count": 47,
   "id": "2a4ddb10",
   "metadata": {},
   "outputs": [
    {
     "name": "stdout",
     "output_type": "stream",
     "text": [
      "Total price of the Iphone phone is 2400$\n",
      "Price is expensive!\n"
     ]
    }
   ],
   "source": [
    "# Create a Class\n",
    "class Item:\n",
    "    pay_rate = 0.8 \n",
    "    \n",
    "    def __init__(self, name: str, price, quantity=1):\n",
    "        # Run validations to received argument\n",
    "        assert price >= 0, f'Price {price} is not greater or equal than zero!'\n",
    "        assert quantity >=1, 'Quantity {quantity} is not greater or equal than 1'\n",
    "        \n",
    "        # Assign the attributes (name,price,quantity) \n",
    "        # to each instance (self) that is going to be created\n",
    "        self.name = name\n",
    "        self.price = price\n",
    "        self.quantity = quantity\n",
    "    \n",
    "    def calculate_total_price(self, *threshold):\n",
    "        print(f\"Total price of the {self.name} phone is {self.price*self.quantity}$\")\n",
    "        if threshold:\n",
    "            if self.price*self.quantity < threshold[0]:\n",
    "                print(\"Price is expensive!\")\n",
    "            else:\n",
    "                print(\"It's a good offer!\")\n",
    "    \n",
    "    \n",
    "item1=Item(\"Iphone\",1200,2)\n",
    "\n",
    "item1.calculate_total_price(89000,78)"
   ]
  },
  {
   "cell_type": "markdown",
   "id": "71ffe7b4",
   "metadata": {},
   "source": [
    "## Optional arguments without a default value\n",
    "The * prefix means \"arbitrary number of positional parameters\" <br/>\n",
    "*args and ** kwargs are optional arguments without default values  <br/>"
   ]
  },
  {
   "cell_type": "code",
   "execution_count": 39,
   "id": "64dda373",
   "metadata": {},
   "outputs": [
    {
     "name": "stdout",
     "output_type": "stream",
     "text": [
      "Total price of the Android phone is 900$\n"
     ]
    }
   ],
   "source": [
    "# If I don't give a quantity nb it's 1 by default \n",
    "# If no threshold cold skips last part\n",
    "item2=Item(\"Android\", 900)\n",
    "item2.calculate_total_price()"
   ]
  },
  {
   "cell_type": "markdown",
   "id": "a0c93522",
   "metadata": {},
   "source": [
    "## Assertion Error\n",
    "**assert** To make sure the received arguments are within the range that we want. <br/>\n",
    "If the argument value is not like the assert options : AssertionError <br/>\n",
    "We can change the AssertionError to give the error msg we want "
   ]
  },
  {
   "cell_type": "code",
   "execution_count": 45,
   "id": "d7b8b1fb",
   "metadata": {},
   "outputs": [
    {
     "ename": "AssertionError",
     "evalue": "Price -900 is not greater or equal than zero!",
     "output_type": "error",
     "traceback": [
      "\u001b[0;31m---------------------------------------------------------------------------\u001b[0m",
      "\u001b[0;31mAssertionError\u001b[0m                            Traceback (most recent call last)",
      "\u001b[0;32m/var/folders/22/6yjgvchj59n3fw3c208txjnm0000gn/T/ipykernel_67839/341930730.py\u001b[0m in \u001b[0;36m<module>\u001b[0;34m\u001b[0m\n\u001b[1;32m      1\u001b[0m \u001b[0;31m# Assertion error when price is negative\u001b[0m\u001b[0;34m\u001b[0m\u001b[0;34m\u001b[0m\u001b[0;34m\u001b[0m\u001b[0m\n\u001b[0;32m----> 2\u001b[0;31m \u001b[0mitem3\u001b[0m\u001b[0;34m=\u001b[0m\u001b[0mItem\u001b[0m\u001b[0;34m(\u001b[0m\u001b[0;34m\"Android\"\u001b[0m\u001b[0;34m,\u001b[0m \u001b[0;34m-\u001b[0m\u001b[0;36m900\u001b[0m\u001b[0;34m)\u001b[0m\u001b[0;34m\u001b[0m\u001b[0;34m\u001b[0m\u001b[0m\n\u001b[0m\u001b[1;32m      3\u001b[0m \u001b[0mitem2\u001b[0m\u001b[0;34m.\u001b[0m\u001b[0mcalculate_total_price\u001b[0m\u001b[0;34m(\u001b[0m\u001b[0;34m)\u001b[0m\u001b[0;34m\u001b[0m\u001b[0;34m\u001b[0m\u001b[0m\n",
      "\u001b[0;32m/var/folders/22/6yjgvchj59n3fw3c208txjnm0000gn/T/ipykernel_67839/2214002404.py\u001b[0m in \u001b[0;36m__init__\u001b[0;34m(self, name, price, quantity)\u001b[0m\n\u001b[1;32m      4\u001b[0m     \u001b[0;32mdef\u001b[0m \u001b[0m__init__\u001b[0m\u001b[0;34m(\u001b[0m\u001b[0mself\u001b[0m\u001b[0;34m,\u001b[0m \u001b[0mname\u001b[0m\u001b[0;34m:\u001b[0m \u001b[0mstr\u001b[0m\u001b[0;34m,\u001b[0m \u001b[0mprice\u001b[0m\u001b[0;34m,\u001b[0m \u001b[0mquantity\u001b[0m\u001b[0;34m=\u001b[0m\u001b[0;36m1\u001b[0m\u001b[0;34m)\u001b[0m\u001b[0;34m:\u001b[0m\u001b[0;34m\u001b[0m\u001b[0;34m\u001b[0m\u001b[0m\n\u001b[1;32m      5\u001b[0m         \u001b[0;31m# Run validations to received argument\u001b[0m\u001b[0;34m\u001b[0m\u001b[0;34m\u001b[0m\u001b[0;34m\u001b[0m\u001b[0m\n\u001b[0;32m----> 6\u001b[0;31m         \u001b[0;32massert\u001b[0m \u001b[0mprice\u001b[0m \u001b[0;34m>=\u001b[0m \u001b[0;36m0\u001b[0m\u001b[0;34m,\u001b[0m \u001b[0;34mf'Price {price} is not greater or equal than zero!'\u001b[0m\u001b[0;34m\u001b[0m\u001b[0;34m\u001b[0m\u001b[0m\n\u001b[0m\u001b[1;32m      7\u001b[0m         \u001b[0;32massert\u001b[0m \u001b[0mquantity\u001b[0m \u001b[0;34m>=\u001b[0m\u001b[0;36m1\u001b[0m\u001b[0;34m,\u001b[0m \u001b[0;34m'Quantity {quantity} is not greater or equal than 1'\u001b[0m\u001b[0;34m\u001b[0m\u001b[0;34m\u001b[0m\u001b[0m\n\u001b[1;32m      8\u001b[0m \u001b[0;34m\u001b[0m\u001b[0m\n",
      "\u001b[0;31mAssertionError\u001b[0m: Price -900 is not greater or equal than zero!"
     ]
    }
   ],
   "source": [
    "# Assertion error when price is negative \n",
    "item3=Item(\"Android\", -900)\n",
    "item2.calculate_total_price()"
   ]
  },
  {
   "cell_type": "markdown",
   "id": "0a1aadc3",
   "metadata": {},
   "source": [
    "## Class attributes vs Instance attributes:\n",
    "Class attributes belong to class itself but you can access it from instance level as well. Ex: pay_rate "
   ]
  },
  {
   "cell_type": "code",
   "execution_count": 49,
   "id": "f43aafbb",
   "metadata": {},
   "outputs": [
    {
     "data": {
      "text/plain": [
       "0.8"
      ]
     },
     "execution_count": 49,
     "metadata": {},
     "output_type": "execute_result"
    }
   ],
   "source": [
    "# Access class attribute from Class\n",
    "Item.pay_rate"
   ]
  },
  {
   "cell_type": "code",
   "execution_count": 51,
   "id": "34ec3d2c",
   "metadata": {},
   "outputs": [
    {
     "data": {
      "text/plain": [
       "0.8"
      ]
     },
     "execution_count": 51,
     "metadata": {},
     "output_type": "execute_result"
    }
   ],
   "source": [
    "# Access class attribute from instance level\n",
    "item1.pay_rate"
   ]
  },
  {
   "cell_type": "code",
   "execution_count": 53,
   "id": "589acaf9",
   "metadata": {},
   "outputs": [
    {
     "data": {
      "text/plain": [
       "mappingproxy({'__module__': '__main__',\n",
       "              'pay_rate': 0.8,\n",
       "              '__init__': <function __main__.Item.__init__(self, name: str, price, quantity=1)>,\n",
       "              'calculate_total_price': <function __main__.Item.calculate_total_price(self, *threshold)>,\n",
       "              '__dict__': <attribute '__dict__' of 'Item' objects>,\n",
       "              '__weakref__': <attribute '__weakref__' of 'Item' objects>,\n",
       "              '__doc__': None})"
      ]
     },
     "execution_count": 53,
     "metadata": {},
     "output_type": "execute_result"
    }
   ],
   "source": [
    "# Access all attributes for class level\n",
    "Item.__dict__"
   ]
  },
  {
   "cell_type": "code",
   "execution_count": 55,
   "id": "3fdc5349",
   "metadata": {},
   "outputs": [
    {
     "data": {
      "text/plain": [
       "{'name': 'Iphone', 'price': 1200, 'quantity': 2}"
      ]
     },
     "execution_count": 55,
     "metadata": {},
     "output_type": "execute_result"
    }
   ],
   "source": [
    "# Access all attributes for instance level\n",
    "item1.__dict__"
   ]
  },
  {
   "cell_type": "code",
   "execution_count": null,
   "id": "5a5b0602",
   "metadata": {},
   "outputs": [],
   "source": []
  }
 ],
 "metadata": {
  "kernelspec": {
   "display_name": "PythonData",
   "language": "python",
   "name": "pythondata"
  },
  "language_info": {
   "codemirror_mode": {
    "name": "ipython",
    "version": 3
   },
   "file_extension": ".py",
   "mimetype": "text/x-python",
   "name": "python",
   "nbconvert_exporter": "python",
   "pygments_lexer": "ipython3",
   "version": "3.7.13"
  }
 },
 "nbformat": 4,
 "nbformat_minor": 5
}
