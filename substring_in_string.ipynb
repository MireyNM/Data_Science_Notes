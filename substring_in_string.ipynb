{
 "cells": [
  {
   "cell_type": "code",
   "execution_count": 28,
   "id": "dc2d1d7a",
   "metadata": {},
   "outputs": [
    {
     "data": {
      "text/plain": [
       "2"
      ]
     },
     "execution_count": 28,
     "metadata": {},
     "output_type": "execute_result"
    }
   ],
   "source": [
    "def count_substring(string, sub_string):\n",
    "    count =0\n",
    "    for i in range(0,len(string)):\n",
    "        count+=string.count(sub_string,i,i+len(sub_string))\n",
    "    return count\n",
    "             \n",
    "\n",
    "count_substring(\"ABCDCDC\",\"CDC\")"
   ]
  },
  {
   "cell_type": "code",
   "execution_count": 25,
   "id": "94d7e122",
   "metadata": {},
   "outputs": [
    {
     "data": {
      "text/plain": [
       "2"
      ]
     },
     "execution_count": 25,
     "metadata": {},
     "output_type": "execute_result"
    }
   ],
   "source": [
    "test=\"ABCDEFAB\"\n",
    "test.count(\"AB\")"
   ]
  },
  {
   "cell_type": "code",
   "execution_count": 35,
   "id": "bc810302",
   "metadata": {},
   "outputs": [
    {
     "name": "stdout",
     "output_type": "stream",
     "text": [
      "7\n",
      "3\n",
      "2\n",
      "0\n",
      "4\n",
      "3\n"
     ]
    },
    {
     "data": {
      "text/plain": [
       "2"
      ]
     },
     "execution_count": 35,
     "metadata": {},
     "output_type": "execute_result"
    }
   ],
   "source": [
    "def count_substring(string, sub_string):\n",
    "    count = 0;\n",
    "    str_len = len(string)\n",
    "    print(str_len)\n",
    "    sub_len = len(sub_string)\n",
    "    print(sub_len)\n",
    "    i=0\n",
    "    while i< (str_len-sub_len+1):\n",
    "        index = string.find(sub_string, i)\n",
    "        if index != -1:\n",
    "            count = count + 1 \n",
    "            print(index)\n",
    "            print(i)\n",
    "            i = index\n",
    "            i = i+1\n",
    "        \n",
    "    return count\n",
    "count_substring(\"ABCDCDC\",\"CDC\")"
   ]
  },
  {
   "cell_type": "code",
   "execution_count": 29,
   "id": "04977d83",
   "metadata": {},
   "outputs": [
    {
     "data": {
      "text/plain": [
       "1"
      ]
     },
     "execution_count": 29,
     "metadata": {},
     "output_type": "execute_result"
    }
   ],
   "source": [
    "def count_substring(string, sub_string):\n",
    "    count = string.count(sub_string)\n",
    "    return count\n",
    "             \n",
    "\n",
    "count_substring(\"ABCDCDC\",\"CDC\")"
   ]
  }
 ],
 "metadata": {
  "kernelspec": {
   "display_name": "PythonData",
   "language": "python",
   "name": "pythondata"
  },
  "language_info": {
   "codemirror_mode": {
    "name": "ipython",
    "version": 3
   },
   "file_extension": ".py",
   "mimetype": "text/x-python",
   "name": "python",
   "nbconvert_exporter": "python",
   "pygments_lexer": "ipython3",
   "version": "3.7.13"
  }
 },
 "nbformat": 4,
 "nbformat_minor": 5
}
