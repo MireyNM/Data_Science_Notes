{
 "cells": [
  {
   "cell_type": "code",
   "execution_count": 10,
   "id": "8ab521e4",
   "metadata": {},
   "outputs": [
    {
     "name": "stdout",
     "output_type": "stream",
     "text": [
      "Total of all items in the list is: 60\n"
     ]
    }
   ],
   "source": [
    "# List of prices items\n",
    "prices = [10,20,30]\n",
    "sum = 0\n",
    "\n",
    "# Calculated the sum of all prices\n",
    "for item in prices:\n",
    "    sum += item \n",
    "print (f'Total of all items in the list is: {sum}')"
   ]
  },
  {
   "cell_type": "markdown",
   "id": "e957f2b2",
   "metadata": {},
   "source": [
    "# Draw F shape"
   ]
  },
  {
   "cell_type": "code",
   "execution_count": 26,
   "id": "223a5632",
   "metadata": {},
   "outputs": [
    {
     "name": "stdout",
     "output_type": "stream",
     "text": [
      "xxxxx\n",
      "xx\n",
      "xxxxx\n",
      "xx\n",
      "xx\n"
     ]
    }
   ],
   "source": [
    "numbers = [5,2,5,2,2]\n",
    "\n",
    "for item in numbers:\n",
    "    print('x'*item)"
   ]
  },
  {
   "cell_type": "code",
   "execution_count": 28,
   "id": "b23e4346",
   "metadata": {},
   "outputs": [
    {
     "name": "stdout",
     "output_type": "stream",
     "text": [
      "xxxxx\n",
      "xx\n",
      "xxxxx\n",
      "xx\n",
      "xx\n"
     ]
    }
   ],
   "source": [
    "numbers = [5,2,5,2,2]\n",
    "\n",
    "for item in numbers:\n",
    "    output =''\n",
    "    for count in range(item):\n",
    "        output += 'x'\n",
    "    print(output)"
   ]
  }
 ],
 "metadata": {
  "kernelspec": {
   "display_name": "PythonData",
   "language": "python",
   "name": "pythondata"
  },
  "language_info": {
   "codemirror_mode": {
    "name": "ipython",
    "version": 3
   },
   "file_extension": ".py",
   "mimetype": "text/x-python",
   "name": "python",
   "nbconvert_exporter": "python",
   "pygments_lexer": "ipython3",
   "version": "3.7.13"
  }
 },
 "nbformat": 4,
 "nbformat_minor": 5
}
