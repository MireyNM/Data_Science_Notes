{
 "cells": [
  {
   "cell_type": "code",
   "execution_count": 12,
   "id": "97f23738",
   "metadata": {},
   "outputs": [
    {
     "name": "stdout",
     "output_type": "stream",
     "text": [
      "Bob\n"
     ]
    }
   ],
   "source": [
    "names = ['Jhon', 'Bob','Mosh','Sarah']\n",
    "print(names[1])"
   ]
  },
  {
   "cell_type": "code",
   "execution_count": 13,
   "id": "a1ad1d15",
   "metadata": {},
   "outputs": [
    {
     "name": "stdout",
     "output_type": "stream",
     "text": [
      "Sarah\n"
     ]
    }
   ],
   "source": [
    "# Print last item\n",
    "print(names[-1])"
   ]
  },
  {
   "cell_type": "code",
   "execution_count": 14,
   "id": "88b15280",
   "metadata": {},
   "outputs": [
    {
     "name": "stdout",
     "output_type": "stream",
     "text": [
      "['Bob', 'Mosh', 'Sarah']\n"
     ]
    }
   ],
   "source": [
    "# From index 1 to the end\n",
    "print(names[1:])"
   ]
  },
  {
   "cell_type": "code",
   "execution_count": 15,
   "id": "11d3d979",
   "metadata": {},
   "outputs": [
    {
     "name": "stdout",
     "output_type": "stream",
     "text": [
      "['Jhon', 'Bob', 'Mosh', 'Sarah', 'Mir']\n"
     ]
    }
   ],
   "source": [
    "# Append to list\n",
    "names.append('Mir')\n",
    "print(names)"
   ]
  },
  {
   "cell_type": "markdown",
   "id": "b87a235c",
   "metadata": {},
   "source": [
    "# Find the largest nb in a list"
   ]
  },
  {
   "cell_type": "code",
   "execution_count": 32,
   "id": "4222c24a",
   "metadata": {},
   "outputs": [
    {
     "name": "stdout",
     "output_type": "stream",
     "text": [
      "20\n"
     ]
    }
   ],
   "source": [
    "# Define a list of numbers \n",
    "numbers = [2, 6, 3, 8, 9, 1, 20]\n",
    "max = 0\n",
    "\n",
    "for i in numbers:\n",
    "    if i > max:\n",
    "       max =  i\n",
    "    \n",
    "print(max)"
   ]
  }
 ],
 "metadata": {
  "kernelspec": {
   "display_name": "PythonData",
   "language": "python",
   "name": "pythondata"
  },
  "language_info": {
   "codemirror_mode": {
    "name": "ipython",
    "version": 3
   },
   "file_extension": ".py",
   "mimetype": "text/x-python",
   "name": "python",
   "nbconvert_exporter": "python",
   "pygments_lexer": "ipython3",
   "version": "3.7.13"
  }
 },
 "nbformat": 4,
 "nbformat_minor": 5
}
