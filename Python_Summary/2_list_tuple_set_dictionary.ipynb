{
 "cells": [
  {
   "cell_type": "markdown",
   "id": "d8962d01",
   "metadata": {},
   "source": [
    "# In Python, lists, tuples, sets, and dictionaries are referred to as data structures or collection data types\n",
    "## 1- List =[...]\n",
    "## -  Array that contains multiple data items (integer, string…) <br> - Ordered, mutable (modifiable), and allows duplicate elements."
   ]
  },
  {
   "cell_type": "code",
   "execution_count": 1,
   "id": "9ee77d69",
   "metadata": {},
   "outputs": [
    {
     "name": "stdout",
     "output_type": "stream",
     "text": [
      "[1, 2, 3]\n"
     ]
    }
   ],
   "source": [
    "list_numbers=[1,2,3]\n",
    "print(list_numbers)"
   ]
  },
  {
   "cell_type": "code",
   "execution_count": 2,
   "id": "c0f44ccb",
   "metadata": {},
   "outputs": [
    {
     "name": "stdout",
     "output_type": "stream",
     "text": [
      "['Apple', 'Orange', 'Banana']\n"
     ]
    }
   ],
   "source": [
    "list_strings = [\"Apple\",\"Orange\",\"Banana\"]\n",
    "print(list_strings)"
   ]
  },
  {
   "cell_type": "markdown",
   "id": "63647bd0",
   "metadata": {},
   "source": [
    "### Nested List : List in a list"
   ]
  },
  {
   "cell_type": "code",
   "execution_count": 3,
   "id": "15e2ffd2",
   "metadata": {},
   "outputs": [
    {
     "name": "stdout",
     "output_type": "stream",
     "text": [
      "['Apple', ['Orange', 'Banana'], 2, True]\n"
     ]
    }
   ],
   "source": [
    "list_in_a_list=['Apple',['Orange','Banana'],2,True]\n",
    "print(list_in_a_list)"
   ]
  },
  {
   "cell_type": "code",
   "execution_count": 4,
   "id": "06e888c3",
   "metadata": {},
   "outputs": [
    {
     "data": {
      "text/plain": [
       "'Orange'"
      ]
     },
     "execution_count": 4,
     "metadata": {},
     "output_type": "execute_result"
    }
   ],
   "source": [
    "list_in_a_list[1][0]"
   ]
  },
  {
   "cell_type": "code",
   "execution_count": 5,
   "id": "8f4a7a94",
   "metadata": {},
   "outputs": [],
   "source": [
    "icecream_flavors=['Choc','milk','vanilla']"
   ]
  },
  {
   "cell_type": "code",
   "execution_count": 6,
   "id": "1b5e1a80",
   "metadata": {},
   "outputs": [
    {
     "data": {
      "text/plain": [
       "'vanilla'"
      ]
     },
     "execution_count": 6,
     "metadata": {},
     "output_type": "execute_result"
    }
   ],
   "source": [
    "# Print last item in the list\n",
    "icecream_flavors[-1]"
   ]
  },
  {
   "cell_type": "code",
   "execution_count": 7,
   "id": "cec503d9",
   "metadata": {},
   "outputs": [
    {
     "data": {
      "text/plain": [
       "'milk'"
      ]
     },
     "execution_count": 7,
     "metadata": {},
     "output_type": "execute_result"
    }
   ],
   "source": [
    "# Print second to last item in the list \n",
    "icecream_flavors[-2]"
   ]
  },
  {
   "cell_type": "code",
   "execution_count": 8,
   "id": "570a37c5",
   "metadata": {},
   "outputs": [
    {
     "data": {
      "text/plain": [
       "3"
      ]
     },
     "execution_count": 8,
     "metadata": {},
     "output_type": "execute_result"
    }
   ],
   "source": [
    "# Find the length of a list\n",
    "len(icecream_flavors)"
   ]
  },
  {
   "cell_type": "code",
   "execution_count": 9,
   "id": "0ca82428",
   "metadata": {},
   "outputs": [
    {
     "data": {
      "text/plain": [
       "['Choc', 'milk']"
      ]
     },
     "execution_count": 9,
     "metadata": {},
     "output_type": "execute_result"
    }
   ],
   "source": [
    "# Slice list; to output 1st & 2nd item\n",
    "icecream_flavors[0:2]"
   ]
  },
  {
   "cell_type": "markdown",
   "id": "f72d2d60",
   "metadata": {},
   "source": [
    "### .append(' ') >  Add object to the end of the list "
   ]
  },
  {
   "cell_type": "code",
   "execution_count": 10,
   "id": "573c7fbd",
   "metadata": {},
   "outputs": [
    {
     "data": {
      "text/plain": [
       "['Choc', 'milk', 'vanilla', 'cookie']"
      ]
     },
     "execution_count": 10,
     "metadata": {},
     "output_type": "execute_result"
    }
   ],
   "source": [
    "icecream_flavors.append('cookie')\n",
    "icecream_flavors"
   ]
  },
  {
   "cell_type": "markdown",
   "id": "1f8d3867",
   "metadata": {},
   "source": [
    "### .insert(index,' ') > Add object to a specific place in the list "
   ]
  },
  {
   "cell_type": "code",
   "execution_count": 11,
   "id": "b8564016",
   "metadata": {},
   "outputs": [
    {
     "data": {
      "text/plain": [
       "['Choc', 'Strawberry', 'milk', 'vanilla', 'cookie']"
      ]
     },
     "execution_count": 11,
     "metadata": {},
     "output_type": "execute_result"
    }
   ],
   "source": [
    "icecream_flavors.insert(1,'Strawberry')\n",
    "icecream_flavors"
   ]
  },
  {
   "cell_type": "markdown",
   "id": "a30269fd",
   "metadata": {},
   "source": [
    "### .remove('') > Remove object from list"
   ]
  },
  {
   "cell_type": "code",
   "execution_count": 12,
   "id": "fcab5704",
   "metadata": {},
   "outputs": [],
   "source": [
    "icecream_flavors.remove(\"milk\")"
   ]
  },
  {
   "cell_type": "code",
   "execution_count": 13,
   "id": "30f445fe",
   "metadata": {},
   "outputs": [
    {
     "data": {
      "text/plain": [
       "['Choc', 'Strawberry', 'vanilla', 'cookie']"
      ]
     },
     "execution_count": 13,
     "metadata": {},
     "output_type": "execute_result"
    }
   ],
   "source": [
    "icecream_flavors"
   ]
  },
  {
   "cell_type": "markdown",
   "id": "b2d14a0b",
   "metadata": {},
   "source": [
    "### .pop(index) > remove the object of that index"
   ]
  },
  {
   "cell_type": "code",
   "execution_count": 14,
   "id": "b33eea2f",
   "metadata": {},
   "outputs": [
    {
     "data": {
      "text/plain": [
       "['Choc', 'Strawberry', 'cookie']"
      ]
     },
     "execution_count": 14,
     "metadata": {},
     "output_type": "execute_result"
    }
   ],
   "source": [
    "icecream_flavors.pop(2)\n",
    "icecream_flavors"
   ]
  },
  {
   "cell_type": "markdown",
   "id": "5d679542",
   "metadata": {},
   "source": [
    "### Change an element in a list"
   ]
  },
  {
   "cell_type": "code",
   "execution_count": 15,
   "id": "f0c51ee5",
   "metadata": {},
   "outputs": [
    {
     "data": {
      "text/plain": [
       "['Choc', 'Strawberry', 'milk']"
      ]
     },
     "execution_count": 15,
     "metadata": {},
     "output_type": "execute_result"
    }
   ],
   "source": [
    "icecream_flavors[2]='milk'\n",
    "icecream_flavors"
   ]
  },
  {
   "cell_type": "markdown",
   "id": "edfe64a4",
   "metadata": {},
   "source": [
    "### .clear() Removes all the items/ elements"
   ]
  },
  {
   "cell_type": "markdown",
   "id": "c7b8dd30",
   "metadata": {},
   "source": [
    "### .sort() > Order the items "
   ]
  },
  {
   "cell_type": "code",
   "execution_count": 16,
   "id": "eaad9328",
   "metadata": {},
   "outputs": [
    {
     "data": {
      "text/plain": [
       "['Choc', 'Strawberry', 'milk']"
      ]
     },
     "execution_count": 16,
     "metadata": {},
     "output_type": "execute_result"
    }
   ],
   "source": [
    "icecream_flavors.sort()\n",
    "icecream_flavors"
   ]
  },
  {
   "cell_type": "markdown",
   "id": "7fb15882",
   "metadata": {},
   "source": [
    "### .reverse() > Order in reverse "
   ]
  },
  {
   "cell_type": "code",
   "execution_count": 17,
   "id": "abfeb2d4",
   "metadata": {},
   "outputs": [
    {
     "data": {
      "text/plain": [
       "['milk', 'Strawberry', 'Choc']"
      ]
     },
     "execution_count": 17,
     "metadata": {},
     "output_type": "execute_result"
    }
   ],
   "source": [
    "icecream_flavors.reverse()\n",
    "icecream_flavors"
   ]
  },
  {
   "cell_type": "markdown",
   "id": "6185ef2f",
   "metadata": {},
   "source": [
    "### .copy() > Create a copy"
   ]
  },
  {
   "cell_type": "code",
   "execution_count": 18,
   "id": "3999ce17",
   "metadata": {},
   "outputs": [
    {
     "data": {
      "text/plain": [
       "['milk', 'Strawberry', 'Choc']"
      ]
     },
     "execution_count": 18,
     "metadata": {},
     "output_type": "execute_result"
    }
   ],
   "source": [
    "copy_icecream_flav = icecream_flavors.copy()\n",
    "copy_icecream_flav"
   ]
  },
  {
   "cell_type": "markdown",
   "id": "2807daf5",
   "metadata": {},
   "source": [
    "## 2- Tuple = (...)\n",
    "## - Tuples are similar to lists,  but they're immutable: we can't add or remove items from them. <br> - Ordered, immutable (cannot be modified after creation), and allows duplicate elements."
   ]
  },
  {
   "cell_type": "code",
   "execution_count": 19,
   "id": "0cd57858",
   "metadata": {},
   "outputs": [
    {
     "data": {
      "text/plain": [
       "tuple"
      ]
     },
     "execution_count": 19,
     "metadata": {},
     "output_type": "execute_result"
    }
   ],
   "source": [
    "tuple_scoops = (1,2,3,1,1)\n",
    "type(tuple_scoops)"
   ]
  },
  {
   "cell_type": "code",
   "execution_count": 20,
   "id": "d18e0038",
   "metadata": {},
   "outputs": [
    {
     "data": {
      "text/plain": [
       "1"
      ]
     },
     "execution_count": 20,
     "metadata": {},
     "output_type": "execute_result"
    }
   ],
   "source": [
    "tuple_scoops[0] "
   ]
  },
  {
   "cell_type": "markdown",
   "id": "0614be29",
   "metadata": {},
   "source": [
    "## 3- Set ={...}\n",
    "## - Similar to tuples but they have no duplicate elements > Cannot be accessed with index (unordered) <br> - Unordered, mutable (modifiable), but does not allow duplicate elements."
   ]
  },
  {
   "cell_type": "code",
   "execution_count": 21,
   "id": "14871421",
   "metadata": {},
   "outputs": [
    {
     "data": {
      "text/plain": [
       "set"
      ]
     },
     "execution_count": 21,
     "metadata": {},
     "output_type": "execute_result"
    }
   ],
   "source": [
    "daily_pints = {1,2,3}\n",
    "type(daily_pints)"
   ]
  },
  {
   "cell_type": "code",
   "execution_count": 22,
   "id": "4dec4422",
   "metadata": {},
   "outputs": [
    {
     "data": {
      "text/plain": [
       "{1, 2, 3, 4, 31, 33}"
      ]
     },
     "execution_count": 22,
     "metadata": {},
     "output_type": "execute_result"
    }
   ],
   "source": [
    "daily_pints_log = {1,2,31,2,3,4,1,31,33}\n",
    "# Prints only unique values\n",
    "daily_pints_log"
   ]
  },
  {
   "cell_type": "code",
   "execution_count": 23,
   "id": "0babdf37",
   "metadata": {},
   "outputs": [
    {
     "data": {
      "text/plain": [
       "{0, 1, 2, 3, 5, 7, 22, 24}"
      ]
     },
     "execution_count": 23,
     "metadata": {},
     "output_type": "execute_result"
    }
   ],
   "source": [
    "wifes_daily_pints_log = {1,3,5,7,24,22,0,1,2}\n",
    "wifes_daily_pints_log"
   ]
  },
  {
   "cell_type": "markdown",
   "id": "c5bdccff",
   "metadata": {},
   "source": [
    "### print(set1 | set2) -> Find all unique values in 2 sets "
   ]
  },
  {
   "cell_type": "code",
   "execution_count": 24,
   "id": "13d2c285",
   "metadata": {},
   "outputs": [
    {
     "data": {
      "text/plain": [
       "{0, 1, 2, 3, 4, 5, 7, 22, 24, 31, 33}"
      ]
     },
     "execution_count": 24,
     "metadata": {},
     "output_type": "execute_result"
    }
   ],
   "source": [
    "daily_pints_log | wifes_daily_pints_log"
   ]
  },
  {
   "cell_type": "markdown",
   "id": "9de822b8",
   "metadata": {},
   "source": [
    "### print(set1 & set2) -> Find all common values between 2 sets "
   ]
  },
  {
   "cell_type": "code",
   "execution_count": 25,
   "id": "8ebaee9f",
   "metadata": {},
   "outputs": [
    {
     "data": {
      "text/plain": [
       "{1, 2, 3}"
      ]
     },
     "execution_count": 25,
     "metadata": {},
     "output_type": "execute_result"
    }
   ],
   "source": [
    "daily_pints_log & wifes_daily_pints_log"
   ]
  },
  {
   "cell_type": "markdown",
   "id": "6a032d75",
   "metadata": {},
   "source": [
    "### print(set1 - set2) -> Find items that are in list1 and not in list2"
   ]
  },
  {
   "cell_type": "code",
   "execution_count": 26,
   "id": "d4481630",
   "metadata": {},
   "outputs": [
    {
     "data": {
      "text/plain": [
       "{4, 31, 33}"
      ]
     },
     "execution_count": 26,
     "metadata": {},
     "output_type": "execute_result"
    }
   ],
   "source": [
    "daily_pints_log - wifes_daily_pints_log"
   ]
  },
  {
   "cell_type": "markdown",
   "id": "c0ad21fb",
   "metadata": {},
   "source": [
    "### print(set2 - set1) -> Find items that are in list2 and not in list1"
   ]
  },
  {
   "cell_type": "code",
   "execution_count": 27,
   "id": "f91894c8",
   "metadata": {},
   "outputs": [
    {
     "data": {
      "text/plain": [
       "{0, 5, 7, 22, 24}"
      ]
     },
     "execution_count": 27,
     "metadata": {},
     "output_type": "execute_result"
    }
   ],
   "source": [
    "wifes_daily_pints_log - daily_pints_log "
   ]
  },
  {
   "cell_type": "markdown",
   "id": "4a2ed577",
   "metadata": {},
   "source": [
    "### set1^set2 -> Find values that are in either list1 or list2 but not in both "
   ]
  },
  {
   "cell_type": "code",
   "execution_count": 28,
   "id": "5160e765",
   "metadata": {},
   "outputs": [
    {
     "data": {
      "text/plain": [
       "{0, 4, 5, 7, 22, 24, 31, 33}"
      ]
     },
     "execution_count": 28,
     "metadata": {},
     "output_type": "execute_result"
    }
   ],
   "source": [
    "daily_pints_log ^ wifes_daily_pints_log "
   ]
  },
  {
   "cell_type": "markdown",
   "id": "f31e9b21",
   "metadata": {},
   "source": [
    "## 4- dictionary = {key1: value1, <br> key2: value2, <br> key3: list , <br> ....} <br> - Unordered, mutable (modifiable), and stores key-value pairs. <br> - key cannot be a list while value can be a list "
   ]
  },
  {
   "cell_type": "code",
   "execution_count": 29,
   "id": "8055374e",
   "metadata": {},
   "outputs": [],
   "source": [
    "dict_icecream = {'name': 'Mireille Nehme', \n",
    "                 'weekly intake': 3,\n",
    "                 'favorite flavour': ['Cookie','Chocolate'] \n",
    "                }"
   ]
  },
  {
   "cell_type": "code",
   "execution_count": 30,
   "id": "b16e6e46",
   "metadata": {},
   "outputs": [
    {
     "data": {
      "text/plain": [
       "dict"
      ]
     },
     "execution_count": 30,
     "metadata": {},
     "output_type": "execute_result"
    }
   ],
   "source": [
    "type(dict_icecream)"
   ]
  },
  {
   "cell_type": "code",
   "execution_count": 31,
   "id": "b0c17665",
   "metadata": {},
   "outputs": [
    {
     "data": {
      "text/plain": [
       "{'name': 'Mireille Nehme',\n",
       " 'weekly intake': 3,\n",
       " 'favorite flavour': ['Cookie', 'Chocolate']}"
      ]
     },
     "execution_count": 31,
     "metadata": {},
     "output_type": "execute_result"
    }
   ],
   "source": [
    "dict_icecream"
   ]
  },
  {
   "cell_type": "markdown",
   "id": "b3a89324",
   "metadata": {},
   "source": [
    "## Print dictionary values"
   ]
  },
  {
   "cell_type": "code",
   "execution_count": 32,
   "id": "e25f2024",
   "metadata": {},
   "outputs": [
    {
     "data": {
      "text/plain": [
       "dict_values(['Mireille Nehme', 3, ['Cookie', 'Chocolate']])"
      ]
     },
     "execution_count": 32,
     "metadata": {},
     "output_type": "execute_result"
    }
   ],
   "source": [
    "dict_icecream.values()"
   ]
  },
  {
   "cell_type": "markdown",
   "id": "1adbe705",
   "metadata": {},
   "source": [
    "## Print dictionary keys"
   ]
  },
  {
   "cell_type": "code",
   "execution_count": 33,
   "id": "7556f021",
   "metadata": {},
   "outputs": [
    {
     "data": {
      "text/plain": [
       "dict_keys(['name', 'weekly intake', 'favorite flavour'])"
      ]
     },
     "execution_count": 33,
     "metadata": {},
     "output_type": "execute_result"
    }
   ],
   "source": [
    "dict_icecream.keys()"
   ]
  },
  {
   "cell_type": "markdown",
   "id": "79e45f04",
   "metadata": {},
   "source": [
    "## Print dictionary items"
   ]
  },
  {
   "cell_type": "code",
   "execution_count": 34,
   "id": "a8919c96",
   "metadata": {},
   "outputs": [
    {
     "data": {
      "text/plain": [
       "dict_items([('name', 'Mireille Nehme'), ('weekly intake', 3), ('favorite flavour', ['Cookie', 'Chocolate'])])"
      ]
     },
     "execution_count": 34,
     "metadata": {},
     "output_type": "execute_result"
    }
   ],
   "source": [
    "dict_icecream.items()"
   ]
  },
  {
   "cell_type": "markdown",
   "id": "81589cc2",
   "metadata": {},
   "source": [
    "## Get dictionary length "
   ]
  },
  {
   "cell_type": "code",
   "execution_count": 35,
   "id": "4449e654",
   "metadata": {},
   "outputs": [
    {
     "data": {
      "text/plain": [
       "3"
      ]
     },
     "execution_count": 35,
     "metadata": {},
     "output_type": "execute_result"
    }
   ],
   "source": [
    "len(dict_icecream)"
   ]
  },
  {
   "cell_type": "markdown",
   "id": "aca88e49",
   "metadata": {},
   "source": [
    "## Print a specific value in a dictionary"
   ]
  },
  {
   "cell_type": "code",
   "execution_count": 36,
   "id": "12d5d777",
   "metadata": {},
   "outputs": [
    {
     "data": {
      "text/plain": [
       "'Mireille Nehme'"
      ]
     },
     "execution_count": 36,
     "metadata": {},
     "output_type": "execute_result"
    }
   ],
   "source": [
    "dict_icecream['name']"
   ]
  },
  {
   "cell_type": "markdown",
   "id": "51d053bf",
   "metadata": {},
   "source": [
    "## Change a specific value in a dictionary"
   ]
  },
  {
   "cell_type": "code",
   "execution_count": 37,
   "id": "824bd7e0",
   "metadata": {},
   "outputs": [
    {
     "data": {
      "text/plain": [
       "{'name': 'Mireille Nehme',\n",
       " 'weekly intake': 4,\n",
       " 'favorite flavour': ['Cookie', 'Chocolate']}"
      ]
     },
     "execution_count": 37,
     "metadata": {},
     "output_type": "execute_result"
    }
   ],
   "source": [
    "dict_icecream['weekly intake'] = 4\n",
    "dict_icecream"
   ]
  },
  {
   "cell_type": "markdown",
   "id": "a80b1269",
   "metadata": {},
   "source": [
    "## If the value in a dictionary is a list it's indexed"
   ]
  },
  {
   "cell_type": "code",
   "execution_count": 38,
   "id": "51802bbc",
   "metadata": {},
   "outputs": [
    {
     "data": {
      "text/plain": [
       "'Chocolate'"
      ]
     },
     "execution_count": 38,
     "metadata": {},
     "output_type": "execute_result"
    }
   ],
   "source": [
    "dict_icecream['favorite flavour'][1]"
   ]
  },
  {
   "cell_type": "markdown",
   "id": "cb12dd62",
   "metadata": {},
   "source": [
    "## .update({....}) --> Add to a dictionary "
   ]
  },
  {
   "cell_type": "code",
   "execution_count": 39,
   "id": "7b58d0d3",
   "metadata": {},
   "outputs": [
    {
     "data": {
      "text/plain": [
       "{'name': 'Mireille Nehme',\n",
       " 'weekly intake': 4,\n",
       " 'favorite flavour': ['Cookie', 'Chocolate'],\n",
       " 'weight': 50}"
      ]
     },
     "execution_count": 39,
     "metadata": {},
     "output_type": "execute_result"
    }
   ],
   "source": [
    "dict_icecream.update({'name': 'Mireille Nehme',\n",
    " 'weekly intake': 4,\n",
    " 'weight': 50})\n",
    "dict_icecream"
   ]
  },
  {
   "cell_type": "markdown",
   "id": "f071c6f5",
   "metadata": {},
   "source": [
    "## Delete from a dictionary "
   ]
  },
  {
   "cell_type": "code",
   "execution_count": 40,
   "id": "fcb6700b",
   "metadata": {},
   "outputs": [
    {
     "data": {
      "text/plain": [
       "{'name': 'Mireille Nehme',\n",
       " 'weekly intake': 4,\n",
       " 'favorite flavour': ['Cookie', 'Chocolate']}"
      ]
     },
     "execution_count": 40,
     "metadata": {},
     "output_type": "execute_result"
    }
   ],
   "source": [
    "del dict_icecream['weight']\n",
    "dict_icecream"
   ]
  },
  {
   "cell_type": "code",
   "execution_count": 41,
   "id": "3f6001d4",
   "metadata": {},
   "outputs": [
    {
     "data": {
      "text/plain": [
       "{'name': 'Mireille Nehme', 'favorite flavour': ['Cookie', 'Chocolate']}"
      ]
     },
     "execution_count": 41,
     "metadata": {},
     "output_type": "execute_result"
    }
   ],
   "source": [
    "dict_icecream.pop('weekly intake')\n",
    "dict_icecream"
   ]
  },
  {
   "cell_type": "markdown",
   "id": "6d7da36f",
   "metadata": {},
   "source": [
    "Check Alex the Analyst video for more details <br> https://www.youtube.com/watch?v=ppsCxnNm-JI&list=PLUaB-1hjhk8GHKfndKjyDMHPg_HlQ4vpK&index=3"
   ]
  }
 ],
 "metadata": {
  "kernelspec": {
   "display_name": "PythonData",
   "language": "python",
   "name": "pythondata"
  },
  "language_info": {
   "codemirror_mode": {
    "name": "ipython",
    "version": 3
   },
   "file_extension": ".py",
   "mimetype": "text/x-python",
   "name": "python",
   "nbconvert_exporter": "python",
   "pygments_lexer": "ipython3",
   "version": "3.7.13"
  }
 },
 "nbformat": 4,
 "nbformat_minor": 5
}
