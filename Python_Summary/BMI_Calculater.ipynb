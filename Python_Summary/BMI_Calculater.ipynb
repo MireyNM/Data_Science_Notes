{
 "cells": [
  {
   "cell_type": "markdown",
   "id": "9172f1bb",
   "metadata": {},
   "source": [
    "## BMI Calculater \n",
    "### A small project by Alex Thr Analyst \n",
    "https://www.youtube.com/watch?v=ey1VNjU0YbM&list=PLUaB-1hjhk8GHKfndKjyDMHPg_HlQ4vpK&index=10"
   ]
  },
  {
   "cell_type": "code",
   "execution_count": 28,
   "id": "e550a55e",
   "metadata": {},
   "outputs": [
    {
     "name": "stdout",
     "output_type": "stream",
     "text": [
      "Input the following to calculate your Body Mass Index (BMI)\n",
      "Weight(Kg): 49\n",
      "Height(m): 1.66\n",
      "BMI = 17.78\n",
      "Your BMI is classified 'Underweight'.\n",
      "You have a minimal health risk\n"
     ]
    }
   ],
   "source": [
    "print(\"Input the following to calculate your Body Mass Index (BMI)\")\n",
    "weight = int(input(\"Weight(Kg): \"))\n",
    "height = float(input(\"Height(m): \"))\n",
    "\n",
    "#The BMI is calculated by dividing an adult's weight in kilograms by their height in metres squared.\n",
    "BMI = weight/(height**2)\n",
    "\n",
    "if BMI>0:\n",
    "    if BMI < 18.5:\n",
    "        print(f\"BMI = {BMI:.2f}\")\n",
    "        print(\"Your BMI is classified 'Underweight'.\\nYou have a minimal health risk\")\n",
    "    elif 18.5 < BMI < 24.9:\n",
    "        print(f\"BMI = {BMI:.2f}\")\n",
    "        print(\"Your BMI is classified 'Normal Weight'.\\nYou have a minimal health risk\")\n",
    "    elif 25 < BMI < 29.9:\n",
    "        print(f\"BMI = {BMI:.2f}\")\n",
    "        print(\"Your BMI is classified 'Overweight'.\\nYou have an increased health risk\")\n",
    "    elif 30 < BMI < 34.9:\n",
    "        print(f\"BMI = {BMI:.2f}\")\n",
    "        print(\"Your BMI is classified 'Obeise'.\\nYou have a high health risk\")\n",
    "    elif 35 < BMI < 39.9:\n",
    "        print(f\"BMI = {BMI:.2f}\")\n",
    "        print(\"Your BMI is classified 'Severely Obeise'.\\nYou have a very high health risk\")\n",
    "    else:\n",
    "        print(f\"BMI = {BMI:.2f}\")\n",
    "        print(\"Your BMI is classified 'Morbidly Obeise'.\\nYou have an extremely high health risk\")\n",
    "else:\n",
    "    print(\"Please enter valid input.\")"
   ]
  }
 ],
 "metadata": {
  "kernelspec": {
   "display_name": "PythonData",
   "language": "python",
   "name": "pythondata"
  },
  "language_info": {
   "codemirror_mode": {
    "name": "ipython",
    "version": 3
   },
   "file_extension": ".py",
   "mimetype": "text/x-python",
   "name": "python",
   "nbconvert_exporter": "python",
   "pygments_lexer": "ipython3",
   "version": "3.7.13"
  }
 },
 "nbformat": 4,
 "nbformat_minor": 5
}
