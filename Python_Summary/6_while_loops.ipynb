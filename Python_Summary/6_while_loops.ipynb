{
 "cells": [
  {
   "cell_type": "markdown",
   "id": "a6328ead",
   "metadata": {},
   "source": [
    "## While Loops"
   ]
  },
  {
   "cell_type": "code",
   "execution_count": 1,
   "id": "d347df3b",
   "metadata": {},
   "outputs": [
    {
     "name": "stdout",
     "output_type": "stream",
     "text": [
      "1\n",
      "2\n",
      "3\n",
      "4\n",
      "5\n",
      "6\n",
      "7\n",
      "8\n",
      "9\n",
      "10\n"
     ]
    }
   ],
   "source": [
    "number = 1\n",
    "\n",
    "while number <= 10:\n",
    "    print(number)\n",
    "    number += 1 "
   ]
  },
  {
   "cell_type": "markdown",
   "id": "0219c147",
   "metadata": {},
   "source": [
    "# Break Statement"
   ]
  },
  {
   "cell_type": "code",
   "execution_count": 2,
   "id": "894ca698",
   "metadata": {},
   "outputs": [
    {
     "name": "stdout",
     "output_type": "stream",
     "text": [
      "0\n",
      "1\n",
      "2\n",
      "3\n"
     ]
    }
   ],
   "source": [
    "number_2 = 0\n",
    "\n",
    "while number_2 <=5: \n",
    "    print(number_2)\n",
    "    if number_2 == 3: \n",
    "        break\n",
    "    number_2 +=1"
   ]
  },
  {
   "cell_type": "markdown",
   "id": "b5684764",
   "metadata": {},
   "source": [
    "# while... if... break... else Statement "
   ]
  },
  {
   "cell_type": "code",
   "execution_count": 3,
   "id": "0de47a98",
   "metadata": {},
   "outputs": [
    {
     "name": "stdout",
     "output_type": "stream",
     "text": [
      "0\n",
      "1\n",
      "2\n",
      "3\n",
      "4\n",
      "5\n",
      "6\n",
      "7\n",
      "8\n",
      "9\n",
      "No longer less than 10!\n"
     ]
    }
   ],
   "source": [
    "number_3 = 0\n",
    "\n",
    "while number_3 < 10: \n",
    "    print(number_3)\n",
    "    #if the number in the following line is less than 10, the else stat isn't going to work\n",
    "    if number_3 == 11: \n",
    "        break\n",
    "    number_3 +=1\n",
    "else:\n",
    "        print(\"No longer less than 10!\")    "
   ]
  },
  {
   "cell_type": "markdown",
   "id": "6e3b5b9a",
   "metadata": {},
   "source": [
    "# while... if... continue... else Statement "
   ]
  },
  {
   "cell_type": "code",
   "execution_count": 7,
   "id": "d7b75be9",
   "metadata": {},
   "outputs": [
    {
     "name": "stdout",
     "output_type": "stream",
     "text": [
      "1\n",
      "2\n",
      "3\n",
      "4\n",
      "6\n",
      "7\n",
      "8\n",
      "9\n",
      "10\n",
      "No longer less than 10!\n"
     ]
    }
   ],
   "source": [
    "number_4 = 0\n",
    "\n",
    "while number_4 < 10: \n",
    "    number_4 +=1\n",
    "    \n",
    "    if number_4 == 5: \n",
    "        continue\n",
    "    print(number_4)\n",
    "    \n",
    "else:\n",
    "        print(\"No longer less than 10!\") "
   ]
  }
 ],
 "metadata": {
  "kernelspec": {
   "display_name": "PythonData",
   "language": "python",
   "name": "pythondata"
  },
  "language_info": {
   "codemirror_mode": {
    "name": "ipython",
    "version": 3
   },
   "file_extension": ".py",
   "mimetype": "text/x-python",
   "name": "python",
   "nbconvert_exporter": "python",
   "pygments_lexer": "ipython3",
   "version": "3.7.13"
  }
 },
 "nbformat": 4,
 "nbformat_minor": 5
}
