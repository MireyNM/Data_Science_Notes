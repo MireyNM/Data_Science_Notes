{
 "cells": [
  {
   "cell_type": "markdown",
   "id": "1f3c3a2e",
   "metadata": {},
   "source": [
    "## For Loops"
   ]
  },
  {
   "cell_type": "code",
   "execution_count": 1,
   "id": "700c5d61",
   "metadata": {},
   "outputs": [],
   "source": [
    "list_of_nb=[1,2,3,4,5]"
   ]
  },
  {
   "cell_type": "code",
   "execution_count": 2,
   "id": "52c6c8ec",
   "metadata": {},
   "outputs": [
    {
     "name": "stdout",
     "output_type": "stream",
     "text": [
      "1\n",
      "2\n",
      "3\n",
      "4\n",
      "5\n"
     ]
    }
   ],
   "source": [
    "for number in list_of_nb:\n",
    "    print(number)"
   ]
  },
  {
   "cell_type": "code",
   "execution_count": 6,
   "id": "9eb80f8c",
   "metadata": {},
   "outputs": [
    {
     "name": "stdout",
     "output_type": "stream",
     "text": [
      "1 2 3 4 5 "
     ]
    }
   ],
   "source": [
    "for number in list_of_nb:\n",
    "    print(number,end=' ')"
   ]
  },
  {
   "cell_type": "code",
   "execution_count": 16,
   "id": "ead9b131",
   "metadata": {},
   "outputs": [
    {
     "name": "stdout",
     "output_type": "stream",
     "text": [
      "2\n",
      "3\n",
      "4\n",
      "5\n",
      "6\n"
     ]
    }
   ],
   "source": [
    "for number in list_of_nb:\n",
    "    number += 1\n",
    "    print(number)"
   ]
  },
  {
   "cell_type": "code",
   "execution_count": 17,
   "id": "862a92e6",
   "metadata": {},
   "outputs": [],
   "source": [
    "icecream_dict = {\n",
    "    'name': 'Mireille Nehme',\n",
    "    'weekly intake': 2,\n",
    "    'favorite flavors': ['Chcoclate','Cookies','Milk']\n",
    "}"
   ]
  },
  {
   "cell_type": "code",
   "execution_count": 30,
   "id": "0520db6d",
   "metadata": {},
   "outputs": [
    {
     "name": "stdout",
     "output_type": "stream",
     "text": [
      "name --> Mireille Nehme\n",
      "weekly intake --> 2\n",
      "favorite flavors --> ['Chcoclate', 'Cookies', 'Milk']\n"
     ]
    }
   ],
   "source": [
    "for key,values in icecream_dict.items():\n",
    "    print(key,'-->',values)"
   ]
  },
  {
   "cell_type": "code",
   "execution_count": 28,
   "id": "52bba397",
   "metadata": {},
   "outputs": [
    {
     "name": "stdout",
     "output_type": "stream",
     "text": [
      "Mireille Nehme\n",
      "2\n",
      "['Chcoclate', 'Cookies', 'Milk']\n"
     ]
    }
   ],
   "source": [
    "for value in icecream_dict.values():\n",
    "    print(value)"
   ]
  },
  {
   "cell_type": "code",
   "execution_count": 29,
   "id": "ddd639a4",
   "metadata": {},
   "outputs": [
    {
     "name": "stdout",
     "output_type": "stream",
     "text": [
      "name\n",
      "weekly intake\n",
      "favorite flavors\n"
     ]
    }
   ],
   "source": [
    "for key,values in icecream_dict.items():\n",
    "    print(key)"
   ]
  },
  {
   "cell_type": "markdown",
   "id": "ac959264",
   "metadata": {},
   "source": [
    "## Nested For Loop"
   ]
  },
  {
   "cell_type": "code",
   "execution_count": 35,
   "id": "582a3523",
   "metadata": {},
   "outputs": [],
   "source": [
    "flavors = ['Chcoclate','Cookies','Milk']\n",
    "toppings = ['Oreos','Kitkat','Marshmallow']"
   ]
  },
  {
   "cell_type": "code",
   "execution_count": 40,
   "id": "a09ffb15",
   "metadata": {},
   "outputs": [
    {
     "name": "stdout",
     "output_type": "stream",
     "text": [
      "Chcoclate topped with Oreos\n",
      "----------------------------------\n",
      "Chcoclate topped with Kitkat\n",
      "----------------------------------\n",
      "Chcoclate topped with Marshmallow\n",
      "----------------------------------\n",
      "Cookies topped with Oreos\n",
      "----------------------------------\n",
      "Cookies topped with Kitkat\n",
      "----------------------------------\n",
      "Cookies topped with Marshmallow\n",
      "----------------------------------\n",
      "Milk topped with Oreos\n",
      "----------------------------------\n",
      "Milk topped with Kitkat\n",
      "----------------------------------\n",
      "Milk topped with Marshmallow\n",
      "----------------------------------\n"
     ]
    }
   ],
   "source": [
    "for flavor in flavors:\n",
    "    for topping in toppings:\n",
    "        print(flavor,'topped with',topping)\n",
    "        print('----------------------------------')"
   ]
  }
 ],
 "metadata": {
  "kernelspec": {
   "display_name": "PythonData",
   "language": "python",
   "name": "pythondata"
  },
  "language_info": {
   "codemirror_mode": {
    "name": "ipython",
    "version": 3
   },
   "file_extension": ".py",
   "mimetype": "text/x-python",
   "name": "python",
   "nbconvert_exporter": "python",
   "pygments_lexer": "ipython3",
   "version": "3.7.13"
  }
 },
 "nbformat": 4,
 "nbformat_minor": 5
}
