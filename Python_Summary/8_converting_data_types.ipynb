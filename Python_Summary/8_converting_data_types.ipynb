{
 "cells": [
  {
   "cell_type": "markdown",
   "id": "2d099aa4",
   "metadata": {},
   "source": [
    "# Converting Data Types"
   ]
  },
  {
   "cell_type": "code",
   "execution_count": 1,
   "id": "2f01495e",
   "metadata": {},
   "outputs": [
    {
     "data": {
      "text/plain": [
       "int"
      ]
     },
     "execution_count": 1,
     "metadata": {},
     "output_type": "execute_result"
    }
   ],
   "source": [
    "numb_int = 8\n",
    "\n",
    "type(numb_int)"
   ]
  },
  {
   "cell_type": "code",
   "execution_count": 2,
   "id": "24b36928",
   "metadata": {},
   "outputs": [
    {
     "data": {
      "text/plain": [
       "str"
      ]
     },
     "execution_count": 2,
     "metadata": {},
     "output_type": "execute_result"
    }
   ],
   "source": [
    "numb_str = '8'\n",
    "\n",
    "type(numb_str)"
   ]
  },
  {
   "cell_type": "code",
   "execution_count": 4,
   "id": "e17c0a5f",
   "metadata": {},
   "outputs": [],
   "source": [
    "## Concatenate int + str doesn't work\n",
    "# num_sum = numb_int + numb_str"
   ]
  },
  {
   "cell_type": "markdown",
   "id": "43b8f3b4",
   "metadata": {},
   "source": [
    "## Convert int to str"
   ]
  },
  {
   "cell_type": "code",
   "execution_count": 5,
   "id": "a9e09b91",
   "metadata": {},
   "outputs": [
    {
     "data": {
      "text/plain": [
       "'88'"
      ]
     },
     "execution_count": 5,
     "metadata": {},
     "output_type": "execute_result"
    }
   ],
   "source": [
    "num_sum_str = str(numb_int) + numb_str\n",
    "num_sum_str"
   ]
  },
  {
   "cell_type": "code",
   "execution_count": 6,
   "id": "e69f84c8",
   "metadata": {},
   "outputs": [
    {
     "data": {
      "text/plain": [
       "str"
      ]
     },
     "execution_count": 6,
     "metadata": {},
     "output_type": "execute_result"
    }
   ],
   "source": [
    "type(num_sum_str)"
   ]
  },
  {
   "cell_type": "markdown",
   "id": "25577764",
   "metadata": {},
   "source": [
    "## Convert str to int"
   ]
  },
  {
   "cell_type": "code",
   "execution_count": 7,
   "id": "ae667f9d",
   "metadata": {},
   "outputs": [
    {
     "data": {
      "text/plain": [
       "16"
      ]
     },
     "execution_count": 7,
     "metadata": {},
     "output_type": "execute_result"
    }
   ],
   "source": [
    "num_sum_int = numb_int + int(numb_str)\n",
    "num_sum_int"
   ]
  },
  {
   "cell_type": "code",
   "execution_count": 8,
   "id": "741ce603",
   "metadata": {},
   "outputs": [
    {
     "data": {
      "text/plain": [
       "int"
      ]
     },
     "execution_count": 8,
     "metadata": {},
     "output_type": "execute_result"
    }
   ],
   "source": [
    "type(num_sum_int)"
   ]
  },
  {
   "cell_type": "markdown",
   "id": "4aa691e3",
   "metadata": {},
   "source": [
    "## List type"
   ]
  },
  {
   "cell_type": "code",
   "execution_count": 9,
   "id": "b4ebe28f",
   "metadata": {},
   "outputs": [
    {
     "data": {
      "text/plain": [
       "list"
      ]
     },
     "execution_count": 9,
     "metadata": {},
     "output_type": "execute_result"
    }
   ],
   "source": [
    "list1=[1,2,3,4,3]\n",
    "type(list1)"
   ]
  },
  {
   "cell_type": "markdown",
   "id": "cc3ee6d8",
   "metadata": {},
   "source": [
    "## Convert list to tuple"
   ]
  },
  {
   "cell_type": "code",
   "execution_count": 10,
   "id": "33389658",
   "metadata": {},
   "outputs": [
    {
     "data": {
      "text/plain": [
       "(1, 2, 3, 4, 3)"
      ]
     },
     "execution_count": 10,
     "metadata": {},
     "output_type": "execute_result"
    }
   ],
   "source": [
    "tuple(list1)"
   ]
  },
  {
   "cell_type": "code",
   "execution_count": 11,
   "id": "815483b9",
   "metadata": {},
   "outputs": [
    {
     "data": {
      "text/plain": [
       "tuple"
      ]
     },
     "execution_count": 11,
     "metadata": {},
     "output_type": "execute_result"
    }
   ],
   "source": [
    "type(tuple(list1))"
   ]
  },
  {
   "cell_type": "markdown",
   "id": "ac5f0a5a",
   "metadata": {},
   "source": [
    "## Dictionary keys/ values to list"
   ]
  },
  {
   "cell_type": "code",
   "execution_count": 12,
   "id": "97033d6d",
   "metadata": {},
   "outputs": [
    {
     "data": {
      "text/plain": [
       "dict"
      ]
     },
     "execution_count": 12,
     "metadata": {},
     "output_type": "execute_result"
    }
   ],
   "source": [
    "dict_type = {'a': 1, 'b': 2, 'c': 3}\n",
    "\n",
    "type(dict_type)"
   ]
  },
  {
   "cell_type": "code",
   "execution_count": 13,
   "id": "51bfd5a3",
   "metadata": {},
   "outputs": [
    {
     "data": {
      "text/plain": [
       "dict_items([('a', 1), ('b', 2), ('c', 3)])"
      ]
     },
     "execution_count": 13,
     "metadata": {},
     "output_type": "execute_result"
    }
   ],
   "source": [
    "dict_type.items()"
   ]
  },
  {
   "cell_type": "code",
   "execution_count": 14,
   "id": "f2de027d",
   "metadata": {},
   "outputs": [
    {
     "data": {
      "text/plain": [
       "dict_keys(['a', 'b', 'c'])"
      ]
     },
     "execution_count": 14,
     "metadata": {},
     "output_type": "execute_result"
    }
   ],
   "source": [
    "dict_type.keys()"
   ]
  },
  {
   "cell_type": "code",
   "execution_count": 16,
   "id": "fc27ee89",
   "metadata": {},
   "outputs": [
    {
     "data": {
      "text/plain": [
       "dict_keys"
      ]
     },
     "execution_count": 16,
     "metadata": {},
     "output_type": "execute_result"
    }
   ],
   "source": [
    "type(dict_type.keys())"
   ]
  },
  {
   "cell_type": "code",
   "execution_count": 22,
   "id": "94497c69",
   "metadata": {},
   "outputs": [
    {
     "data": {
      "text/plain": [
       "['a', 'b', 'c']"
      ]
     },
     "execution_count": 22,
     "metadata": {},
     "output_type": "execute_result"
    }
   ],
   "source": [
    "list(dict_type.keys())"
   ]
  },
  {
   "cell_type": "code",
   "execution_count": 17,
   "id": "100e2dc7",
   "metadata": {},
   "outputs": [
    {
     "data": {
      "text/plain": [
       "list"
      ]
     },
     "execution_count": 17,
     "metadata": {},
     "output_type": "execute_result"
    }
   ],
   "source": [
    "type(list(dict_type.keys()))"
   ]
  },
  {
   "cell_type": "code",
   "execution_count": 15,
   "id": "202455ff",
   "metadata": {},
   "outputs": [
    {
     "data": {
      "text/plain": [
       "dict_values([1, 2, 3])"
      ]
     },
     "execution_count": 15,
     "metadata": {},
     "output_type": "execute_result"
    }
   ],
   "source": [
    "dict_type.values()"
   ]
  },
  {
   "cell_type": "code",
   "execution_count": 19,
   "id": "1ed9269e",
   "metadata": {},
   "outputs": [
    {
     "data": {
      "text/plain": [
       "dict_values"
      ]
     },
     "execution_count": 19,
     "metadata": {},
     "output_type": "execute_result"
    }
   ],
   "source": [
    "type(dict_type.values())"
   ]
  },
  {
   "cell_type": "code",
   "execution_count": 21,
   "id": "06670612",
   "metadata": {},
   "outputs": [
    {
     "data": {
      "text/plain": [
       "[1, 2, 3]"
      ]
     },
     "execution_count": 21,
     "metadata": {},
     "output_type": "execute_result"
    }
   ],
   "source": [
    "list(dict_type.values())"
   ]
  },
  {
   "cell_type": "code",
   "execution_count": 20,
   "id": "04e54f96",
   "metadata": {},
   "outputs": [
    {
     "data": {
      "text/plain": [
       "list"
      ]
     },
     "execution_count": 20,
     "metadata": {},
     "output_type": "execute_result"
    }
   ],
   "source": [
    "type(list(dict_type.values()))"
   ]
  },
  {
   "cell_type": "markdown",
   "id": "131dfc9b",
   "metadata": {},
   "source": [
    "## String to set"
   ]
  },
  {
   "cell_type": "code",
   "execution_count": 23,
   "id": "ec88e077",
   "metadata": {},
   "outputs": [
    {
     "data": {
      "text/plain": [
       "{' ', 'C', 'I', 'a', 'c', 'e', 'h', 'i', 'k', 'l', 'o', 't'}"
      ]
     },
     "execution_count": 23,
     "metadata": {},
     "output_type": "execute_result"
    }
   ],
   "source": [
    "long_str = \"I like Chocolate\"\n",
    "\n",
    "set(long_str)"
   ]
  }
 ],
 "metadata": {
  "kernelspec": {
   "display_name": "PythonData",
   "language": "python",
   "name": "pythondata"
  },
  "language_info": {
   "codemirror_mode": {
    "name": "ipython",
    "version": 3
   },
   "file_extension": ".py",
   "mimetype": "text/x-python",
   "name": "python",
   "nbconvert_exporter": "python",
   "pygments_lexer": "ipython3",
   "version": "3.7.13"
  }
 },
 "nbformat": 4,
 "nbformat_minor": 5
}
