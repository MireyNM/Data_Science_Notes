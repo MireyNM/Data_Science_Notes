{
 "cells": [
  {
   "cell_type": "markdown",
   "id": "099f3628",
   "metadata": {},
   "source": [
    "# The NumPy (=Numeric Python) package \n",
    "## Helps us manipulate large arrays and matrices of numeric data.\n",
    "\n",
    "To use the NumPy module, we need to import it using:"
   ]
  },
  {
   "cell_type": "code",
   "execution_count": 67,
   "id": "58676f59",
   "metadata": {},
   "outputs": [],
   "source": [
    "import numpy\n",
    "\n",
    "# or we can use alias\n",
    "import numpy as np"
   ]
  },
  {
   "cell_type": "code",
   "execution_count": 2,
   "id": "c51f51b1",
   "metadata": {},
   "outputs": [
    {
     "name": "stdout",
     "output_type": "stream",
     "text": [
      "1.21.5\n"
     ]
    }
   ],
   "source": [
    "# Check NumPy version \n",
    "import numpy as np\n",
    "\n",
    "print(np.__version__)"
   ]
  },
  {
   "cell_type": "markdown",
   "id": "9fd84cbc",
   "metadata": {},
   "source": [
    "## Why we use NumPy?\n",
    "- NumPy aims to provide an array object that is up to **50x faster than traditional Python lists.**\n",
    "\n",
    "- NumPy arrays are stored at one continuous place in memory unlike lists, so processes can access and manipulate them very efficiently.This behavior is called locality of reference in computer science.\n"
   ]
  },
  {
   "cell_type": "markdown",
   "id": "a5de5038",
   "metadata": {},
   "source": [
    "# 1. Arrays\n",
    "- NumPy is used to work with arrays. The array object in NumPy is called **ndarray**\n",
    "- We can create a NumPy ndarray object by using the **array()** function.\n",
    "- A NumPy array is a grid of values. They are similar to lists, except that **every element of an array must be the same type.**"
   ]
  },
  {
   "cell_type": "code",
   "execution_count": 3,
   "id": "ee59c4d7",
   "metadata": {},
   "outputs": [
    {
     "name": "stdout",
     "output_type": "stream",
     "text": [
      "2\n"
     ]
    }
   ],
   "source": [
    "a = numpy.array([1,2,3,4,5])\n",
    "print (a[1])"
   ]
  },
  {
   "cell_type": "code",
   "execution_count": 4,
   "id": "2b8ba789",
   "metadata": {},
   "outputs": [
    {
     "name": "stdout",
     "output_type": "stream",
     "text": [
      "2.0\n",
      "[1. 2. 3. 4. 5.]\n"
     ]
    }
   ],
   "source": [
    "b = np.array([1,2,3,4,5],float)\n",
    "print (b[1])\n",
    "print(b)"
   ]
  },
  {
   "cell_type": "markdown",
   "id": "04d62832",
   "metadata": {},
   "source": [
    "### 0-D Arrays\n",
    "0-D arrays, or Scalars, are the elements in an array. Each value in an array is a 0-D array."
   ]
  },
  {
   "cell_type": "code",
   "execution_count": 5,
   "id": "02ae1e14",
   "metadata": {},
   "outputs": [
    {
     "name": "stdout",
     "output_type": "stream",
     "text": [
      "42\n"
     ]
    }
   ],
   "source": [
    "c = np.array(42)\n",
    "print(c)"
   ]
  },
  {
   "cell_type": "markdown",
   "id": "79172cde",
   "metadata": {},
   "source": [
    "### 1-D Arrays\n",
    "An array that has 0-D arrays as its elements is called uni-dimensional or 1-D array.\n",
    "\n",
    "These are the most common and basic arrays."
   ]
  },
  {
   "cell_type": "code",
   "execution_count": 6,
   "id": "fbc2447f",
   "metadata": {},
   "outputs": [
    {
     "name": "stdout",
     "output_type": "stream",
     "text": [
      "[1 2 3 4 5]\n"
     ]
    }
   ],
   "source": [
    "d = np.array([1, 2, 3, 4, 5])\n",
    "print(d)"
   ]
  },
  {
   "cell_type": "markdown",
   "id": "52cf2ebf",
   "metadata": {},
   "source": [
    "### 2-D Arrays\n",
    "An array that has 1-D arrays as its elements is called a 2-D array.\n",
    "\n",
    "These are often used to represent matrix or 2nd order tensors."
   ]
  },
  {
   "cell_type": "code",
   "execution_count": 7,
   "id": "c2275d03",
   "metadata": {},
   "outputs": [
    {
     "name": "stdout",
     "output_type": "stream",
     "text": [
      "[[1 2 3]\n",
      " [4 5 6]]\n"
     ]
    }
   ],
   "source": [
    "e = np.array([[1, 2, 3], [4, 5, 6]])\n",
    "print(e)"
   ]
  },
  {
   "cell_type": "markdown",
   "id": "baa45686",
   "metadata": {},
   "source": [
    "### 3-D arrays\n",
    "An array that has 2-D arrays (matrices) as its elements is called 3-D array.\n",
    "\n",
    "These are often used to represent a 3rd order tensor."
   ]
  },
  {
   "cell_type": "code",
   "execution_count": 8,
   "id": "79de074e",
   "metadata": {},
   "outputs": [
    {
     "name": "stdout",
     "output_type": "stream",
     "text": [
      "[[[1 2 3]\n",
      "  [4 5 6]]\n",
      "\n",
      " [[1 2 3]\n",
      "  [4 5 6]]]\n"
     ]
    }
   ],
   "source": [
    "f = np.array([[[1, 2, 3], [4, 5, 6]], [[1, 2, 3], [4, 5, 6]]])\n",
    "print(f)"
   ]
  },
  {
   "cell_type": "markdown",
   "id": "b116ac42",
   "metadata": {},
   "source": [
    "### ndim\n",
    "The ndim attribute that returns an integer that tells us how many dimensions the array have."
   ]
  },
  {
   "cell_type": "code",
   "execution_count": 9,
   "id": "93c9e45d",
   "metadata": {},
   "outputs": [
    {
     "name": "stdout",
     "output_type": "stream",
     "text": [
      "0\n",
      "1\n",
      "2\n",
      "3\n"
     ]
    }
   ],
   "source": [
    "print(c.ndim)\n",
    "print(d.ndim)\n",
    "print(e.ndim)\n",
    "print(f.ndim)"
   ]
  },
  {
   "cell_type": "markdown",
   "id": "0d31bcfe",
   "metadata": {},
   "source": [
    "### ndmin\n",
    "When the array is created, you can define the number of dimensions by using the ndmin argument."
   ]
  },
  {
   "cell_type": "code",
   "execution_count": 10,
   "id": "6d91e890",
   "metadata": {},
   "outputs": [
    {
     "name": "stdout",
     "output_type": "stream",
     "text": [
      "[[[[[1 2 3 4]]]]]\n",
      "number of dimensions : 5\n"
     ]
    }
   ],
   "source": [
    "arr1 = np.array([1, 2, 3, 4], ndmin=5)\n",
    "print(arr1)\n",
    "print('number of dimensions :', arr1.ndim)"
   ]
  },
  {
   "cell_type": "markdown",
   "id": "edef5b3b",
   "metadata": {},
   "source": [
    "# 2. NumPy Array Indexing\n",
    "The indexes in NumPy arrays start with 0"
   ]
  },
  {
   "cell_type": "code",
   "execution_count": 11,
   "id": "24b178f5",
   "metadata": {},
   "outputs": [
    {
     "name": "stdout",
     "output_type": "stream",
     "text": [
      "7\n"
     ]
    }
   ],
   "source": [
    "# Get third and fourth elements from the following array and add them\n",
    "g = np.array([1, 2, 3, 4])\n",
    "print(g[2] + g[3])"
   ]
  },
  {
   "cell_type": "markdown",
   "id": "f5994ad4",
   "metadata": {},
   "source": [
    "### Access 2-D Arrays"
   ]
  },
  {
   "cell_type": "code",
   "execution_count": 12,
   "id": "db5e64cb",
   "metadata": {},
   "outputs": [
    {
     "name": "stdout",
     "output_type": "stream",
     "text": [
      "2nd element on 1st row:  2\n"
     ]
    }
   ],
   "source": [
    "arr2 = np.array([[1,2,3,4,5], [6,7,8,9,10]])\n",
    "print('2nd element on 1st row: ', arr2[0, 1])"
   ]
  },
  {
   "cell_type": "code",
   "execution_count": 13,
   "id": "f1cf1fc7",
   "metadata": {},
   "outputs": [
    {
     "name": "stdout",
     "output_type": "stream",
     "text": [
      "5th element on 2nd row:  10\n"
     ]
    }
   ],
   "source": [
    "print('5th element on 2nd row: ', arr2[1, 4])"
   ]
  },
  {
   "cell_type": "markdown",
   "id": "cb19c6c7",
   "metadata": {},
   "source": [
    "### Access 3-D Arrays"
   ]
  },
  {
   "cell_type": "code",
   "execution_count": 14,
   "id": "2936b3c0",
   "metadata": {},
   "outputs": [
    {
     "name": "stdout",
     "output_type": "stream",
     "text": [
      "6\n"
     ]
    }
   ],
   "source": [
    "arr3 = np.array([[[1, 2, 3], [4, 5, 6]], [[7, 8, 9], [10, 11, 12]]])\n",
    "\n",
    "print(arr3[0, 1, 2])"
   ]
  },
  {
   "cell_type": "markdown",
   "id": "ab5fba08",
   "metadata": {},
   "source": [
    "### Negative Indexing\n",
    "Use negative indexing to access an array from the end."
   ]
  },
  {
   "cell_type": "code",
   "execution_count": 15,
   "id": "31e636ea",
   "metadata": {},
   "outputs": [
    {
     "name": "stdout",
     "output_type": "stream",
     "text": [
      "Last element from 2nd dim:  10\n"
     ]
    }
   ],
   "source": [
    "arr4 = np.array([[1,2,3,4,5], [6,7,8,9,10]])\n",
    "\n",
    "print('Last element from 2nd dim: ', arr4[1, -1])"
   ]
  },
  {
   "cell_type": "markdown",
   "id": "a13267fd",
   "metadata": {},
   "source": [
    "# 3. NumPy Array Slicing\n",
    "Slicing in python means taking elements from one given index to another given index.\n",
    "\n",
    "We pass slice instead of index like this: [start:end]\n",
    "\n",
    "We can also define the step, like this: [start:end:step]\n",
    "\n",
    "By default : start = 0, step = 1, end : lenght of array"
   ]
  },
  {
   "cell_type": "code",
   "execution_count": 20,
   "id": "bfa7ba89",
   "metadata": {},
   "outputs": [
    {
     "name": "stdout",
     "output_type": "stream",
     "text": [
      "[2 3 4 5]\n"
     ]
    }
   ],
   "source": [
    "arr5 = np.array([1, 2, 3, 4, 5, 6, 7])\n",
    "\n",
    "print(arr5[1:5])"
   ]
  },
  {
   "cell_type": "code",
   "execution_count": 21,
   "id": "10a3b0c8",
   "metadata": {},
   "outputs": [
    {
     "name": "stdout",
     "output_type": "stream",
     "text": [
      "[5 6 7]\n"
     ]
    }
   ],
   "source": [
    "# from index 4 to the end of the array\n",
    "print(arr5[4:])"
   ]
  },
  {
   "cell_type": "code",
   "execution_count": 23,
   "id": "20f3028d",
   "metadata": {},
   "outputs": [
    {
     "name": "stdout",
     "output_type": "stream",
     "text": [
      "[1 2 3 4]\n"
     ]
    }
   ],
   "source": [
    "# Slice elements from the beginning to index 4 (not included)\n",
    "print(arr5[:4])"
   ]
  },
  {
   "cell_type": "code",
   "execution_count": 24,
   "id": "5c0bc3ce",
   "metadata": {},
   "outputs": [
    {
     "name": "stdout",
     "output_type": "stream",
     "text": [
      "[5 6]\n"
     ]
    }
   ],
   "source": [
    "# Slice from the index 3 from the end to index 1 from the end\n",
    "print(arr5[-3:-1])"
   ]
  },
  {
   "cell_type": "code",
   "execution_count": 27,
   "id": "94eaaaca",
   "metadata": {},
   "outputs": [
    {
     "name": "stdout",
     "output_type": "stream",
     "text": [
      "[2 4]\n"
     ]
    }
   ],
   "source": [
    "# Return every other element from index 1 to index 5:\n",
    "print(arr5[1:5:2])"
   ]
  },
  {
   "cell_type": "code",
   "execution_count": 29,
   "id": "82d3248b",
   "metadata": {},
   "outputs": [
    {
     "name": "stdout",
     "output_type": "stream",
     "text": [
      "[1 3 5 7]\n"
     ]
    }
   ],
   "source": [
    "# Return every other element from the entire array:\n",
    "print(arr5[::2])"
   ]
  },
  {
   "cell_type": "markdown",
   "id": "67155a90",
   "metadata": {},
   "source": [
    "### Slicing 2-D Arrays"
   ]
  },
  {
   "cell_type": "code",
   "execution_count": 32,
   "id": "ce18ea2d",
   "metadata": {},
   "outputs": [
    {
     "name": "stdout",
     "output_type": "stream",
     "text": [
      "[7 8 9]\n",
      "[7 8 9]\n"
     ]
    }
   ],
   "source": [
    "# From the second element, slice elements from index 1 to index 4 (not included):\n",
    "arr6 = np.array([[1, 2, 3, 4, 5], [6, 7, 8, 9, 10]])\n",
    "print(arr6[1][1:4])\n",
    "# or\n",
    "print(arr6[1, 1:4])"
   ]
  },
  {
   "cell_type": "code",
   "execution_count": 39,
   "id": "3b992df0",
   "metadata": {},
   "outputs": [
    {
     "name": "stdout",
     "output_type": "stream",
     "text": [
      "[3 8]\n"
     ]
    }
   ],
   "source": [
    "# From both elements, return index 2:\n",
    "print(arr6[0:2,2])"
   ]
  },
  {
   "cell_type": "code",
   "execution_count": 40,
   "id": "275999c6",
   "metadata": {},
   "outputs": [
    {
     "name": "stdout",
     "output_type": "stream",
     "text": [
      "[[2 3 4]\n",
      " [7 8 9]]\n"
     ]
    }
   ],
   "source": [
    "# From both elements, slice index 1 to index 4 (not included),\n",
    "print(arr6[0:2,1:4])"
   ]
  },
  {
   "cell_type": "markdown",
   "id": "7bb4728e",
   "metadata": {},
   "source": [
    "# 4. NumPy Data Types\n",
    "NumPy has some extra data types"
   ]
  },
  {
   "attachments": {
    "Screen%20Shot%202023-04-25%20at%2010.37.38%20AM.png": {
     "image/png": "[encoded data removed]"
    }
   },
   "cell_type": "markdown",
   "id": "da1d29fa",
   "metadata": {},
   "source": [
    "![Screen%20Shot%202023-04-25%20at%2010.37.38%20AM.png](attachment:Screen%20Shot%202023-04-25%20at%2010.37.38%20AM.png)"
   ]
  },
  {
   "cell_type": "code",
   "execution_count": 41,
   "id": "6027cce0",
   "metadata": {},
   "outputs": [
    {
     "name": "stdout",
     "output_type": "stream",
     "text": [
      "int64\n"
     ]
    }
   ],
   "source": [
    "arr7 = np.array([1, 2, 3, 4])\n",
    "print(arr7.dtype)"
   ]
  },
  {
   "cell_type": "code",
   "execution_count": 43,
   "id": "6992ea6a",
   "metadata": {},
   "outputs": [
    {
     "name": "stdout",
     "output_type": "stream",
     "text": [
      "<U6\n"
     ]
    }
   ],
   "source": [
    "arr8 = np.array(['apple', 'banana', 'cherry'])\n",
    "print(arr8.dtype)"
   ]
  },
  {
   "cell_type": "markdown",
   "id": "518624bd",
   "metadata": {},
   "source": [
    "### Creating Arrays With a Defined Data Type"
   ]
  },
  {
   "cell_type": "code",
   "execution_count": 44,
   "id": "ebc4785b",
   "metadata": {},
   "outputs": [
    {
     "name": "stdout",
     "output_type": "stream",
     "text": [
      "[b'1' b'2' b'3' b'4']\n",
      "|S1\n"
     ]
    }
   ],
   "source": [
    "arr9 = np.array([1, 2, 3, 4], dtype='S')\n",
    "print(arr9)\n",
    "print(arr9.dtype)"
   ]
  },
  {
   "cell_type": "markdown",
   "id": "6029823d",
   "metadata": {},
   "source": [
    "**For i, u, f, S and U we can define size as well.**"
   ]
  },
  {
   "cell_type": "code",
   "execution_count": 45,
   "id": "3ecd9ba1",
   "metadata": {},
   "outputs": [
    {
     "name": "stdout",
     "output_type": "stream",
     "text": [
      "[1 2 3 4]\n",
      "int32\n"
     ]
    }
   ],
   "source": [
    "arr_a = np.array([1, 2, 3, 4], dtype='i4')\n",
    "print(arr_a)\n",
    "print(arr_a.dtype)"
   ]
  },
  {
   "cell_type": "markdown",
   "id": "18b92f23",
   "metadata": {},
   "source": [
    "### Converting Data Type on Existing Arrays\n",
    "The best way to change the data type of an existing array, is to make a copy of the array with the **astype()** method."
   ]
  },
  {
   "cell_type": "code",
   "execution_count": 47,
   "id": "979c1d56",
   "metadata": {},
   "outputs": [
    {
     "name": "stdout",
     "output_type": "stream",
     "text": [
      "float64\n",
      "[1 2 3]\n",
      "int32\n"
     ]
    }
   ],
   "source": [
    "arr_b = np.array([1.1, 2.1, 3.1])\n",
    "\n",
    "newarr = arr_b.astype('i')    # .astype(bool), .astype(int) ...\n",
    "print(arr_b.dtype)  \n",
    "print(newarr)\n",
    "print(newarr.dtype)"
   ]
  },
  {
   "cell_type": "markdown",
   "id": "b4e692d6",
   "metadata": {},
   "source": [
    "# 5. NumPy Array Copy vs View\n",
    "The copy is a new array, and the view is just a view of the original array.\n",
    "Any changes made to the view will affect the original array, and any changes made to the original array will affect the view.\n",
    "### Copy"
   ]
  },
  {
   "cell_type": "code",
   "execution_count": 48,
   "id": "dd196d43",
   "metadata": {},
   "outputs": [
    {
     "name": "stdout",
     "output_type": "stream",
     "text": [
      "[42  2  3  4  5]\n",
      "[1 2 3 4 5]\n"
     ]
    }
   ],
   "source": [
    "# Changes in the original array doesn’t affect the copy\n",
    "arr_c = np.array([1, 2, 3, 4, 5])\n",
    "x = arr_c.copy()\n",
    "arr_c[0] = 42\n",
    "\n",
    "print(arr_c)\n",
    "print(x)"
   ]
  },
  {
   "cell_type": "markdown",
   "id": "0c47f1f7",
   "metadata": {},
   "source": [
    "### View"
   ]
  },
  {
   "cell_type": "code",
   "execution_count": 49,
   "id": "d6d8ffa4",
   "metadata": {},
   "outputs": [
    {
     "name": "stdout",
     "output_type": "stream",
     "text": [
      "[42  2  3  4  5]\n",
      "[42  2  3  4  5]\n"
     ]
    }
   ],
   "source": [
    "# Changes in the original array affect the view\n",
    "y = arr_c.view()\n",
    "arr_c[0] = 42\n",
    "\n",
    "print(arr_c)\n",
    "print(y)"
   ]
  },
  {
   "cell_type": "markdown",
   "id": "864ad33b",
   "metadata": {},
   "source": [
    "### Check if Array Owns its Data\n",
    "As mentioned above, **copies owns the data**, and **views does not own the data**, but how can we check this?\n",
    "\n",
    "Every NumPy array has the attribute **base** that returns None if the array owns the data."
   ]
  },
  {
   "cell_type": "code",
   "execution_count": 50,
   "id": "181875f3",
   "metadata": {},
   "outputs": [
    {
     "name": "stdout",
     "output_type": "stream",
     "text": [
      "None\n",
      "[42  2  3  4  5]\n"
     ]
    }
   ],
   "source": [
    "print(x.base)\n",
    "print(y.base)"
   ]
  },
  {
   "cell_type": "markdown",
   "id": "eaa796bc",
   "metadata": {},
   "source": [
    "# 6. NumPy Array Shape\n",
    "The shape of an array is the number of elements in each dimension. <br/>\n",
    "**shape**: attribute that returns a tuple with each index having the number of corresponding elements."
   ]
  },
  {
   "cell_type": "code",
   "execution_count": 51,
   "id": "8b3697f9",
   "metadata": {},
   "outputs": [
    {
     "name": "stdout",
     "output_type": "stream",
     "text": [
      "(2, 4)\n"
     ]
    }
   ],
   "source": [
    "# Shape of 2-D array\n",
    "arr_d = np.array([[1, 2, 3, 4], [5, 6, 7, 8]])\n",
    "print(arr_d.shape)"
   ]
  },
  {
   "cell_type": "markdown",
   "id": "6e30d573",
   "metadata": {},
   "source": [
    "Means that the array has 2 dimensions, where the first dimension has 2 elements and the second has 4."
   ]
  },
  {
   "cell_type": "code",
   "execution_count": 53,
   "id": "92b9df38",
   "metadata": {},
   "outputs": [
    {
     "name": "stdout",
     "output_type": "stream",
     "text": [
      "[[[[[1 2 3 4]]]]]\n",
      "(1, 1, 1, 1, 4)\n"
     ]
    }
   ],
   "source": [
    "# Create an array with 5 dimensions using ndmin \n",
    "# using a vector with values 1,2,3,4 and verify that last dimension has value 4\n",
    "arr_e = np.array([1,2,3,4], ndmin=5)\n",
    "print(arr_e)\n",
    "print(arr_e.shape)"
   ]
  },
  {
   "cell_type": "markdown",
   "id": "6ffb1a62",
   "metadata": {},
   "source": [
    " At index-4 we have value 4, so we can say that 5th ( 4 + 1 th) dimension has 4 elements.\n",
    "\n",
    "# 7. NumPy Array Reshaping\n",
    "By reshaping we can add or remove dimensions or change number of elements in each dimension.\n",
    "\n",
    "### Reshape From 1-D to 2-D"
   ]
  },
  {
   "cell_type": "code",
   "execution_count": 56,
   "id": "9d17b1c4",
   "metadata": {},
   "outputs": [
    {
     "name": "stdout",
     "output_type": "stream",
     "text": [
      "[[ 1  2  3]\n",
      " [ 4  5  6]\n",
      " [ 7  8  9]\n",
      " [10 11 12]]\n"
     ]
    }
   ],
   "source": [
    "arr_f = np.array([1, 2, 3, 4, 5, 6, 7, 8, 9, 10, 11, 12])\n",
    "\n",
    "newarr = arr_f.reshape(4, 3)\n",
    "\n",
    "print(newarr)"
   ]
  },
  {
   "cell_type": "markdown",
   "id": "b5499b8b",
   "metadata": {},
   "source": [
    "### Reshape From 1-D to 3-D"
   ]
  },
  {
   "cell_type": "code",
   "execution_count": 57,
   "id": "1e2de2b3",
   "metadata": {},
   "outputs": [
    {
     "name": "stdout",
     "output_type": "stream",
     "text": [
      "[[[ 1  2]\n",
      "  [ 3  4]\n",
      "  [ 5  6]]\n",
      "\n",
      " [[ 7  8]\n",
      "  [ 9 10]\n",
      "  [11 12]]]\n"
     ]
    }
   ],
   "source": [
    "# The outermost dimension will have 2 arrays that contains 3 arrays, each with 2 elements\n",
    "newarr = arr_f.reshape(2, 3, 2)\n",
    "\n",
    "print(newarr)"
   ]
  },
  {
   "cell_type": "markdown",
   "id": "999653db",
   "metadata": {},
   "source": [
    "### Rshape returns Copy or View?"
   ]
  },
  {
   "cell_type": "code",
   "execution_count": 58,
   "id": "5b0d9067",
   "metadata": {},
   "outputs": [
    {
     "name": "stdout",
     "output_type": "stream",
     "text": [
      "[ 1  2  3  4  5  6  7  8  9 10 11 12]\n"
     ]
    }
   ],
   "source": [
    "print(newarr.base)"
   ]
  },
  {
   "cell_type": "markdown",
   "id": "e7d73eec",
   "metadata": {},
   "source": [
    "Returns the original array, so it is a view.\n",
    "\n",
    "### Unknown Dimension\n",
    "You are allowed to have one \"unknown\" dimension. --> Pass -1"
   ]
  },
  {
   "cell_type": "code",
   "execution_count": 59,
   "id": "64e7e2f8",
   "metadata": {},
   "outputs": [
    {
     "name": "stdout",
     "output_type": "stream",
     "text": [
      "[[[1 2]\n",
      "  [3 4]]\n",
      "\n",
      " [[5 6]\n",
      "  [7 8]]]\n"
     ]
    }
   ],
   "source": [
    "arr_g = np.array([1, 2, 3, 4, 5, 6, 7, 8])\n",
    "\n",
    "newarr = arr_g.reshape(2, 2, -1)\n",
    "\n",
    "print(newarr)"
   ]
  },
  {
   "cell_type": "markdown",
   "id": "467f0ab5",
   "metadata": {},
   "source": [
    "### Flattening the arrays\n",
    "Flattening array means converting a multidimensional array into a 1D array --> **reshape(-1)** or **.flatten()** <br/>\n",
    "It creates a copy of the input array flattened to one dimension."
   ]
  },
  {
   "cell_type": "code",
   "execution_count": 71,
   "id": "97a9f079",
   "metadata": {},
   "outputs": [
    {
     "name": "stdout",
     "output_type": "stream",
     "text": [
      "[1 2 3 4 5 6]\n"
     ]
    }
   ],
   "source": [
    "arr_h = np.array([[1, 2, 3], [4, 5, 6]])\n",
    "newarr_h = arr_h.reshape(-1)\n",
    "print(newarr_h)"
   ]
  },
  {
   "cell_type": "code",
   "execution_count": 70,
   "id": "aeefb83c",
   "metadata": {},
   "outputs": [
    {
     "name": "stdout",
     "output_type": "stream",
     "text": [
      "[1 2 3 4 5 6]\n"
     ]
    }
   ],
   "source": [
    "my_array = numpy.array([[1,2,3],\n",
    "                        [4,5,6]])\n",
    "print (my_array.flatten())"
   ]
  },
  {
   "cell_type": "markdown",
   "id": "676092ab",
   "metadata": {},
   "source": [
    "# 8. NumPy Transpose \n",
    "We can generate the transposition of an array using the tool **numpy.transpose**\n",
    "It will not affect the original array, but it will create a new array."
   ]
  },
  {
   "cell_type": "code",
   "execution_count": 72,
   "id": "c0040e77",
   "metadata": {},
   "outputs": [
    {
     "name": "stdout",
     "output_type": "stream",
     "text": [
      "[[1 4]\n",
      " [2 5]\n",
      " [3 6]]\n"
     ]
    }
   ],
   "source": [
    "my_array = numpy.array([[1,2,3],\n",
    "                        [4,5,6]])\n",
    "print (numpy.transpose(my_array))"
   ]
  },
  {
   "cell_type": "code",
   "execution_count": 75,
   "id": "69667f43",
   "metadata": {},
   "outputs": [
    {
     "name": "stdout",
     "output_type": "stream",
     "text": [
      "[1 2 3]\n"
     ]
    }
   ],
   "source": [
    "print(numpy.array([1,2,3]))"
   ]
  },
  {
   "cell_type": "code",
   "execution_count": 92,
   "id": "c2114d2f",
   "metadata": {},
   "outputs": [
    {
     "name": "stdout",
     "output_type": "stream",
     "text": [
      "2 2\n",
      "1 2\n",
      "3 4\n",
      "[[1 3]\n",
      " [2 4]]\n"
     ]
    }
   ],
   "source": [
    "import numpy\n",
    "\n",
    "N,M = map(int, input().split())\n",
    "list_arr=[]\n",
    "\n",
    "\n",
    "arr= numpy.array([input().split() for _ in range(N)] , int)\n",
    "        \n",
    "\n",
    "        \n",
    "print(numpy.transpose(arr))\n"
   ]
  },
  {
   "cell_type": "code",
   "execution_count": 93,
   "id": "372b4d0f",
   "metadata": {},
   "outputs": [
    {
     "name": "stdout",
     "output_type": "stream",
     "text": [
      "2 2\n",
      "1 2\n",
      "3 4\n",
      "[[3]\n",
      " [4]]\n"
     ]
    }
   ],
   "source": [
    "N,M = map(int, input().split())\n",
    "list_arr=[]\n",
    "\n",
    "for _ in range(N):\n",
    "    arr= numpy.array([input().split()] , int)\n",
    "        \n",
    "\n",
    "        \n",
    "print(numpy.transpose(arr))"
   ]
  }
 ],
 "metadata": {
  "kernelspec": {
   "display_name": "PythonData",
   "language": "python",
   "name": "pythondata"
  },
  "language_info": {
   "codemirror_mode": {
    "name": "ipython",
    "version": 3
   },
   "file_extension": ".py",
   "mimetype": "text/x-python",
   "name": "python",
   "nbconvert_exporter": "python",
   "pygments_lexer": "ipython3",
   "version": "3.7.13"
  }
 },
 "nbformat": 4,
 "nbformat_minor": 5
}
