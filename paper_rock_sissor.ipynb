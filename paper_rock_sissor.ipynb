{
 "cells": [
  {
   "cell_type": "code",
   "execution_count": null,
   "id": "8befc455",
   "metadata": {},
   "outputs": [],
   "source": [
    "import random \n",
    "\n",
    "#Computer selection\n",
    "computer_choice = random.sample(['R','P','S'],1)[0]\n",
    "\n",
    "    \n",
    "#User selection\n",
    "user_answer = 'y'\n",
    "\n",
    "while user_answer == 'y':\n",
    "    \n",
    "    user_choice = input(\"Choose 'R' for rock, 'P' for paper and 'S' for sissors: \")\n",
    "    \n",
    "\n",
    "    if user_choice == computer_choice :\n",
    "        print('No one wins!')\n",
    "    elif user_choice =='R' and computer_choice =='S':\n",
    "        print('You won!')\n",
    "    elif user_choice =='P' and computer_choice =='R':\n",
    "        print('You won!')\n",
    "    elif user_choice == 'S' and computer_choice == 'P':\n",
    "        print('You won!')\n",
    "    else:\n",
    "         print ('You LOST!')\n",
    "    print(f'Computer choice is {computer_choice}')\n",
    "    print(f'My choice {user_choice}')\n",
    "    user_answer = input('Do you want to play again (y/n): ')"
   ]
  }
 ],
 "metadata": {
  "kernelspec": {
   "display_name": "PythonData",
   "language": "python",
   "name": "pythondata"
  },
  "language_info": {
   "codemirror_mode": {
    "name": "ipython",
    "version": 3
   },
   "file_extension": ".py",
   "mimetype": "text/x-python",
   "name": "python",
   "nbconvert_exporter": "python",
   "pygments_lexer": "ipython3",
   "version": "3.7.13"
  }
 },
 "nbformat": 4,
 "nbformat_minor": 5
}
