{
 "cells": [
  {
   "cell_type": "markdown",
   "id": "e85c936a",
   "metadata": {},
   "source": [
    "## 2D lists \n",
    "A list inside a lit "
   ]
  },
  {
   "cell_type": "code",
   "execution_count": 31,
   "id": "d06295ad",
   "metadata": {},
   "outputs": [
    {
     "data": {
      "text/plain": [
       "[[1, 2, 3], [4, 5, 5], [7, 8, 9]]"
      ]
     },
     "execution_count": 31,
     "metadata": {},
     "output_type": "execute_result"
    }
   ],
   "source": [
    "matrix = [\n",
    "    [1,2,3],\n",
    "    [4,5,5],\n",
    "    [7,8,9]\n",
    "]\n",
    "\n",
    "matrix"
   ]
  },
  {
   "cell_type": "code",
   "execution_count": 32,
   "id": "ebb747f7",
   "metadata": {},
   "outputs": [
    {
     "data": {
      "text/plain": [
       "[1, 2, 3]"
      ]
     },
     "execution_count": 32,
     "metadata": {},
     "output_type": "execute_result"
    }
   ],
   "source": [
    "matrix[0]"
   ]
  },
  {
   "cell_type": "code",
   "execution_count": 33,
   "id": "8ac38bfb",
   "metadata": {},
   "outputs": [
    {
     "data": {
      "text/plain": [
       "[4, 5, 5]"
      ]
     },
     "execution_count": 33,
     "metadata": {},
     "output_type": "execute_result"
    }
   ],
   "source": [
    "matrix[1]"
   ]
  },
  {
   "cell_type": "code",
   "execution_count": 34,
   "id": "af572ca9",
   "metadata": {},
   "outputs": [
    {
     "data": {
      "text/plain": [
       "2"
      ]
     },
     "execution_count": 34,
     "metadata": {},
     "output_type": "execute_result"
    }
   ],
   "source": [
    "# Access the 2nd item\n",
    "matrix[0][1]"
   ]
  },
  {
   "cell_type": "code",
   "execution_count": 35,
   "id": "b344de69",
   "metadata": {},
   "outputs": [
    {
     "data": {
      "text/plain": [
       "[[1, 20, 3], [4, 5, 5], [7, 8, 9]]"
      ]
     },
     "execution_count": 35,
     "metadata": {},
     "output_type": "execute_result"
    }
   ],
   "source": [
    "# Change item in matrix \n",
    "matrix[0][1]=20\n",
    "matrix"
   ]
  },
  {
   "cell_type": "code",
   "execution_count": 36,
   "id": "a73bb6d8",
   "metadata": {},
   "outputs": [
    {
     "name": "stdout",
     "output_type": "stream",
     "text": [
      "1\n",
      "20\n",
      "3\n",
      "4\n",
      "5\n",
      "5\n",
      "7\n",
      "8\n",
      "9\n"
     ]
    }
   ],
   "source": [
    "# Iterate through matrix \n",
    "for row in matrix:\n",
    "    for item in row:\n",
    "        print (item)"
   ]
  },
  {
   "cell_type": "markdown",
   "id": "962c9ac8",
   "metadata": {},
   "source": [
    "## List "
   ]
  },
  {
   "cell_type": "code",
   "execution_count": 37,
   "id": "674c03da",
   "metadata": {},
   "outputs": [
    {
     "data": {
      "text/plain": [
       "[5, 2, 1, 7, 4]"
      ]
     },
     "execution_count": 37,
     "metadata": {},
     "output_type": "execute_result"
    }
   ],
   "source": [
    "numbers = [5,2,1,7,4]\n",
    "numbers"
   ]
  },
  {
   "cell_type": "code",
   "execution_count": 38,
   "id": "f03ba917",
   "metadata": {},
   "outputs": [
    {
     "data": {
      "text/plain": [
       "[5, 2, 1, 7, 4, 20]"
      ]
     },
     "execution_count": 38,
     "metadata": {},
     "output_type": "execute_result"
    }
   ],
   "source": [
    "# Add item to the list \n",
    "numbers.append(20)\n",
    "numbers"
   ]
  },
  {
   "cell_type": "code",
   "execution_count": 39,
   "id": "0d087f8b",
   "metadata": {},
   "outputs": [
    {
     "data": {
      "text/plain": [
       "[5, 2, 30, 1, 7, 4, 20]"
      ]
     },
     "execution_count": 39,
     "metadata": {},
     "output_type": "execute_result"
    }
   ],
   "source": [
    "# Add item at a specific index\n",
    "numbers.insert(2,30)\n",
    "numbers"
   ]
  },
  {
   "cell_type": "code",
   "execution_count": 40,
   "id": "1a25f77e",
   "metadata": {},
   "outputs": [
    {
     "data": {
      "text/plain": [
       "0"
      ]
     },
     "execution_count": 40,
     "metadata": {},
     "output_type": "execute_result"
    }
   ],
   "source": [
    "# Index method (return value of an index)\n",
    "numbers.index(5)"
   ]
  },
  {
   "cell_type": "code",
   "execution_count": 41,
   "id": "dc0397b1",
   "metadata": {},
   "outputs": [
    {
     "data": {
      "text/plain": [
       "False"
      ]
     },
     "execution_count": 41,
     "metadata": {},
     "output_type": "execute_result"
    }
   ],
   "source": [
    "# In operator \n",
    "50 in numbers"
   ]
  },
  {
   "cell_type": "code",
   "execution_count": 43,
   "id": "6564f2ac",
   "metadata": {},
   "outputs": [
    {
     "data": {
      "text/plain": [
       "[1, 2, 4, 5, 7, 20, 30]"
      ]
     },
     "execution_count": 43,
     "metadata": {},
     "output_type": "execute_result"
    }
   ],
   "source": [
    "# Sorting \n",
    "numbers.sort()\n",
    "numbers"
   ]
  },
  {
   "cell_type": "code",
   "execution_count": 44,
   "id": "27df2b49",
   "metadata": {},
   "outputs": [
    {
     "data": {
      "text/plain": [
       "[30, 20, 7, 5, 4, 2, 1]"
      ]
     },
     "execution_count": 44,
     "metadata": {},
     "output_type": "execute_result"
    }
   ],
   "source": [
    "# Reverse sorting \n",
    "numbers.reverse()\n",
    "numbers"
   ]
  },
  {
   "cell_type": "markdown",
   "id": "fb0a4690",
   "metadata": {},
   "source": [
    "# Write a program to remove duplicates on a list"
   ]
  },
  {
   "cell_type": "code",
   "execution_count": 46,
   "id": "0ee040ea",
   "metadata": {},
   "outputs": [],
   "source": [
    "list_numbers = [5,2,1,2,3,4,1,7,4,1,5,6,4,3]\n",
    "list_numbers.sort()"
   ]
  },
  {
   "cell_type": "code",
   "execution_count": 50,
   "id": "8cff53e4",
   "metadata": {},
   "outputs": [
    {
     "data": {
      "text/plain": [
       "[1, 1, 1, 2, 2, 3, 3, 4, 4, 4, 5, 5, 6, 7]"
      ]
     },
     "execution_count": 50,
     "metadata": {},
     "output_type": "execute_result"
    }
   ],
   "source": [
    "list_numbers"
   ]
  },
  {
   "cell_type": "code",
   "execution_count": 56,
   "id": "bfbb9734",
   "metadata": {},
   "outputs": [
    {
     "data": {
      "text/plain": [
       "[1, 2, 3, 4, 5, 6, 7]"
      ]
     },
     "execution_count": 56,
     "metadata": {},
     "output_type": "execute_result"
    }
   ],
   "source": [
    "uniques=[]\n",
    "\n",
    "for number in list_numbers:\n",
    "    if (number in list_numbers) and (number not in uniques):\n",
    "        uniques.append(number)\n",
    "\n",
    "uniques"
   ]
  },
  {
   "cell_type": "markdown",
   "id": "81fa1377",
   "metadata": {},
   "source": [
    "## Tuples\n",
    "Read only list (immutable)"
   ]
  },
  {
   "cell_type": "code",
   "execution_count": 57,
   "id": "12e53c14",
   "metadata": {},
   "outputs": [
    {
     "data": {
      "text/plain": [
       "2"
      ]
     },
     "execution_count": 57,
     "metadata": {},
     "output_type": "execute_result"
    }
   ],
   "source": [
    "numbers = (1,2,3,2)\n",
    "numbers.count(2)"
   ]
  },
  {
   "cell_type": "code",
   "execution_count": 59,
   "id": "5a64ad1b",
   "metadata": {},
   "outputs": [
    {
     "data": {
      "text/plain": [
       "2"
      ]
     },
     "execution_count": 59,
     "metadata": {},
     "output_type": "execute_result"
    }
   ],
   "source": [
    "numbers.index(3)"
   ]
  },
  {
   "cell_type": "code",
   "execution_count": 60,
   "id": "a4f2ef68",
   "metadata": {},
   "outputs": [],
   "source": [
    "# We can unpack a list into variables \n",
    "coordinates = (1,2,3)\n",
    "x, y, z = coordinates"
   ]
  },
  {
   "cell_type": "code",
   "execution_count": 61,
   "id": "b44b085d",
   "metadata": {},
   "outputs": [
    {
     "name": "stdout",
     "output_type": "stream",
     "text": [
      "1 2 3\n"
     ]
    }
   ],
   "source": [
    "print(x,y,z)"
   ]
  },
  {
   "cell_type": "code",
   "execution_count": null,
   "id": "d526f254",
   "metadata": {},
   "outputs": [],
   "source": []
  }
 ],
 "metadata": {
  "kernelspec": {
   "display_name": "PythonData",
   "language": "python",
   "name": "pythondata"
  },
  "language_info": {
   "codemirror_mode": {
    "name": "ipython",
    "version": 3
   },
   "file_extension": ".py",
   "mimetype": "text/x-python",
   "name": "python",
   "nbconvert_exporter": "python",
   "pygments_lexer": "ipython3",
   "version": "3.7.13"
  }
 },
 "nbformat": 4,
 "nbformat_minor": 5
}
