{
 "cells": [
  {
   "cell_type": "markdown",
   "id": "0b909159",
   "metadata": {},
   "source": [
    "## Swap lower and upper cases in a string"
   ]
  },
  {
   "cell_type": "code",
   "execution_count": 12,
   "id": "a529384e",
   "metadata": {},
   "outputs": [
    {
     "data": {
      "text/plain": [
       "'hElO'"
      ]
     },
     "execution_count": 12,
     "metadata": {},
     "output_type": "execute_result"
    }
   ],
   "source": [
    "def swap_case(s):\n",
    "    result = [\"\"]\n",
    "    for x in s:\n",
    "        if x.isupper() == True:\n",
    "            result.append(x.lower())\n",
    "        else: \n",
    "            result.append(x.upper())\n",
    "    return \"\".join(result)\n",
    "\n",
    "swap_case(\"HeLo\")"
   ]
  },
  {
   "cell_type": "code",
   "execution_count": 18,
   "id": "b0328c8f",
   "metadata": {},
   "outputs": [
    {
     "data": {
      "text/plain": [
       "'hElO'"
      ]
     },
     "execution_count": 18,
     "metadata": {},
     "output_type": "execute_result"
    }
   ],
   "source": [
    "def swap_case(s):\n",
    "    result = \"\"\n",
    "    for x in s:\n",
    "        if x.isupper() == True:\n",
    "            result += x.lower()\n",
    "        else: \n",
    "            result += x.upper()\n",
    "    return (result)\n",
    "\n",
    "swap_case(\"HeLo\")"
   ]
  },
  {
   "cell_type": "code",
   "execution_count": null,
   "id": "9330f9a9",
   "metadata": {},
   "outputs": [],
   "source": []
  }
 ],
 "metadata": {
  "kernelspec": {
   "display_name": "PythonData",
   "language": "python",
   "name": "pythondata"
  },
  "language_info": {
   "codemirror_mode": {
    "name": "ipython",
    "version": 3
   },
   "file_extension": ".py",
   "mimetype": "text/x-python",
   "name": "python",
   "nbconvert_exporter": "python",
   "pygments_lexer": "ipython3",
   "version": "3.7.13"
  }
 },
 "nbformat": 4,
 "nbformat_minor": 5
}
