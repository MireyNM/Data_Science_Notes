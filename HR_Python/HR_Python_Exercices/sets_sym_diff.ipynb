{
 "cells": [
  {
   "cell_type": "markdown",
   "id": "71340118",
   "metadata": {},
   "source": [
    "**HR Task**\n",
    "\n",
    "Given 2 sets of integers, M and N, print their symmetric difference in ascending order. The term symmetric difference indicates those values that exist in either M or N but do not exist in both."
   ]
  },
  {
   "cell_type": "code",
   "execution_count": 20,
   "id": "b83369a8",
   "metadata": {},
   "outputs": [
    {
     "name": "stdout",
     "output_type": "stream",
     "text": [
      "4\n",
      "2 4 5 9\n",
      "4\n",
      "2 4 11 12\n",
      "5\n",
      "9\n",
      "11\n",
      "12\n"
     ]
    }
   ],
   "source": [
    "M = int(input())\n",
    "m_int = input()\n",
    "a = set(map(int, m_int.split()))\n",
    "\n",
    "N = int(input())\n",
    "n_int = input()\n",
    "b = set(map(int, n_int.split()))\n",
    "\n",
    "final_set= set( )\n",
    "for i in a.symmetric_difference(b):\n",
    "    final_set.add(i)\n",
    "\n",
    "for i in sorted(final_set):\n",
    "    print(i)\n",
    "\n"
   ]
  }
 ],
 "metadata": {
  "kernelspec": {
   "display_name": "PythonData",
   "language": "python",
   "name": "pythondata"
  },
  "language_info": {
   "codemirror_mode": {
    "name": "ipython",
    "version": 3
   },
   "file_extension": ".py",
   "mimetype": "text/x-python",
   "name": "python",
   "nbconvert_exporter": "python",
   "pygments_lexer": "ipython3",
   "version": "3.7.13"
  }
 },
 "nbformat": 4,
 "nbformat_minor": 5
}
