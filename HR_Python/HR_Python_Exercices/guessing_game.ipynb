{
 "cells": [
  {
   "cell_type": "markdown",
   "id": "a2654226",
   "metadata": {},
   "source": [
    "## Guessing Game"
   ]
  },
  {
   "cell_type": "code",
   "execution_count": 2,
   "id": "1ccbc2a9",
   "metadata": {},
   "outputs": [
    {
     "name": "stdout",
     "output_type": "stream",
     "text": [
      "Guess the number: 9\n",
      "You guessed write\n"
     ]
    }
   ],
   "source": [
    "nb = 9\n",
    "count = 0\n",
    "\n",
    "while count <3:\n",
    " # Guess the number \n",
    " guessed_nb = input('Guess the number: ')\n",
    " count +=1 \n",
    "# If its true end the code \n",
    " if int(guessed_nb) == nb:\n",
    "    print('You guessed write')\n",
    "    break\n",
    "\n",
    "# If Wrong after 3 trials print 'Sorry you failed'\n",
    "else: \n",
    "    print('Sorry u failed')"
   ]
  }
 ],
 "metadata": {
  "kernelspec": {
   "display_name": "PythonData",
   "language": "python",
   "name": "pythondata"
  },
  "language_info": {
   "codemirror_mode": {
    "name": "ipython",
    "version": 3
   },
   "file_extension": ".py",
   "mimetype": "text/x-python",
   "name": "python",
   "nbconvert_exporter": "python",
   "pygments_lexer": "ipython3",
   "version": "3.7.13"
  }
 },
 "nbformat": 4,
 "nbformat_minor": 5
}
