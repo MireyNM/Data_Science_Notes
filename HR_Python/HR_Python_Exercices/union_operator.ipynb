{
 "cells": [
  {
   "cell_type": "markdown",
   "id": "91ba49d1",
   "metadata": {},
   "source": [
    "**.union()**\n",
    "\n",
    "The .union() operator returns the union of a set and the set of elements in an iterable.\n",
    "Sometimes, the | operator is used in place of .union() operator, but it operates only on the set of elements in set.\n",
    "Set is immutable to the .union() operation (or | operation)."
   ]
  },
  {
   "cell_type": "code",
   "execution_count": 1,
   "id": "68f0ee00",
   "metadata": {},
   "outputs": [
    {
     "name": "stdout",
     "output_type": "stream",
     "text": [
      "{'c', 'a', 'k', 'r', 'H', 'e'}\n"
     ]
    }
   ],
   "source": [
    "s = set(\"Hackker\")\n",
    "print(s)"
   ]
  },
  {
   "cell_type": "code",
   "execution_count": 5,
   "id": "cbab6cd3",
   "metadata": {},
   "outputs": [
    {
     "name": "stdout",
     "output_type": "stream",
     "text": [
      "{'R', 'c', 'k', 'r', 'n', 'a', 'H', 'e'}\n"
     ]
    }
   ],
   "source": [
    "# Print common letters between Hackker and Rank\n",
    "print (s.union('Rank'))"
   ]
  },
  {
   "cell_type": "markdown",
   "id": "09d1d0aa",
   "metadata": {},
   "source": [
    "**Task**\n",
    "The students of District College have subscriptions to English and French newspapers. Some students have subscribed only to English, some have subscribed to only French and some have subscribed to both newspapers.\n",
    "\n",
    "You are given two sets of student roll numbers. One set has subscribed to the English newspaper, and the other set is subscribed to the French newspaper. The same student could be in both sets. Your task is to find the total number of students who have subscribed to at least one newspaper."
   ]
  },
  {
   "cell_type": "code",
   "execution_count": 28,
   "id": "0d36809e",
   "metadata": {},
   "outputs": [
    {
     "name": "stdout",
     "output_type": "stream",
     "text": [
      "Number of students who have subscribed to the English newspaper: 9\n",
      "Enter roll number: 1\n",
      "Enter roll number: 2\n",
      "Enter roll number: 3\n",
      "Enter roll number: 4\n",
      "Enter roll number: 5\n",
      "Enter roll number: 6\n",
      "Enter roll number: 7\n",
      "Enter roll number: 8\n",
      "Enter roll number: 9\n",
      "[1, 2, 3, 4, 5, 6, 7, 8, 9]\n"
     ]
    }
   ],
   "source": [
    "# Get the nb of students who have subscribed to the English newspaper.\n",
    "n = int(input('Number of students who have subscribed to the English newspaper: '))\n",
    "roll_list = []\n",
    "\n",
    "# Get the roll number for students \n",
    "for i in range(0,n):\n",
    "    roll_nb = int(input('Enter roll number: '))\n",
    "    roll_list.append(roll_nb)\n",
    "\n",
    "print(roll_list)"
   ]
  },
  {
   "cell_type": "code",
   "execution_count": 29,
   "id": "4dbf08dd",
   "metadata": {},
   "outputs": [
    {
     "data": {
      "text/plain": [
       "{1, 2, 3, 4, 5, 6, 7, 8, 9}"
      ]
     },
     "execution_count": 29,
     "metadata": {},
     "output_type": "execute_result"
    }
   ],
   "source": [
    "# Transform list to set\n",
    "english_set = set(roll_list)\n",
    "english_set"
   ]
  },
  {
   "cell_type": "code",
   "execution_count": 30,
   "id": "e59d00cf",
   "metadata": {},
   "outputs": [
    {
     "name": "stdout",
     "output_type": "stream",
     "text": [
      "Number of students who have subscribed to the French newspaper: 9\n",
      "Enter roll number: 10\n",
      "Enter roll number: 1\n",
      "Enter roll number: 2\n",
      "Enter roll number: 3\n",
      "Enter roll number: 11\n",
      "Enter roll number: 21\n",
      "Enter roll number: 55\n",
      "Enter roll number: 6\n",
      "Enter roll number: 8\n",
      "[10, 1, 2, 3, 11, 21, 55, 6, 8]\n"
     ]
    }
   ],
   "source": [
    "# Get the nb of students who have subscribed to the French newspaper.\n",
    "b = int(input('Number of students who have subscribed to the French newspaper: '))\n",
    "roll_listb = []\n",
    "\n",
    "# Get the roll number for students \n",
    "for i in range(0,b):\n",
    "    roll_nbb = int(input('Enter roll number: '))\n",
    "    roll_listb.append(roll_nbb)\n",
    "\n",
    "print(roll_listb)"
   ]
  },
  {
   "cell_type": "code",
   "execution_count": 31,
   "id": "c54df633",
   "metadata": {},
   "outputs": [
    {
     "data": {
      "text/plain": [
       "{1, 2, 3, 6, 8, 10, 11, 21, 55}"
      ]
     },
     "execution_count": 31,
     "metadata": {},
     "output_type": "execute_result"
    }
   ],
   "source": [
    "# Transform list to set\n",
    "french_set = set(roll_listb)\n",
    "french_set"
   ]
  },
  {
   "cell_type": "code",
   "execution_count": 1,
   "id": "a796f38e",
   "metadata": {},
   "outputs": [
    {
     "ename": "NameError",
     "evalue": "name 'english_set' is not defined",
     "output_type": "error",
     "traceback": [
      "\u001b[0;31m---------------------------------------------------------------------------\u001b[0m",
      "\u001b[0;31mNameError\u001b[0m                                 Traceback (most recent call last)",
      "\u001b[0;32m/var/folders/22/6yjgvchj59n3fw3c208txjnm0000gn/T/ipykernel_7205/2593297071.py\u001b[0m in \u001b[0;36m<module>\u001b[0;34m\u001b[0m\n\u001b[1;32m      1\u001b[0m \u001b[0;31m# Get the number of students who have at least one subscription\u001b[0m\u001b[0;34m\u001b[0m\u001b[0;34m\u001b[0m\u001b[0;34m\u001b[0m\u001b[0m\n\u001b[0;32m----> 2\u001b[0;31m \u001b[0mlen\u001b[0m\u001b[0;34m(\u001b[0m\u001b[0menglish_set\u001b[0m\u001b[0;34m.\u001b[0m\u001b[0munion\u001b[0m\u001b[0;34m(\u001b[0m\u001b[0mfrench_set\u001b[0m\u001b[0;34m)\u001b[0m\u001b[0;34m)\u001b[0m\u001b[0;34m\u001b[0m\u001b[0;34m\u001b[0m\u001b[0m\n\u001b[0m",
      "\u001b[0;31mNameError\u001b[0m: name 'english_set' is not defined"
     ]
    }
   ],
   "source": [
    "# Get the number of students who have at least one subscription \n",
    "len(english_set.union(french_set))"
   ]
  },
  {
   "cell_type": "code",
   "execution_count": null,
   "id": "fab26412",
   "metadata": {},
   "outputs": [],
   "source": [
    "if __name__ == '__main__':\n",
    "    n = int(input())\n",
    "    arr = map(int, input().split())\n",
    "    \n",
    "max = 0\n",
    "i = 0 \n",
    "\n",
    "while i < n-1:\n",
    "    for number in arr:\n",
    "        if number > max: \n",
    "            max = number\n",
    "        \n",
    "print (max)"
   ]
  },
  {
   "cell_type": "code",
   "execution_count": null,
   "id": "b98b8d31",
   "metadata": {},
   "outputs": [],
   "source": []
  }
 ],
 "metadata": {
  "kernelspec": {
   "display_name": "PythonData",
   "language": "python",
   "name": "pythondata"
  },
  "language_info": {
   "codemirror_mode": {
    "name": "ipython",
    "version": 3
   },
   "file_extension": ".py",
   "mimetype": "text/x-python",
   "name": "python",
   "nbconvert_exporter": "python",
   "pygments_lexer": "ipython3",
   "version": "3.7.13"
  }
 },
 "nbformat": 4,
 "nbformat_minor": 5
}
