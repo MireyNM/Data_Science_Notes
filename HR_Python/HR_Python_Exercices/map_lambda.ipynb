{
 "cells": [
  {
   "attachments": {},
   "cell_type": "markdown",
   "metadata": {},
   "source": [
    "## HackerRank problem: \n",
    "Generate a list of the first N fibonacci numbers, 0 being the first number. Then, apply the map function and a lambda expression to cube each fibonacci number and print the list."
   ]
  },
  {
   "cell_type": "code",
   "execution_count": 1,
   "metadata": {},
   "outputs": [
    {
     "name": "stdout",
     "output_type": "stream",
     "text": [
      "[0, 1, 1, 8, 27]\n"
     ]
    }
   ],
   "source": [
    "cube = lambda x: x**3 # complete the lambda function \n",
    "lst=[]\n",
    "def fibonacci(n):\n",
    "    x=0\n",
    "    y=1\n",
    "    for i in range(n):\n",
    "        nxt=x+y\n",
    "        lst.append(x)\n",
    "        x=y\n",
    "        y=nxt\n",
    "    return lst\n",
    "\n",
    "\n",
    "if __name__ == '__main__':\n",
    "    n = int(input())\n",
    "    print(list(map(cube, fibonacci(n))))"
   ]
  }
 ],
 "metadata": {
  "kernelspec": {
   "display_name": "PythonData",
   "language": "python",
   "name": "python3"
  },
  "language_info": {
   "codemirror_mode": {
    "name": "ipython",
    "version": 3
   },
   "file_extension": ".py",
   "mimetype": "text/x-python",
   "name": "python",
   "nbconvert_exporter": "python",
   "pygments_lexer": "ipython3",
   "version": "3.7.13"
  },
  "orig_nbformat": 4
 },
 "nbformat": 4,
 "nbformat_minor": 2
}
