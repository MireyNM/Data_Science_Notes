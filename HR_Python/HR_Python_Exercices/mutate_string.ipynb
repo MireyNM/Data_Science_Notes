{
 "cells": [
  {
   "cell_type": "markdown",
   "id": "b83224e1",
   "metadata": {},
   "source": [
    "You are given an immutable string, and you want to make changes to it."
   ]
  },
  {
   "cell_type": "code",
   "execution_count": 5,
   "id": "52a99e85",
   "metadata": {},
   "outputs": [
    {
     "data": {
      "text/plain": [
       "'abracKdabra'"
      ]
     },
     "execution_count": 5,
     "metadata": {},
     "output_type": "execute_result"
    }
   ],
   "source": [
    "def mutate_string(string, position, character):\n",
    "    s = string \n",
    "    return s[:position]+ character + s[position+1:]\n",
    "\n",
    "\n",
    "mutate_string('abracadabra', 5, 'K')\n"
   ]
  },
  {
   "cell_type": "code",
   "execution_count": 22,
   "id": "fb74cfda",
   "metadata": {},
   "outputs": [
    {
     "name": "stdout",
     "output_type": "stream",
     "text": [
      "3*1=0\n",
      "3*2=3\n",
      "3*3=6\n",
      "3*4=9\n",
      "3*5=12\n"
     ]
    }
   ],
   "source": [
    "for i in range(5):\n",
    "    \n",
    "    print (f'3*{i+1}={3*i}')"
   ]
  }
 ],
 "metadata": {
  "kernelspec": {
   "display_name": "PythonData",
   "language": "python",
   "name": "pythondata"
  },
  "language_info": {
   "codemirror_mode": {
    "name": "ipython",
    "version": 3
   },
   "file_extension": ".py",
   "mimetype": "text/x-python",
   "name": "python",
   "nbconvert_exporter": "python",
   "pygments_lexer": "ipython3",
   "version": "3.7.13"
  }
 },
 "nbformat": 4,
 "nbformat_minor": 5
}
