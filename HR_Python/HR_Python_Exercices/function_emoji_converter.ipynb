{
 "cells": [
  {
   "cell_type": "markdown",
   "id": "b7ee5589",
   "metadata": {},
   "source": [
    "## Emoji converter"
   ]
  },
  {
   "cell_type": "code",
   "execution_count": 9,
   "id": "62500e4d",
   "metadata": {},
   "outputs": [
    {
     "name": "stdout",
     "output_type": "stream",
     "text": [
      "> Good morning :)\n"
     ]
    },
    {
     "data": {
      "text/plain": [
       "'Good morning 😃 '"
      ]
     },
     "execution_count": 9,
     "metadata": {},
     "output_type": "execute_result"
    }
   ],
   "source": [
    "def emoji_converter(message):\n",
    "    # Split message to words \n",
    "    words = message.split(' ')\n",
    "    \n",
    "    # Mapping emojis \n",
    "    emojis = {\n",
    "    \":)\": \"😃\",\n",
    "    \":(\": \"😔\"\n",
    "    }\n",
    "    \n",
    "    output = \"\"\n",
    "    for word in words:\n",
    "        output += emojis.get(word, word) + ' '\n",
    "    return(output)\n",
    "\n",
    "\n",
    "message = input('> ')\n",
    "emoji_converter(message)"
   ]
  },
  {
   "cell_type": "markdown",
   "id": "2e6437fa",
   "metadata": {},
   "source": [
    "## Exceptions"
   ]
  },
  {
   "cell_type": "code",
   "execution_count": 10,
   "id": "6e16bfa5",
   "metadata": {},
   "outputs": [
    {
     "name": "stdout",
     "output_type": "stream",
     "text": [
      "Age: 12\n",
      "12\n"
     ]
    }
   ],
   "source": [
    "age = int(input('Age: '))\n",
    "print(age)"
   ]
  },
  {
   "cell_type": "code",
   "execution_count": 12,
   "id": "48ff1a08",
   "metadata": {},
   "outputs": [
    {
     "name": "stdout",
     "output_type": "stream",
     "text": [
      "Age: 2.4\n",
      "Invalid value\n"
     ]
    }
   ],
   "source": [
    "try: \n",
    "    age = int(input('Age: '))\n",
    "    print(age)\n",
    "except ValueError:\n",
    "    print(\"Invalid value\")"
   ]
  },
  {
   "cell_type": "code",
   "execution_count": null,
   "id": "5a5b9718",
   "metadata": {},
   "outputs": [],
   "source": []
  }
 ],
 "metadata": {
  "kernelspec": {
   "display_name": "PythonData",
   "language": "python",
   "name": "pythondata"
  },
  "language_info": {
   "codemirror_mode": {
    "name": "ipython",
    "version": 3
   },
   "file_extension": ".py",
   "mimetype": "text/x-python",
   "name": "python",
   "nbconvert_exporter": "python",
   "pygments_lexer": "ipython3",
   "version": "3.7.13"
  }
 },
 "nbformat": 4,
 "nbformat_minor": 5
}
