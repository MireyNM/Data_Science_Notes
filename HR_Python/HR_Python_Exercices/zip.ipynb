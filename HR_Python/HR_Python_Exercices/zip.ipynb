{
 "cells": [
  {
   "cell_type": "markdown",
   "id": "95c4c203",
   "metadata": {},
   "source": [
    "## zip() function \n",
    "Is used to combine corresponding elements from two or more iterables (such as lists, tuples, or strings) into an iterator of tuples. Each tuple contains the elements from the input iterables at the same index.\n",
    "\n",
    "### Example 1: Combining two lists"
   ]
  },
  {
   "cell_type": "code",
   "execution_count": 2,
   "id": "c54dbc2a",
   "metadata": {},
   "outputs": [
    {
     "name": "stdout",
     "output_type": "stream",
     "text": [
      "[(1, 'a'), (2, 'b'), (3, 'c')]\n"
     ]
    }
   ],
   "source": [
    "# Example 1\n",
    "list1 = [1, 2, 3]\n",
    "list2 = ['a', 'b', 'c']\n",
    "\n",
    "# Zip the lists\n",
    "result = zip(list1, list2)\n",
    "\n",
    "# Convert the zip object to a list\n",
    "combined_list = list(result)\n",
    "\n",
    "print(combined_list)\n",
    "# Output: [(1, 'a'), (2, 'b'), (3, 'c')]\n"
   ]
  },
  {
   "cell_type": "markdown",
   "id": "e19a6801",
   "metadata": {},
   "source": [
    "### Example 2: Combining three lists"
   ]
  },
  {
   "cell_type": "code",
   "execution_count": 3,
   "id": "898f9ab8",
   "metadata": {},
   "outputs": [
    {
     "name": "stdout",
     "output_type": "stream",
     "text": [
      "[(1, 'a', True), (2, 'b', False), (3, 'c', True)]\n"
     ]
    }
   ],
   "source": [
    "list1 = [1, 2, 3]\n",
    "list2 = ['a', 'b', 'c']\n",
    "list3 = [True, False, True]\n",
    "\n",
    "# Zip the lists\n",
    "result = zip(list1, list2, list3)\n",
    "\n",
    "# Convert the zip object to a list\n",
    "combined_list = list(result)\n",
    "\n",
    "print(combined_list)\n",
    "# Output: [(1, 'a', True), (2, 'b', False), (3, 'c', True)]\n"
   ]
  },
  {
   "cell_type": "markdown",
   "id": "8ea467db",
   "metadata": {},
   "source": [
    "### Example 3: Combining characters from two strings"
   ]
  },
  {
   "cell_type": "code",
   "execution_count": 4,
   "id": "9c506f8a",
   "metadata": {},
   "outputs": [
    {
     "name": "stdout",
     "output_type": "stream",
     "text": [
      "[('h', 'w'), ('e', 'o'), ('l', 'r'), ('l', 'l'), ('o', 'd')]\n"
     ]
    }
   ],
   "source": [
    "string1 = 'hello'\n",
    "string2 = 'world'\n",
    "\n",
    "# Zip the strings\n",
    "result = zip(string1, string2)\n",
    "\n",
    "# Convert the zip object to a list of tuples\n",
    "combined_list = list(result)\n",
    "\n",
    "print(combined_list)\n",
    "# Output: [('h', 'w'), ('e', 'o'), ('l', 'r'), ('l', 'l'), ('o', 'd')]\n"
   ]
  },
  {
   "cell_type": "markdown",
   "id": "40790062",
   "metadata": {},
   "source": [
    "### Example 4: Compare characters from two strings"
   ]
  },
  {
   "cell_type": "code",
   "execution_count": 12,
   "id": "63d5b689",
   "metadata": {},
   "outputs": [
    {
     "name": "stdout",
     "output_type": "stream",
     "text": [
      "SOSSOSSOSSOS\n",
      "3\n"
     ]
    }
   ],
   "source": [
    "numner_messages = 4\n",
    "expected_signal = 'SOS'*numner_messages\n",
    "print(expected_signal)\n",
    "s = 'SOSSPSSQSSOR'\n",
    "\n",
    "count = 0\n",
    "for char1, char2 in zip(s,expected_signal):\n",
    "    if char1 != char2:\n",
    "        count +=1\n",
    "print(count)"
   ]
  }
 ],
 "metadata": {
  "kernelspec": {
   "display_name": "PythonData",
   "language": "python",
   "name": "pythondata"
  },
  "language_info": {
   "codemirror_mode": {
    "name": "ipython",
    "version": 3
   },
   "file_extension": ".py",
   "mimetype": "text/x-python",
   "name": "python",
   "nbconvert_exporter": "python",
   "pygments_lexer": "ipython3",
   "version": "3.7.13"
  }
 },
 "nbformat": 4,
 "nbformat_minor": 5
}
