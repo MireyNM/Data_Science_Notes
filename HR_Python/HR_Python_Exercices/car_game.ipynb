{
 "cells": [
  {
   "cell_type": "markdown",
   "id": "02473959",
   "metadata": {},
   "source": [
    "## Car game"
   ]
  },
  {
   "cell_type": "code",
   "execution_count": 1,
   "id": "4f83b070",
   "metadata": {},
   "outputs": [
    {
     "name": "stdout",
     "output_type": "stream",
     "text": [
      "> start\n",
      "Car started.. Ready to go!\n",
      "> start\n",
      "Car already started\n",
      "> stop\n",
      "Car stopped\n",
      "> stop\n",
      "Car already stopped\n",
      "> help\n",
      "\n",
      "start- to start the car \n",
      "stop - to stop the car \n",
      "quit - to exit\n",
      "    \n",
      "> stop\n",
      "Car already stopped\n",
      "> start\n",
      "Car started.. Ready to go!\n",
      "> quit\n"
     ]
    }
   ],
   "source": [
    "user_input=''\n",
    "\n",
    "# Initiate a bool to indicate that initially car is not started\n",
    "started = False\n",
    "\n",
    "#while user_input != 'quit':\n",
    "\n",
    "while True:\n",
    "    user_input = input('> ').lower()\n",
    "    \n",
    "    # If input = help output options \n",
    "    if user_input == 'help':\n",
    "        print('''\n",
    "start- to start the car \n",
    "stop - to stop the car \n",
    "quit - to exit\n",
    "    ''')\n",
    "    \n",
    "    # If input is start \n",
    "    elif user_input== 'start':\n",
    "        if started:\n",
    "            print('Car already started')\n",
    "        else:\n",
    "            started = True\n",
    "            print('Car started.. Ready to go!')\n",
    "    \n",
    "    # If input is stop \n",
    "    elif user_input== 'stop':\n",
    "        if not started:\n",
    "            print('Car already stopped')\n",
    "        else: \n",
    "            started = False\n",
    "            print('Car stopped')\n",
    "    \n",
    "    elif user_input == 'quit':\n",
    "        break\n",
    "    \n",
    "    # If input has no meaning \n",
    "    else:\n",
    "        print(\"I don't understand\" )\n"
   ]
  }
 ],
 "metadata": {
  "kernelspec": {
   "display_name": "PythonData",
   "language": "python",
   "name": "pythondata"
  },
  "language_info": {
   "codemirror_mode": {
    "name": "ipython",
    "version": 3
   },
   "file_extension": ".py",
   "mimetype": "text/x-python",
   "name": "python",
   "nbconvert_exporter": "python",
   "pygments_lexer": "ipython3",
   "version": "3.7.13"
  }
 },
 "nbformat": 4,
 "nbformat_minor": 5
}
