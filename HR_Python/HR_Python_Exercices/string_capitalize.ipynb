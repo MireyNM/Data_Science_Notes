{
 "cells": [
  {
   "cell_type": "markdown",
   "id": "6f1f3545",
   "metadata": {},
   "source": [
    "You are asked to ensure that the first and last names of people begin with a capital letter in their passports. For example, alison heck should be capitalised correctly as Alison Heck"
   ]
  },
  {
   "cell_type": "code",
   "execution_count": 34,
   "id": "ac484659",
   "metadata": {},
   "outputs": [
    {
     "data": {
      "text/plain": [
       "'Mireille Nehme'"
      ]
     },
     "execution_count": 34,
     "metadata": {},
     "output_type": "execute_result"
    }
   ],
   "source": [
    "def capit(s):\n",
    "    name = s.split(' ')\n",
    "    capital=[]\n",
    "    for i in name:\n",
    "        capital.append(i.capitalize())\n",
    "    return ' '.join(capital)\n",
    "\n",
    "capit('mireille nehme')"
   ]
  }
 ],
 "metadata": {
  "kernelspec": {
   "display_name": "PythonData",
   "language": "python",
   "name": "pythondata"
  },
  "language_info": {
   "codemirror_mode": {
    "name": "ipython",
    "version": 3
   },
   "file_extension": ".py",
   "mimetype": "text/x-python",
   "name": "python",
   "nbconvert_exporter": "python",
   "pygments_lexer": "ipython3",
   "version": "3.7.13"
  }
 },
 "nbformat": 4,
 "nbformat_minor": 5
}
