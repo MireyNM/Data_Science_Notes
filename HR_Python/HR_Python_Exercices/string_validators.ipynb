{
 "cells": [
  {
   "cell_type": "markdown",
   "id": "220f3286",
   "metadata": {},
   "source": [
    "## HackerRank Excercice\n",
    "You are given a string s\n",
    "Your task is to find out if the string contains: alphanumeric characters, alphabetical characters, digits, lowercase and uppercase characters."
   ]
  },
  {
   "cell_type": "code",
   "execution_count": null,
   "id": "e07b51a0",
   "metadata": {},
   "outputs": [],
   "source": [
    "if __name__ == '__main__':\n",
    "    s = input()\n",
    "    is_num=False\n",
    "    is_alpha=False\n",
    "    is_digit=False\n",
    "    is_lower=False\n",
    "    is_upper=False\n",
    "    \n",
    "    for i in s:\n",
    "        if i.isalnum():\n",
    "            is_num=True\n",
    "        if i.isalpha():\n",
    "            is_alpha=True\n",
    "        if i.isdigit():\n",
    "            is_digit=True\n",
    "        if i.islower():\n",
    "            is_lower=True\n",
    "        if i.isupper():\n",
    "            is_upper=True\n",
    "    print(is_num)\n",
    "    print(is_alpha)\n",
    "    print(is_digit)\n",
    "    print(is_lower)\n",
    "    print(is_upper)"
   ]
  }
 ],
 "metadata": {
  "kernelspec": {
   "display_name": "PythonData",
   "language": "python",
   "name": "pythondata"
  },
  "language_info": {
   "codemirror_mode": {
    "name": "ipython",
    "version": 3
   },
   "file_extension": ".py",
   "mimetype": "text/x-python",
   "name": "python",
   "nbconvert_exporter": "python",
   "pygments_lexer": "ipython3",
   "version": "3.7.13"
  }
 },
 "nbformat": 4,
 "nbformat_minor": 5
}
