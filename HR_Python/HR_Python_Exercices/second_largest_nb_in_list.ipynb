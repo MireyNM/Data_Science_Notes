{
 "cells": [
  {
   "cell_type": "code",
   "execution_count": 19,
   "id": "a7bcd29c",
   "metadata": {},
   "outputs": [
    {
     "name": "stdout",
     "output_type": "stream",
     "text": [
      "5\n",
      "5 6 7 8 6 \n",
      "[8, 5, 6, 7]\n"
     ]
    }
   ],
   "source": [
    "if __name__ == '__main__':\n",
    "    n = int(input())\n",
    "    arr = map(int, input().split())\n",
    "\n",
    "# transform map array to list \n",
    "list_arr= list(set(arr))\n",
    "print(list_arr)"
   ]
  },
  {
   "cell_type": "code",
   "execution_count": 21,
   "id": "4ee79d68",
   "metadata": {},
   "outputs": [
    {
     "name": "stdout",
     "output_type": "stream",
     "text": [
      "7\n"
     ]
    }
   ],
   "source": [
    "# Sort list \n",
    "list_arr.sort()\n",
    "\n",
    "print(list_arr[-2])"
   ]
  }
 ],
 "metadata": {
  "kernelspec": {
   "display_name": "PythonData",
   "language": "python",
   "name": "pythondata"
  },
  "language_info": {
   "codemirror_mode": {
    "name": "ipython",
    "version": 3
   },
   "file_extension": ".py",
   "mimetype": "text/x-python",
   "name": "python",
   "nbconvert_exporter": "python",
   "pygments_lexer": "ipython3",
   "version": "3.7.13"
  }
 },
 "nbformat": 4,
 "nbformat_minor": 5
}
