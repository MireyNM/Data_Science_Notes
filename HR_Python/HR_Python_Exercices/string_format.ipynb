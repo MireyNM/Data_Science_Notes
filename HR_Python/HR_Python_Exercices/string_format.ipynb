{
 "cells": [
  {
   "cell_type": "code",
   "execution_count": 45,
   "id": "45351cc5",
   "metadata": {},
   "outputs": [
    {
     "name": "stdout",
     "output_type": "stream",
     "text": [
      "1  1  1  1\n",
      "2  2  2  10\n",
      "3  3  3  11\n",
      "4  4  4  100\n",
      "5  5  5  101\n"
     ]
    }
   ],
   "source": [
    "    for i in range(1,n+1):\n",
    "        # print Deciaml, Octal, Hexadecimal, Binary \n",
    "        str_oct = str(oct(i))\n",
    "        octal= str_oct.replace(\"0o\",\"\")\n",
    "        str_hex=str(hex(i))\n",
    "        hexal=str_hex.replace(\"0x\",\"\")\n",
    "        str_bin=str(bin(i))\n",
    "        binary=str_bin.replace(\"0b\",\"\")\n",
    "        width=int(len(binary))\n",
    "        print(f'{i}  {octal}  {hexal}  {binary.ljust(width)}')"
   ]
  },
  {
   "cell_type": "code",
   "execution_count": 46,
   "id": "839f7d80",
   "metadata": {},
   "outputs": [
    {
     "name": "stdout",
     "output_type": "stream",
     "text": [
      "  1   1   1   1\n",
      "  2   2   2  10\n",
      "  3   3   3  11\n",
      "  4   4   4 100\n",
      "  5   5   5 101\n"
     ]
    }
   ],
   "source": [
    "def print_formatted(number):\n",
    "    w = len(\"{0:b}\".format(n))\n",
    "    for i in range(1,n+1):\n",
    "        print (\"{0:{width}d} {0:{width}o} {0:{width}x} {0:{width}b}\".format(i, width=w))\n",
    "\n",
    "print_formatted(5)"
   ]
  }
 ],
 "metadata": {
  "kernelspec": {
   "display_name": "PythonData",
   "language": "python",
   "name": "pythondata"
  },
  "language_info": {
   "codemirror_mode": {
    "name": "ipython",
    "version": 3
   },
   "file_extension": ".py",
   "mimetype": "text/x-python",
   "name": "python",
   "nbconvert_exporter": "python",
   "pygments_lexer": "ipython3",
   "version": "3.7.13"
  }
 },
 "nbformat": 4,
 "nbformat_minor": 5
}
