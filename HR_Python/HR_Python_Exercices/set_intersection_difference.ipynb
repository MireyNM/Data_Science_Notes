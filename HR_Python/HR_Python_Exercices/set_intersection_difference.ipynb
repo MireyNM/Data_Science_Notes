{
 "cells": [
  {
   "cell_type": "markdown",
   "id": "146149c5",
   "metadata": {},
   "source": [
    "**HackerRank Task**\n",
    "\n",
    "The students of District College have subscriptions to English and French newspapers. Some students have subscribed only to English, some have subscribed only to French, and some have subscribed to both newspapers.\n",
    "\n",
    "You are given two sets of student roll numbers. One set has subscribed to the English newspaper, one set has subscribed to the French newspaper. Your task is to find the total number of students who have subscribed to both newspapers. "
   ]
  },
  {
   "cell_type": "code",
   "execution_count": 2,
   "id": "60888a19",
   "metadata": {},
   "outputs": [
    {
     "name": "stdout",
     "output_type": "stream",
     "text": [
      "9\n",
      "1 2 3 4 5 6 7 8 9\n",
      "9\n",
      "10 1 2 3 11 21 55 6 8\n",
      "Nb of studensts subscribed to both is 5\n"
     ]
    }
   ],
   "source": [
    "# English subs \n",
    "# Nb of Students subscribed to Eng newspaper\n",
    "n = int(input())\n",
    "# Roll nb of these students \n",
    "roll_nb_eng = set(map(int, input().split(' ')))\n",
    "\n",
    "# French Subs \n",
    "# Nb of Students subscribed to French newspaper\n",
    "b = int(input())\n",
    "# Roll nb of these students \n",
    "roll_nb_fr = set(map(int, input().split(' ')))\n",
    "\n",
    "# Nb of studenst Subs to Engl & French \n",
    "print(f'Nb of studensts subscribed to both is {len(roll_nb_eng.intersection(roll_nb_fr))}')"
   ]
  },
  {
   "cell_type": "code",
   "execution_count": 4,
   "id": "223ab968",
   "metadata": {},
   "outputs": [
    {
     "name": "stdout",
     "output_type": "stream",
     "text": [
      "Nb of studensts subscribed to English newspaper only is 4\n"
     ]
    }
   ],
   "source": [
    "# Nb of studenst Subs to Engl only\n",
    "print(f'Nb of studensts subscribed to English newspaper only is {len(roll_nb_eng.difference(roll_nb_fr))}')"
   ]
  },
  {
   "cell_type": "code",
   "execution_count": 5,
   "id": "c0fecc90",
   "metadata": {},
   "outputs": [
    {
     "name": "stdout",
     "output_type": "stream",
     "text": [
      "Nb of studensts subscribed to English or French newspaper only is 8\n"
     ]
    }
   ],
   "source": [
    "# Nb of studenst Subs to Engl only or Fr only \n",
    "print(f'Nb of studensts subscribed to English or French newspaper only is {len(roll_nb_eng.symmetric_difference(roll_nb_fr))}')"
   ]
  }
 ],
 "metadata": {
  "kernelspec": {
   "display_name": "PythonData",
   "language": "python",
   "name": "pythondata"
  },
  "language_info": {
   "codemirror_mode": {
    "name": "ipython",
    "version": 3
   },
   "file_extension": ".py",
   "mimetype": "text/x-python",
   "name": "python",
   "nbconvert_exporter": "python",
   "pygments_lexer": "ipython3",
   "version": "3.7.13"
  }
 },
 "nbformat": 4,
 "nbformat_minor": 5
}
