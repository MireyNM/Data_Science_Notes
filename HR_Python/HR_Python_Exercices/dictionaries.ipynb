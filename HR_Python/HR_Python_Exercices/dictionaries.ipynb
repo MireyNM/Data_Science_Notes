{
 "cells": [
  {
   "cell_type": "markdown",
   "id": "e97bf889",
   "metadata": {},
   "source": [
    "## Dictionaries\n",
    "Key-value pairs; **Keys should be unique**"
   ]
  },
  {
   "cell_type": "code",
   "execution_count": 1,
   "id": "368c6f5f",
   "metadata": {},
   "outputs": [],
   "source": [
    "customer ={\n",
    "    \"name\": \"Mireille\", \n",
    "    \"last name\": \"Nehme\",\n",
    "    \"age\": 30, \n",
    "    \"graduated\": True \n",
    "}"
   ]
  },
  {
   "cell_type": "code",
   "execution_count": 2,
   "id": "c71aeb73",
   "metadata": {},
   "outputs": [
    {
     "data": {
      "text/plain": [
       "'Mireille'"
      ]
     },
     "execution_count": 2,
     "metadata": {},
     "output_type": "execute_result"
    }
   ],
   "source": [
    "customer.get(\"name\")"
   ]
  },
  {
   "cell_type": "code",
   "execution_count": 3,
   "id": "5d857209",
   "metadata": {},
   "outputs": [
    {
     "data": {
      "text/plain": [
       "dict_items([('name', 'Mireille'), ('last name', 'Nehme'), ('age', 30), ('graduated', True)])"
      ]
     },
     "execution_count": 3,
     "metadata": {},
     "output_type": "execute_result"
    }
   ],
   "source": [
    "customer.items()"
   ]
  },
  {
   "cell_type": "code",
   "execution_count": 4,
   "id": "eeaeed3f",
   "metadata": {},
   "outputs": [
    {
     "data": {
      "text/plain": [
       "{'name': 'Mireille',\n",
       " 'last name': 'Nehme',\n",
       " 'age': 30,\n",
       " 'graduated': True,\n",
       " 'birthdate': 'August 20'}"
      ]
     },
     "execution_count": 4,
     "metadata": {},
     "output_type": "execute_result"
    }
   ],
   "source": [
    "customer['birthdate'] = \"August 20\"\n",
    "customer"
   ]
  },
  {
   "cell_type": "markdown",
   "id": "7b94745c",
   "metadata": {},
   "source": [
    "## Code asking for phone numbers in didgit and will translate it to words \n"
   ]
  },
  {
   "cell_type": "code",
   "execution_count": 5,
   "id": "2eea9754",
   "metadata": {},
   "outputs": [
    {
     "name": "stdout",
     "output_type": "stream",
     "text": [
      "Phone: 1234\n"
     ]
    }
   ],
   "source": [
    "# Input digit number 1234\n",
    "phone = input(\"Phone: \") "
   ]
  },
  {
   "cell_type": "markdown",
   "id": "fc9c604a",
   "metadata": {},
   "source": [
    "# Transfor numbers to words \n",
    "numbers = {\n",
    "    \"1\": \"One\",\n",
    "    \"2\":\"Two\",\n",
    "    \"3\": \"Three\",\n",
    "    \"4\": \"Four\"\n",
    "}\n",
    "\n",
    "output = \"\"\n",
    "\n",
    "for number in phone:\n",
    "        output += numbers.get(number) + ' '\n",
    "print(output)"
   ]
  },
  {
   "cell_type": "markdown",
   "id": "d91babc5",
   "metadata": {},
   "source": [
    "## Emoji converter"
   ]
  },
  {
   "cell_type": "code",
   "execution_count": 8,
   "id": "3abfdbd2",
   "metadata": {},
   "outputs": [
    {
     "name": "stdout",
     "output_type": "stream",
     "text": [
      ">I am sad :(\n",
      "I am sad 😔 \n"
     ]
    }
   ],
   "source": [
    "message = input('>')  # I am sad :(\n",
    "\n",
    "# Split message to words \n",
    "words = message.split(' ')\n",
    "\n",
    "# Mapping emojis \n",
    "emojis = {\n",
    "    \":)\": \"😃\",\n",
    "    \":(\": \"😔\"\n",
    "}\n",
    "\n",
    "output = \"\"\n",
    "for word in words:\n",
    "    output += emojis.get(word, word) + ' '\n",
    "\n",
    "print(output)\n"
   ]
  },
  {
   "cell_type": "markdown",
   "id": "63f9dbce",
   "metadata": {},
   "source": [
    "# Count the nb of word occurences "
   ]
  },
  {
   "cell_type": "code",
   "execution_count": 29,
   "id": "5309e5de",
   "metadata": {},
   "outputs": [
    {
     "name": "stdout",
     "output_type": "stream",
     "text": [
      "4\n",
      "bcdef\n",
      "abcdefg\n",
      "bcde\n",
      "bcdef\n",
      "4\n"
     ]
    }
   ],
   "source": [
    "n = int(input())  # 4\n",
    "count_words = dict()\n",
    "count_dist = 0\n",
    "\n",
    "for i in range(n):\n",
    "    word = input()   # bcdef abcdefg bcde bcdef\n",
    "    count_all += 1 \n",
    "    if word in count_words:\n",
    "        count_words[word] += 1\n",
    "    else:\n",
    "        count_words[word] =1\n",
    "        \n",
    "# Count of total nb of words \n",
    "print(count_all)\n"
   ]
  },
  {
   "cell_type": "code",
   "execution_count": 31,
   "id": "553eda50",
   "metadata": {},
   "outputs": [
    {
     "name": "stdout",
     "output_type": "stream",
     "text": [
      "2 1 1 "
     ]
    }
   ],
   "source": [
    "for value in count_words.values():\n",
    "    print(value, end= ' ')"
   ]
  },
  {
   "cell_type": "code",
   "execution_count": 32,
   "id": "08a8bd9d",
   "metadata": {},
   "outputs": [
    {
     "name": "stdout",
     "output_type": "stream",
     "text": [
      "3\n"
     ]
    }
   ],
   "source": [
    "# Count of distinct nb of words \n",
    "print(len(count_words.values()))"
   ]
  }
 ],
 "metadata": {
  "kernelspec": {
   "display_name": "PythonData",
   "language": "python",
   "name": "pythondata"
  },
  "language_info": {
   "codemirror_mode": {
    "name": "ipython",
    "version": 3
   },
   "file_extension": ".py",
   "mimetype": "text/x-python",
   "name": "python",
   "nbconvert_exporter": "python",
   "pygments_lexer": "ipython3",
   "version": "3.7.13"
  }
 },
 "nbformat": 4,
 "nbformat_minor": 5
}
