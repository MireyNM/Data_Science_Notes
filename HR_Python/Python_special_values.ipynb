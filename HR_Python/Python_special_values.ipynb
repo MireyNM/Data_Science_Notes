{
 "cells": [
  {
   "cell_type": "markdown",
   "id": "ad6c98b1",
   "metadata": {},
   "source": [
    "# float('inf')\n",
    "## In Python, float('inf') represents positive infinity, which is a special floating-point value that is greater than any finite number. \n",
    "It is used to indicate unbounded or unlimited values in calculations, comparisons, or other operations."
   ]
  },
  {
   "cell_type": "code",
   "execution_count": 2,
   "id": "4dc56ea8",
   "metadata": {},
   "outputs": [
    {
     "name": "stdout",
     "output_type": "stream",
     "text": [
      "0.0\n"
     ]
    }
   ],
   "source": [
    "# Dividing any positive number by positive infinity results in 0\n",
    "result3 = 100 / float('inf')\n",
    "print(result3)  # Output: 0.0"
   ]
  },
  {
   "cell_type": "markdown",
   "id": "5e4c3a28",
   "metadata": {},
   "source": [
    "You can use float('inf') to find the maximum or minimum value in a list by initializing variables to float('-inf') for the maximum and float('inf') for the minimum. "
   ]
  },
  {
   "cell_type": "code",
   "execution_count": 5,
   "id": "f27e4483",
   "metadata": {},
   "outputs": [
    {
     "name": "stdout",
     "output_type": "stream",
     "text": [
      "Maximum value: 25\n",
      "Minimum value: 3\n"
     ]
    }
   ],
   "source": [
    "# Example list\n",
    "numbers = [10, 5, 25, 8, 3, 15]\n",
    "\n",
    "# Initialize variables for maximum and minimum\n",
    "max_value = float('-inf')\n",
    "min_value = float('inf')\n",
    "\n",
    "# Find the maximum and minimum values in the list\n",
    "for num in numbers:\n",
    "    if num > max_value:\n",
    "        max_value = num\n",
    "    if num < min_value:\n",
    "        min_value = num\n",
    "\n",
    "# Print the results\n",
    "print(\"Maximum value:\", max_value)  # Output: Maximum value: 25\n",
    "print(\"Minimum value:\", min_value)  # Output: Minimum value: 3\n"
   ]
  },
  {
   "cell_type": "markdown",
   "id": "b46f5459",
   "metadata": {},
   "source": [
    "### Inf is  case insensitive. \n",
    "You can choose any of the following to create inf:"
   ]
  },
  {
   "cell_type": "code",
   "execution_count": 7,
   "id": "f5a89920",
   "metadata": {},
   "outputs": [
    {
     "data": {
      "text/plain": [
       "inf"
      ]
     },
     "execution_count": 7,
     "metadata": {},
     "output_type": "execute_result"
    }
   ],
   "source": [
    "float(\"Inf\")\n",
    "float(\"INf\")\n",
    "float(\"InF\")\n",
    "float(\"INF\")\n",
    "float(\"iNf\")\n",
    "float(\"inF\")\n",
    "float(\"iNF\")\n",
    "float(\"inf\")\n",
    "float(\"+inf\")\n",
    "float(\"infinity\")\n",
    "float(\"inFINity\")"
   ]
  },
  {
   "cell_type": "markdown",
   "id": "3f094fdd",
   "metadata": {},
   "source": [
    "### Note: inf and Nan can only be defined by the float type. You cannot create them without float or convert them to another type."
   ]
  },
  {
   "cell_type": "code",
   "execution_count": 8,
   "id": "8cd6154d",
   "metadata": {},
   "outputs": [
    {
     "ename": "ValueError",
     "evalue": "invalid literal for int() with base 10: 'inf'",
     "output_type": "error",
     "traceback": [
      "\u001b[0;31m---------------------------------------------------------------------------\u001b[0m",
      "\u001b[0;31mValueError\u001b[0m                                Traceback (most recent call last)",
      "\u001b[0;32m/var/folders/22/6yjgvchj59n3fw3c208txjnm0000gn/T/ipykernel_9822/766272949.py\u001b[0m in \u001b[0;36m<module>\u001b[0;34m\u001b[0m\n\u001b[0;32m----> 1\u001b[0;31m \u001b[0mint\u001b[0m\u001b[0;34m(\u001b[0m\u001b[0;34m\"inf\"\u001b[0m\u001b[0;34m)\u001b[0m\u001b[0;34m\u001b[0m\u001b[0;34m\u001b[0m\u001b[0m\n\u001b[0m",
      "\u001b[0;31mValueError\u001b[0m: invalid literal for int() with base 10: 'inf'"
     ]
    }
   ],
   "source": [
    "int(\"inf\")"
   ]
  },
  {
   "cell_type": "markdown",
   "id": "769c2a9b",
   "metadata": {},
   "source": [
    "# NaN\n",
    "## Not a Number \n",
    "In mathematics, sqrt(-1) in real numbers or 0/0 (zero over zero) gives an undefined number, which can be defined as Nan. In data science, Nan is used to represent the missing values in a dataset. So Nan is basically a placeholder to represent undefined or missing values.\n",
    "\n",
    "\"Nan\" is case insensitive. So you can use any format below to create a \"Nan\" value."
   ]
  },
  {
   "cell_type": "code",
   "execution_count": 4,
   "id": "91b5c93e",
   "metadata": {},
   "outputs": [
    {
     "data": {
      "text/plain": [
       "nan"
      ]
     },
     "execution_count": 4,
     "metadata": {},
     "output_type": "execute_result"
    }
   ],
   "source": [
    "float(\"Nan\")\n",
    "float(\"NAn\")\n",
    "float(\"NAN\")\n",
    "float(\"NaN\")\n",
    "float(\"nAn\")\n",
    "float(\"nAN\")\n",
    "float(\"naN\")\n",
    "float(\"nan\")\n",
    "float(\"+nan\")\n",
    "float(\"-nan\")\n"
   ]
  }
 ],
 "metadata": {
  "kernelspec": {
   "display_name": "PythonData",
   "language": "python",
   "name": "pythondata"
  },
  "language_info": {
   "codemirror_mode": {
    "name": "ipython",
    "version": 3
   },
   "file_extension": ".py",
   "mimetype": "text/x-python",
   "name": "python",
   "nbconvert_exporter": "python",
   "pygments_lexer": "ipython3",
   "version": "3.7.13"
  }
 },
 "nbformat": 4,
 "nbformat_minor": 5
}
