{
 "cells": [
  {
   "cell_type": "markdown",
   "id": "382b1d04",
   "metadata": {},
   "source": [
    "# Variables in Python"
   ]
  },
  {
   "cell_type": "code",
   "execution_count": 1,
   "id": "84ea6626",
   "metadata": {},
   "outputs": [
    {
     "name": "stdout",
     "output_type": "stream",
     "text": [
      "Hello Python\n"
     ]
    }
   ],
   "source": [
    "print(\"Hello Python\")"
   ]
  },
  {
   "cell_type": "code",
   "execution_count": 2,
   "id": "e0007a6a",
   "metadata": {},
   "outputs": [],
   "source": [
    "x = 22\n",
    "y=3.0"
   ]
  },
  {
   "cell_type": "code",
   "execution_count": 3,
   "id": "c9e3529d",
   "metadata": {},
   "outputs": [
    {
     "name": "stdout",
     "output_type": "stream",
     "text": [
      "22\n"
     ]
    }
   ],
   "source": [
    "print(x)"
   ]
  },
  {
   "cell_type": "code",
   "execution_count": 4,
   "id": "1980194e",
   "metadata": {},
   "outputs": [
    {
     "name": "stdout",
     "output_type": "stream",
     "text": [
      "3.0\n"
     ]
    }
   ],
   "source": [
    "print(y)"
   ]
  },
  {
   "cell_type": "code",
   "execution_count": 5,
   "id": "e1f80179",
   "metadata": {},
   "outputs": [
    {
     "name": "stdout",
     "output_type": "stream",
     "text": [
      "My favorite flavor is chocolate\n"
     ]
    }
   ],
   "source": [
    "x=\"My favorite\"\n",
    "y=\" flavor\"\n",
    "z= \" is chocolate\"\n",
    "print(x+y+z)"
   ]
  },
  {
   "cell_type": "markdown",
   "id": "4b6975a7",
   "metadata": {},
   "source": [
    "### Can't concatenate string and integer "
   ]
  },
  {
   "cell_type": "code",
   "execution_count": 6,
   "id": "63c11f29",
   "metadata": {},
   "outputs": [],
   "source": [
    "x=\"My favorite\"\n",
    "y=\" number is\"\n",
    "z= 2\n",
    "# print(x+y+z)"
   ]
  },
  {
   "cell_type": "markdown",
   "id": "f0f074e5",
   "metadata": {},
   "source": [
    "### Use , to print string and integer "
   ]
  },
  {
   "cell_type": "code",
   "execution_count": 7,
   "id": "d6311e3e",
   "metadata": {},
   "outputs": [
    {
     "name": "stdout",
     "output_type": "stream",
     "text": [
      "My favorite  number is 2\n"
     ]
    }
   ],
   "source": [
    "x=\"My favorite\"\n",
    "y=\" number is\"\n",
    "z= 2\n",
    "print(x,y,z)"
   ]
  },
  {
   "cell_type": "markdown",
   "id": "0ff61b61",
   "metadata": {},
   "source": [
    "# Data Types\n",
    "### 1- Integer"
   ]
  },
  {
   "cell_type": "code",
   "execution_count": 8,
   "id": "602d30ca",
   "metadata": {},
   "outputs": [
    {
     "data": {
      "text/plain": [
       "int"
      ]
     },
     "execution_count": 8,
     "metadata": {},
     "output_type": "execute_result"
    }
   ],
   "source": [
    "type(-12+30)"
   ]
  },
  {
   "cell_type": "markdown",
   "id": "19cbdbae",
   "metadata": {},
   "source": [
    "###  2- Float"
   ]
  },
  {
   "cell_type": "code",
   "execution_count": 9,
   "id": "5669000e",
   "metadata": {},
   "outputs": [
    {
     "data": {
      "text/plain": [
       "float"
      ]
     },
     "execution_count": 9,
     "metadata": {},
     "output_type": "execute_result"
    }
   ],
   "source": [
    "type(12+10.1)"
   ]
  },
  {
   "cell_type": "markdown",
   "id": "cb5bfd0f",
   "metadata": {},
   "source": [
    "### 3- Complex "
   ]
  },
  {
   "cell_type": "code",
   "execution_count": 10,
   "id": "42e71603",
   "metadata": {},
   "outputs": [
    {
     "data": {
      "text/plain": [
       "complex"
      ]
     },
     "execution_count": 10,
     "metadata": {},
     "output_type": "execute_result"
    }
   ],
   "source": [
    "type(3+1j)"
   ]
  },
  {
   "cell_type": "markdown",
   "id": "27ff8aef",
   "metadata": {},
   "source": [
    "### 4- String "
   ]
  },
  {
   "cell_type": "code",
   "execution_count": 11,
   "id": "ce0be773",
   "metadata": {},
   "outputs": [
    {
     "data": {
      "text/plain": [
       "str"
      ]
     },
     "execution_count": 11,
     "metadata": {},
     "output_type": "execute_result"
    }
   ],
   "source": [
    "type(\"Choco\")"
   ]
  },
  {
   "cell_type": "code",
   "execution_count": 12,
   "id": "03993932",
   "metadata": {},
   "outputs": [
    {
     "data": {
      "text/plain": [
       "'Single qote'"
      ]
     },
     "execution_count": 12,
     "metadata": {},
     "output_type": "execute_result"
    }
   ],
   "source": [
    "'Single qote'"
   ]
  },
  {
   "cell_type": "code",
   "execution_count": 13,
   "id": "daacca1c",
   "metadata": {},
   "outputs": [
    {
     "data": {
      "text/plain": [
       "'Doublw quote'"
      ]
     },
     "execution_count": 13,
     "metadata": {},
     "output_type": "execute_result"
    }
   ],
   "source": [
    "\"Doublw quote\""
   ]
  },
  {
   "cell_type": "code",
   "execution_count": 14,
   "id": "0d7c9397",
   "metadata": {},
   "outputs": [
    {
     "data": {
      "text/plain": [
       "\"Use double quotes if I've an appostrophy in my sentence\""
      ]
     },
     "execution_count": 14,
     "metadata": {},
     "output_type": "execute_result"
    }
   ],
   "source": [
    "\"Use double quotes if I've an appostrophy in my sentence\""
   ]
  },
  {
   "cell_type": "code",
   "execution_count": 15,
   "id": "804b7d28",
   "metadata": {},
   "outputs": [],
   "source": [
    "multiline= \"\"\"\n",
    "You can use triple quotes \n",
    "to write \n",
    "multiline \n",
    "\"\"\""
   ]
  },
  {
   "cell_type": "code",
   "execution_count": 16,
   "id": "e9653b4e",
   "metadata": {},
   "outputs": [
    {
     "name": "stdout",
     "output_type": "stream",
     "text": [
      "\n",
      "You can use triple quotes \n",
      "to write \n",
      "multiline \n",
      "\n"
     ]
    }
   ],
   "source": [
    "print(multiline)"
   ]
  },
  {
   "cell_type": "code",
   "execution_count": 17,
   "id": "4133af84",
   "metadata": {},
   "outputs": [
    {
     "data": {
      "text/plain": [
       "' Use triple quotes if you have \"double quotes \" in the sentence'"
      ]
     },
     "execution_count": 17,
     "metadata": {},
     "output_type": "execute_result"
    }
   ],
   "source": [
    "\"\"\" Use triple quotes if you have \"double quotes \" in the sentence\"\"\""
   ]
  },
  {
   "cell_type": "markdown",
   "id": "f40abb73",
   "metadata": {},
   "source": [
    "### Strings are indexed "
   ]
  },
  {
   "cell_type": "code",
   "execution_count": 18,
   "id": "f3628f64",
   "metadata": {},
   "outputs": [
    {
     "name": "stdout",
     "output_type": "stream",
     "text": [
      "l\n"
     ]
    }
   ],
   "source": [
    "a = \"Hello world\"\n",
    "print(a[2])"
   ]
  },
  {
   "cell_type": "code",
   "execution_count": 19,
   "id": "b9dadaa4",
   "metadata": {},
   "outputs": [
    {
     "name": "stdout",
     "output_type": "stream",
     "text": [
      "el\n"
     ]
    }
   ],
   "source": [
    "print(a[1:3])"
   ]
  },
  {
   "cell_type": "code",
   "execution_count": 20,
   "id": "fff45ca1",
   "metadata": {},
   "outputs": [
    {
     "data": {
      "text/plain": [
       "'Hello worldHello world'"
      ]
     },
     "execution_count": 20,
     "metadata": {},
     "output_type": "execute_result"
    }
   ],
   "source": [
    "a*2"
   ]
  },
  {
   "cell_type": "markdown",
   "id": "470f5fe8",
   "metadata": {},
   "source": [
    "### 5-Boolean"
   ]
  },
  {
   "cell_type": "code",
   "execution_count": 21,
   "id": "e5a02ba6",
   "metadata": {},
   "outputs": [
    {
     "data": {
      "text/plain": [
       "bool"
      ]
     },
     "execution_count": 21,
     "metadata": {},
     "output_type": "execute_result"
    }
   ],
   "source": [
    "type(1>5)"
   ]
  },
  {
   "cell_type": "code",
   "execution_count": 22,
   "id": "bf4f0390",
   "metadata": {},
   "outputs": [
    {
     "data": {
      "text/plain": [
       "False"
      ]
     },
     "execution_count": 22,
     "metadata": {},
     "output_type": "execute_result"
    }
   ],
   "source": [
    "1>5"
   ]
  },
  {
   "cell_type": "code",
   "execution_count": 23,
   "id": "479f7cc9",
   "metadata": {},
   "outputs": [
    {
     "data": {
      "text/plain": [
       "True"
      ]
     },
     "execution_count": 23,
     "metadata": {},
     "output_type": "execute_result"
    }
   ],
   "source": [
    "1==1"
   ]
  }
 ],
 "metadata": {
  "kernelspec": {
   "display_name": "PythonData",
   "language": "python",
   "name": "pythondata"
  },
  "language_info": {
   "codemirror_mode": {
    "name": "ipython",
    "version": 3
   },
   "file_extension": ".py",
   "mimetype": "text/x-python",
   "name": "python",
   "nbconvert_exporter": "python",
   "pygments_lexer": "ipython3",
   "version": "3.7.13"
  }
 },
 "nbformat": 4,
 "nbformat_minor": 5
}
