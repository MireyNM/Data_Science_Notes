{
 "cells": [
  {
   "cell_type": "markdown",
   "id": "853aa4f7",
   "metadata": {},
   "source": [
    "## Function"
   ]
  },
  {
   "cell_type": "code",
   "execution_count": 1,
   "id": "3b0d73a8",
   "metadata": {},
   "outputs": [],
   "source": [
    "def first_func():\n",
    "    print('We did it!')"
   ]
  },
  {
   "cell_type": "code",
   "execution_count": 2,
   "id": "26680954",
   "metadata": {},
   "outputs": [
    {
     "name": "stdout",
     "output_type": "stream",
     "text": [
      "We did it!\n"
     ]
    }
   ],
   "source": [
    "# To run the function you have to call it\n",
    "first_func()"
   ]
  },
  {
   "cell_type": "markdown",
   "id": "4117909d",
   "metadata": {},
   "source": [
    "## Function with 1 argument"
   ]
  },
  {
   "cell_type": "code",
   "execution_count": 3,
   "id": "8c904553",
   "metadata": {},
   "outputs": [],
   "source": [
    "def number_squared(number):\n",
    "    print(number**2)"
   ]
  },
  {
   "cell_type": "code",
   "execution_count": 4,
   "id": "37e41c8f",
   "metadata": {},
   "outputs": [
    {
     "name": "stdout",
     "output_type": "stream",
     "text": [
      "4\n"
     ]
    }
   ],
   "source": [
    "# Call argumnet 2 \n",
    "number_squared(2)"
   ]
  },
  {
   "cell_type": "code",
   "execution_count": 5,
   "id": "29e785c3",
   "metadata": {},
   "outputs": [
    {
     "name": "stdout",
     "output_type": "stream",
     "text": [
      "25\n"
     ]
    }
   ],
   "source": [
    "number_squared(5)"
   ]
  },
  {
   "cell_type": "markdown",
   "id": "5c2ad0ca",
   "metadata": {},
   "source": [
    "## Function with 2 arguments"
   ]
  },
  {
   "cell_type": "code",
   "execution_count": 6,
   "id": "5e592ee3",
   "metadata": {},
   "outputs": [],
   "source": [
    "def number_squared_cust(number, power):\n",
    "    print(number**power)"
   ]
  },
  {
   "cell_type": "code",
   "execution_count": 7,
   "id": "6f4b5ad5",
   "metadata": {},
   "outputs": [
    {
     "name": "stdout",
     "output_type": "stream",
     "text": [
      "125\n"
     ]
    }
   ],
   "source": [
    "number_squared_cust(5,3)"
   ]
  },
  {
   "cell_type": "markdown",
   "id": "bd3ace8c",
   "metadata": {},
   "source": [
    "## *args to call an arbitrary nb of arguments \n",
    "- When we don't know how many Arguments we want to pass into the function "
   ]
  },
  {
   "cell_type": "code",
   "execution_count": 8,
   "id": "0fb54583",
   "metadata": {},
   "outputs": [],
   "source": [
    "def number_args(*args):\n",
    "    print(args[0]*args[1])\n",
    "\n",
    "# Or \n",
    "#def number_args(*number):\n",
    "#    print(number[0]*number[1])"
   ]
  },
  {
   "cell_type": "code",
   "execution_count": 11,
   "id": "e26a9f0e",
   "metadata": {},
   "outputs": [
    {
     "name": "stdout",
     "output_type": "stream",
     "text": [
      "15\n"
     ]
    }
   ],
   "source": [
    "number_args(5,3)"
   ]
  },
  {
   "cell_type": "code",
   "execution_count": 12,
   "id": "50363089",
   "metadata": {},
   "outputs": [
    {
     "name": "stdout",
     "output_type": "stream",
     "text": [
      "15\n"
     ]
    }
   ],
   "source": [
    "# Call tuple\n",
    "number_args(5,3,2,6)"
   ]
  },
  {
   "cell_type": "code",
   "execution_count": 13,
   "id": "de8bafbb",
   "metadata": {},
   "outputs": [
    {
     "name": "stdout",
     "output_type": "stream",
     "text": [
      "8\n"
     ]
    }
   ],
   "source": [
    "## Best way to write this:\n",
    "\n",
    "arg_tuple = (2,4,5,8)\n",
    "\n",
    "def numbers_args(*args):\n",
    "    print(args[0]*args[1])\n",
    "\n",
    "# If we don't add * it will ot work\n",
    "number_args(*arg_tuple)"
   ]
  },
  {
   "cell_type": "markdown",
   "id": "4d651d5f",
   "metadata": {},
   "source": [
    "## **kwargs : Arbitrary key word argument\n",
    "- When we don't know how many key word Arguments we want to pass into the function  "
   ]
  },
  {
   "cell_type": "code",
   "execution_count": 14,
   "id": "ebeda56b",
   "metadata": {},
   "outputs": [],
   "source": [
    "def number_squared_cust(number, power):\n",
    "    print(number**power)"
   ]
  },
  {
   "cell_type": "code",
   "execution_count": 16,
   "id": "968d81d0",
   "metadata": {},
   "outputs": [
    {
     "name": "stdout",
     "output_type": "stream",
     "text": [
      "243\n"
     ]
    }
   ],
   "source": [
    "# Key words power and number give us the flexibility \n",
    "# No need to write them in order\n",
    "number_squared_cust(power=5, number=3)"
   ]
  },
  {
   "cell_type": "code",
   "execution_count": 35,
   "id": "d95b4129",
   "metadata": {},
   "outputs": [
    {
     "name": "stdout",
     "output_type": "stream",
     "text": [
      "My number is: 23\n",
      "My color is: white\n"
     ]
    }
   ],
   "source": [
    "def number_Kwargs(**number):\n",
    "    print('My number is: '+ number['integer'] +'\\nMy color is: ' + number['integer2'])\n",
    "\n",
    "number_Kwargs(integer= '23', integer2 = 'white')"
   ]
  }
 ],
 "metadata": {
  "kernelspec": {
   "display_name": "PythonData",
   "language": "python",
   "name": "pythondata"
  },
  "language_info": {
   "codemirror_mode": {
    "name": "ipython",
    "version": 3
   },
   "file_extension": ".py",
   "mimetype": "text/x-python",
   "name": "python",
   "nbconvert_exporter": "python",
   "pygments_lexer": "ipython3",
   "version": "3.7.13"
  }
 },
 "nbformat": 4,
 "nbformat_minor": 5
}
