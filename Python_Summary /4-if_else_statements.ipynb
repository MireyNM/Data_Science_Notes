{
 "cells": [
  {
   "cell_type": "markdown",
   "id": "8dbd60e1",
   "metadata": {},
   "source": [
    "## if... else:"
   ]
  },
  {
   "cell_type": "code",
   "execution_count": 2,
   "id": "abe13e64",
   "metadata": {},
   "outputs": [],
   "source": [
    "if 5> 100:\n",
    "    print('True')"
   ]
  },
  {
   "cell_type": "code",
   "execution_count": 4,
   "id": "bf5ad9d6",
   "metadata": {},
   "outputs": [
    {
     "name": "stdout",
     "output_type": "stream",
     "text": [
      "False\n"
     ]
    }
   ],
   "source": [
    "if 10 < 5:\n",
    "    print('True')\n",
    "else:\n",
    "    print(\"False\")\n",
    "    "
   ]
  },
  {
   "cell_type": "markdown",
   "id": "7e83f4b3",
   "metadata": {},
   "source": [
    "## if...elif...elif...else: "
   ]
  },
  {
   "cell_type": "code",
   "execution_count": 9,
   "id": "ba12b785",
   "metadata": {},
   "outputs": [
    {
     "name": "stdout",
     "output_type": "stream",
     "text": [
      "20\n",
      "Weird\n"
     ]
    }
   ],
   "source": [
    "n = int(input().strip())\n",
    "\n",
    "if n % 2 != 0:\n",
    "    print(\"Weird\")\n",
    "elif n % 2 == 0 and 2 <= n <= 5:\n",
    "    print(\"Not Weird\")\n",
    "elif n % 2 == 0 and 6 <= n <= 20:\n",
    "    print(\"Weird\")\n",
    "else:\n",
    "    print(\"Not Weird\")"
   ]
  },
  {
   "cell_type": "markdown",
   "id": "978b469c",
   "metadata": {},
   "source": [
    "## if...else statement in one line"
   ]
  },
  {
   "cell_type": "code",
   "execution_count": 6,
   "id": "4d46ce96",
   "metadata": {},
   "outputs": [
    {
     "name": "stdout",
     "output_type": "stream",
     "text": [
      "Didn't work\n"
     ]
    }
   ],
   "source": [
    "print(\"It worked\") if (10>20) else print(\"Didn't work\")"
   ]
  }
 ],
 "metadata": {
  "kernelspec": {
   "display_name": "PythonData",
   "language": "python",
   "name": "pythondata"
  },
  "language_info": {
   "codemirror_mode": {
    "name": "ipython",
    "version": 3
   },
   "file_extension": ".py",
   "mimetype": "text/x-python",
   "name": "python",
   "nbconvert_exporter": "python",
   "pygments_lexer": "ipython3",
   "version": "3.7.13"
  }
 },
 "nbformat": 4,
 "nbformat_minor": 5
}
