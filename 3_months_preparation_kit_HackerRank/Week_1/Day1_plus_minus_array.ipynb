{
 "cells": [
  {
   "cell_type": "markdown",
   "id": "aa979281",
   "metadata": {},
   "source": [
    "# Given an array of integers, calculate the ratios of its elements that are positive, negative, and zero. Print the decimal value of each fraction on a new line with 6 places after the decimal."
   ]
  },
  {
   "cell_type": "code",
   "execution_count": 15,
   "id": "84705b6c",
   "metadata": {},
   "outputs": [
    {
     "name": "stdout",
     "output_type": "stream",
     "text": [
      "6\n",
      "-4 3 -9 0 4 1\n",
      "0.5\n",
      "0.333333\n",
      "0.166667\n"
     ]
    }
   ],
   "source": [
    "import math\n",
    "import os\n",
    "import random\n",
    "import re\n",
    "import sys\n",
    "\n",
    "\n",
    "# Complete the 'plusMinus' function below.\n",
    "\n",
    "# The function accepts INTEGER_ARRAY arr as parameter.\n",
    "\n",
    "def plusMinus(arr):\n",
    "\n",
    "    count_positive = 0\n",
    "    count_negative = 0\n",
    "    count_zero = 0\n",
    "\n",
    "    for nb in arr:\n",
    "        if nb > 0:\n",
    "            count_positive += 1 \n",
    "        elif nb < 0:\n",
    "            count_negative += 1\n",
    "        else:\n",
    "            count_zero +=1 \n",
    "            \n",
    "    print(round(count_positive/len(arr),6))        \n",
    "    print(round(count_negative/len(arr),6)) \n",
    "    print(round(count_zero/len(arr),6))    \n",
    "            \n",
    "\n",
    "if __name__ == '__main__':\n",
    "    n = int(input().strip())    # 6\n",
    "\n",
    "    arr = list(map(int, input().rstrip().split()))   # -4 3 -9 0 4 1\n",
    "\n",
    "    plusMinus(arr)"
   ]
  },
  {
   "cell_type": "markdown",
   "id": "8bcfab94",
   "metadata": {},
   "source": [
    "# Notes: \n",
    "## rstrip() is right strip()\n",
    "## lstrip() is left strip()"
   ]
  },
  {
   "cell_type": "code",
   "execution_count": 2,
   "id": "235e92a2",
   "metadata": {},
   "outputs": [
    {
     "name": "stdout",
     "output_type": "stream",
     "text": [
      "     this is string example....wow!!!\n"
     ]
    }
   ],
   "source": [
    "str = \"     this is string example....wow!!!     \"\n",
    "print (str.rstrip())"
   ]
  },
  {
   "cell_type": "code",
   "execution_count": 3,
   "id": "d89c24a6",
   "metadata": {},
   "outputs": [
    {
     "name": "stdout",
     "output_type": "stream",
     "text": [
      "this is string example....wow!!!     \n"
     ]
    }
   ],
   "source": [
    "str = \"     this is string example....wow!!!     \"\n",
    "print (str.lstrip())"
   ]
  }
 ],
 "metadata": {
  "kernelspec": {
   "display_name": "PythonData",
   "language": "python",
   "name": "pythondata"
  },
  "language_info": {
   "codemirror_mode": {
    "name": "ipython",
    "version": 3
   },
   "file_extension": ".py",
   "mimetype": "text/x-python",
   "name": "python",
   "nbconvert_exporter": "python",
   "pygments_lexer": "ipython3",
   "version": "3.7.13"
  }
 },
 "nbformat": 4,
 "nbformat_minor": 5
}
