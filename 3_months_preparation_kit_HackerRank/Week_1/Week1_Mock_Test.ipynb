{
 "cells": [
  {
   "cell_type": "markdown",
   "id": "728ae060",
   "metadata": {},
   "source": [
    "# Week 1 - Test \n",
    "## Given an array of odd numbers elements - Find it's Median"
   ]
  },
  {
   "cell_type": "code",
   "execution_count": 2,
   "id": "e95d47b5",
   "metadata": {},
   "outputs": [
    {
     "name": "stdout",
     "output_type": "stream",
     "text": [
      "3\n"
     ]
    }
   ],
   "source": [
    "arr=[1,9,3,2]\n",
    "\n",
    "sorted_arr=sorted(arr)\n",
    "midlle_i = int(len(arr)/2)\n",
    "print(sorted_arr[midlle_i])"
   ]
  }
 ],
 "metadata": {
  "kernelspec": {
   "display_name": "PythonData",
   "language": "python",
   "name": "pythondata"
  },
  "language_info": {
   "codemirror_mode": {
    "name": "ipython",
    "version": 3
   },
   "file_extension": ".py",
   "mimetype": "text/x-python",
   "name": "python",
   "nbconvert_exporter": "python",
   "pygments_lexer": "ipython3",
   "version": "3.7.13"
  }
 },
 "nbformat": 4,
 "nbformat_minor": 5
}
