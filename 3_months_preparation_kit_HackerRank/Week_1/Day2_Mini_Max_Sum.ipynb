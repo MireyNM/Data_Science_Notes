{
 "cells": [
  {
   "cell_type": "markdown",
   "id": "40ac9e70",
   "metadata": {},
   "source": [
    "# Given five positive integers, find the minimum and maximum values that can be calculated by summing exactly four of the five integers. Then print the respective minimum and maximum values as a single line of two space-separated long integers."
   ]
  },
  {
   "cell_type": "code",
   "execution_count": 12,
   "id": "cbf6aa78",
   "metadata": {},
   "outputs": [
    {
     "name": "stdout",
     "output_type": "stream",
     "text": [
      "1 3 5 7 9\n",
      "16 24\n"
     ]
    }
   ],
   "source": [
    "import math\n",
    "import os\n",
    "import random\n",
    "import re\n",
    "import sys\n",
    "\n",
    "#\n",
    "# Complete the 'miniMaxSum' function below.\n",
    "#\n",
    "# The function accepts INTEGER_ARRAY arr as parameter.\n",
    "#\n",
    "\n",
    "def miniMaxSum(arr):\n",
    "    # Write your code here\n",
    "    sorted_arr = sorted(arr)\n",
    "    print(f'{sum(sorted_arr[0:-1])} {sum(sorted_arr[1:])}')\n",
    "    \n",
    "\n",
    "if __name__ == '__main__':\n",
    "\n",
    "    arr = list(map(int, input().rstrip().split()))  # 1 3 5 7 9\n",
    "\n",
    "    miniMaxSum(arr)"
   ]
  }
 ],
 "metadata": {
  "kernelspec": {
   "display_name": "PythonData",
   "language": "python",
   "name": "pythondata"
  },
  "language_info": {
   "codemirror_mode": {
    "name": "ipython",
    "version": 3
   },
   "file_extension": ".py",
   "mimetype": "text/x-python",
   "name": "python",
   "nbconvert_exporter": "python",
   "pygments_lexer": "ipython3",
   "version": "3.7.13"
  }
 },
 "nbformat": 4,
 "nbformat_minor": 5
}
